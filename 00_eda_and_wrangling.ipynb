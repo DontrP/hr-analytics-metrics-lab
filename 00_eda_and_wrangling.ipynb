{
 "cells": [
  {
   "cell_type": "markdown",
   "id": "a8b2eb0e",
   "metadata": {},
   "source": [
    "# HR ANALYTICS WITH PYTHON: Data Understanding and Preprocessing"
   ]
  },
  {
   "cell_type": "markdown",
   "id": "b1871e7c",
   "metadata": {},
   "source": [
    "## Introduction"
   ]
  },
  {
   "cell_type": "markdown",
   "id": "fdec166f",
   "metadata": {},
   "source": [
    "This notebook provides an exploratory data analysis (EDA) and data cleaning workflow for multiple HR datasets, including employee, recruitment, training, and engagement data. We will explore each dataset to find important patterns, check for missing or inconsistent values, and clean the data to prepare it for further HR analytics. Visualizations and summary tables will be used to highlight key trends and support data-driven decision making.\n",
    "\n",
    "\n",
    "### TABLE OF CONTENTS\n",
    "- [Dataset](#datasets)\n",
    "- [Clean Column Names](#clean-column-names)\n",
    "- [Employee Data](#employee-data)\n",
    "- [Recruitment Data](#recruitment-data)\n",
    "- [Engagement Data](#engagement-data)"
   ]
  },
  {
   "cell_type": "code",
   "execution_count": 44,
   "id": "7cb76757",
   "metadata": {},
   "outputs": [],
   "source": [
    "import pandas as pd\n",
    "import numpy as np\n",
    "import re\n",
    "import matplotlib.pyplot as plt\n",
    "import matplotlib.colors as mcolors\n",
    "import plotly.express as px\n",
    "import plotly.graph_objects as go\n",
    "import seaborn as sns\n",
    "import missingno as msno\n",
    "import warnings\n",
    "from datetime import datetime\n",
    "import spacy\n",
    "\n",
    "# !python -m spacy download en_core_web_sm\n",
    "\n",
    "warnings.filterwarnings('ignore')\n",
    "\n",
    "pd.set_option('display.max_columns', None)"
   ]
  },
  {
   "cell_type": "markdown",
   "id": "b18f0617",
   "metadata": {},
   "source": [
    "### Dataset"
   ]
  },
  {
   "cell_type": "code",
   "execution_count": 45,
   "id": "65ad5f5a",
   "metadata": {},
   "outputs": [],
   "source": [
    "# Load datasets \n",
    "\n",
    "data_files = {\n",
    "    \"employee_df\": \"data/employee_data.csv\",\n",
    "    \"engagement_df\": \"data/employee_engagement_survey_data.csv\",\n",
    "    \"recruit_df\": \"data/recruitment_data.csv\",\n",
    "    \"training_df\": \"data/training_and_development_data.csv\",\n",
    "}\n",
    "\n",
    "def load_datasets(file_dict):\n",
    "    datasets = {}\n",
    "    for key, file_path in file_dict.items():\n",
    "        datasets[key] = pd.read_csv(file_path)\n",
    "    return datasets\n",
    "\n",
    "datasets = load_datasets(data_files)\n",
    "\n",
    "employee_df = datasets[\"employee_df\"] = datasets[\"employee_df\"]\n",
    "engagement_df = datasets[\"engagement_df\"]\n",
    "recruit_df = datasets[\"recruit_df\"]\n",
    "training_df = datasets[\"training_df\"]"
   ]
  },
  {
   "cell_type": "markdown",
   "id": "7c703434",
   "metadata": {},
   "source": [
    "### Clean Column Names"
   ]
  },
  {
   "cell_type": "code",
   "execution_count": 46,
   "id": "98a7a02c",
   "metadata": {},
   "outputs": [],
   "source": [
    "# Clean column names \n",
    "\n",
    "def clean_column_names(df):\n",
    "    df.columns = df.columns.str.strip().str.replace(' ', '').str.replace('(', '').str.replace(')', '').str.replace('-', '').str.replace('_','')\n",
    "    return df\n",
    "\n",
    "employee_df = clean_column_names(employee_df)\n",
    "engagement_df = clean_column_names(engagement_df)\n",
    "recruit_df = clean_column_names(recruit_df)\n",
    "training_df = clean_column_names(training_df)"
   ]
  },
  {
   "cell_type": "code",
   "execution_count": 47,
   "id": "8514a7c3",
   "metadata": {},
   "outputs": [
    {
     "data": {
      "application/vnd.microsoft.datawrangler.viewer.v0+json": {
       "columns": [
        {
         "name": "index",
         "rawType": "int64",
         "type": "integer"
        },
        {
         "name": "EmpID",
         "rawType": "int64",
         "type": "integer"
        },
        {
         "name": "FirstName",
         "rawType": "object",
         "type": "string"
        },
        {
         "name": "LastName",
         "rawType": "object",
         "type": "string"
        },
        {
         "name": "StartDate",
         "rawType": "object",
         "type": "string"
        },
        {
         "name": "ExitDate",
         "rawType": "object",
         "type": "unknown"
        },
        {
         "name": "Title",
         "rawType": "object",
         "type": "string"
        },
        {
         "name": "Supervisor",
         "rawType": "object",
         "type": "string"
        },
        {
         "name": "ADEmail",
         "rawType": "object",
         "type": "string"
        },
        {
         "name": "BusinessUnit",
         "rawType": "object",
         "type": "string"
        },
        {
         "name": "EmployeeStatus",
         "rawType": "object",
         "type": "string"
        },
        {
         "name": "EmployeeType",
         "rawType": "object",
         "type": "string"
        },
        {
         "name": "PayZone",
         "rawType": "object",
         "type": "string"
        },
        {
         "name": "EmployeeClassificationType",
         "rawType": "object",
         "type": "string"
        },
        {
         "name": "TerminationType",
         "rawType": "object",
         "type": "string"
        },
        {
         "name": "TerminationDescription",
         "rawType": "object",
         "type": "unknown"
        },
        {
         "name": "DepartmentType",
         "rawType": "object",
         "type": "string"
        },
        {
         "name": "Division",
         "rawType": "object",
         "type": "string"
        },
        {
         "name": "DOB",
         "rawType": "object",
         "type": "string"
        },
        {
         "name": "State",
         "rawType": "object",
         "type": "string"
        },
        {
         "name": "JobFunctionDescription",
         "rawType": "object",
         "type": "string"
        },
        {
         "name": "GenderCode",
         "rawType": "object",
         "type": "string"
        },
        {
         "name": "LocationCode",
         "rawType": "int64",
         "type": "integer"
        },
        {
         "name": "RaceDesc",
         "rawType": "object",
         "type": "string"
        },
        {
         "name": "MaritalDesc",
         "rawType": "object",
         "type": "string"
        },
        {
         "name": "PerformanceScore",
         "rawType": "object",
         "type": "string"
        },
        {
         "name": "CurrentEmployeeRating",
         "rawType": "int64",
         "type": "integer"
        }
       ],
       "ref": "24c3b462-33b9-46e8-a3a1-fca5d0d794f2",
       "rows": [
        [
         "0",
         "3427",
         "Uriah",
         "Bridges",
         "20-Sep-19",
         null,
         "Production Technician I",
         "Peter Oneill",
         "uriah.bridges@bilearner.com",
         "CCDR",
         "Active",
         "Contract",
         "Zone C",
         "Temporary",
         "Unk",
         null,
         "Production       ",
         "Finance & Accounting",
         "07-10-1969",
         "MA",
         "Accounting",
         "Female",
         "34904",
         "White",
         "Widowed",
         "Fully Meets",
         "4"
        ],
        [
         "1",
         "3428",
         "Paula",
         "Small",
         "11-Feb-23",
         null,
         "Production Technician I",
         "Renee Mccormick",
         "paula.small@bilearner.com",
         "EW",
         "Active",
         "Contract",
         "Zone A",
         "Part-Time",
         "Unk",
         null,
         "Production       ",
         "Aerial",
         "30-08-1965",
         "MA",
         "Labor",
         "Male",
         "6593",
         "Hispanic",
         "Widowed",
         "Fully Meets",
         "3"
        ],
        [
         "2",
         "3429",
         "Edward",
         "Buck",
         "10-Dec-18",
         null,
         "Area Sales Manager",
         "Crystal Walker",
         "edward.buck@bilearner.com",
         "PL",
         "Active",
         "Full-Time",
         "Zone B",
         "Part-Time",
         "Unk",
         null,
         "Sales",
         "General - Sga",
         "06-10-1991",
         "MA",
         "Assistant",
         "Male",
         "2330",
         "Hispanic",
         "Widowed",
         "Fully Meets",
         "4"
        ],
        [
         "3",
         "3430",
         "Michael",
         "Riordan",
         "21-Jun-21",
         null,
         "Area Sales Manager",
         "Rebekah Wright",
         "michael.riordan@bilearner.com",
         "CCDR",
         "Active",
         "Contract",
         "Zone A",
         "Full-Time",
         "Unk",
         null,
         "Sales",
         "Finance & Accounting",
         "04-04-1998",
         "ND",
         "Clerk",
         "Male",
         "58782",
         "Other",
         "Single",
         "Fully Meets",
         "2"
        ],
        [
         "4",
         "3431",
         "Jasmine",
         "Onque",
         "29-Jun-19",
         null,
         "Area Sales Manager",
         "Jason Kim",
         "jasmine.onque@bilearner.com",
         "TNS",
         "Active",
         "Contract",
         "Zone A",
         "Temporary",
         "Unk",
         null,
         "Sales",
         "General - Con",
         "29-08-1969",
         "FL",
         "Laborer",
         "Female",
         "33174",
         "Other",
         "Married",
         "Fully Meets",
         "3"
        ]
       ],
       "shape": {
        "columns": 26,
        "rows": 5
       }
      },
      "text/html": [
       "<div>\n",
       "<style scoped>\n",
       "    .dataframe tbody tr th:only-of-type {\n",
       "        vertical-align: middle;\n",
       "    }\n",
       "\n",
       "    .dataframe tbody tr th {\n",
       "        vertical-align: top;\n",
       "    }\n",
       "\n",
       "    .dataframe thead th {\n",
       "        text-align: right;\n",
       "    }\n",
       "</style>\n",
       "<table border=\"1\" class=\"dataframe\">\n",
       "  <thead>\n",
       "    <tr style=\"text-align: right;\">\n",
       "      <th></th>\n",
       "      <th>EmpID</th>\n",
       "      <th>FirstName</th>\n",
       "      <th>LastName</th>\n",
       "      <th>StartDate</th>\n",
       "      <th>ExitDate</th>\n",
       "      <th>Title</th>\n",
       "      <th>Supervisor</th>\n",
       "      <th>ADEmail</th>\n",
       "      <th>BusinessUnit</th>\n",
       "      <th>EmployeeStatus</th>\n",
       "      <th>EmployeeType</th>\n",
       "      <th>PayZone</th>\n",
       "      <th>EmployeeClassificationType</th>\n",
       "      <th>TerminationType</th>\n",
       "      <th>TerminationDescription</th>\n",
       "      <th>DepartmentType</th>\n",
       "      <th>Division</th>\n",
       "      <th>DOB</th>\n",
       "      <th>State</th>\n",
       "      <th>JobFunctionDescription</th>\n",
       "      <th>GenderCode</th>\n",
       "      <th>LocationCode</th>\n",
       "      <th>RaceDesc</th>\n",
       "      <th>MaritalDesc</th>\n",
       "      <th>PerformanceScore</th>\n",
       "      <th>CurrentEmployeeRating</th>\n",
       "    </tr>\n",
       "  </thead>\n",
       "  <tbody>\n",
       "    <tr>\n",
       "      <th>0</th>\n",
       "      <td>3427</td>\n",
       "      <td>Uriah</td>\n",
       "      <td>Bridges</td>\n",
       "      <td>20-Sep-19</td>\n",
       "      <td>NaN</td>\n",
       "      <td>Production Technician I</td>\n",
       "      <td>Peter Oneill</td>\n",
       "      <td>uriah.bridges@bilearner.com</td>\n",
       "      <td>CCDR</td>\n",
       "      <td>Active</td>\n",
       "      <td>Contract</td>\n",
       "      <td>Zone C</td>\n",
       "      <td>Temporary</td>\n",
       "      <td>Unk</td>\n",
       "      <td>NaN</td>\n",
       "      <td>Production</td>\n",
       "      <td>Finance &amp; Accounting</td>\n",
       "      <td>07-10-1969</td>\n",
       "      <td>MA</td>\n",
       "      <td>Accounting</td>\n",
       "      <td>Female</td>\n",
       "      <td>34904</td>\n",
       "      <td>White</td>\n",
       "      <td>Widowed</td>\n",
       "      <td>Fully Meets</td>\n",
       "      <td>4</td>\n",
       "    </tr>\n",
       "    <tr>\n",
       "      <th>1</th>\n",
       "      <td>3428</td>\n",
       "      <td>Paula</td>\n",
       "      <td>Small</td>\n",
       "      <td>11-Feb-23</td>\n",
       "      <td>NaN</td>\n",
       "      <td>Production Technician I</td>\n",
       "      <td>Renee Mccormick</td>\n",
       "      <td>paula.small@bilearner.com</td>\n",
       "      <td>EW</td>\n",
       "      <td>Active</td>\n",
       "      <td>Contract</td>\n",
       "      <td>Zone A</td>\n",
       "      <td>Part-Time</td>\n",
       "      <td>Unk</td>\n",
       "      <td>NaN</td>\n",
       "      <td>Production</td>\n",
       "      <td>Aerial</td>\n",
       "      <td>30-08-1965</td>\n",
       "      <td>MA</td>\n",
       "      <td>Labor</td>\n",
       "      <td>Male</td>\n",
       "      <td>6593</td>\n",
       "      <td>Hispanic</td>\n",
       "      <td>Widowed</td>\n",
       "      <td>Fully Meets</td>\n",
       "      <td>3</td>\n",
       "    </tr>\n",
       "    <tr>\n",
       "      <th>2</th>\n",
       "      <td>3429</td>\n",
       "      <td>Edward</td>\n",
       "      <td>Buck</td>\n",
       "      <td>10-Dec-18</td>\n",
       "      <td>NaN</td>\n",
       "      <td>Area Sales Manager</td>\n",
       "      <td>Crystal Walker</td>\n",
       "      <td>edward.buck@bilearner.com</td>\n",
       "      <td>PL</td>\n",
       "      <td>Active</td>\n",
       "      <td>Full-Time</td>\n",
       "      <td>Zone B</td>\n",
       "      <td>Part-Time</td>\n",
       "      <td>Unk</td>\n",
       "      <td>NaN</td>\n",
       "      <td>Sales</td>\n",
       "      <td>General - Sga</td>\n",
       "      <td>06-10-1991</td>\n",
       "      <td>MA</td>\n",
       "      <td>Assistant</td>\n",
       "      <td>Male</td>\n",
       "      <td>2330</td>\n",
       "      <td>Hispanic</td>\n",
       "      <td>Widowed</td>\n",
       "      <td>Fully Meets</td>\n",
       "      <td>4</td>\n",
       "    </tr>\n",
       "    <tr>\n",
       "      <th>3</th>\n",
       "      <td>3430</td>\n",
       "      <td>Michael</td>\n",
       "      <td>Riordan</td>\n",
       "      <td>21-Jun-21</td>\n",
       "      <td>NaN</td>\n",
       "      <td>Area Sales Manager</td>\n",
       "      <td>Rebekah Wright</td>\n",
       "      <td>michael.riordan@bilearner.com</td>\n",
       "      <td>CCDR</td>\n",
       "      <td>Active</td>\n",
       "      <td>Contract</td>\n",
       "      <td>Zone A</td>\n",
       "      <td>Full-Time</td>\n",
       "      <td>Unk</td>\n",
       "      <td>NaN</td>\n",
       "      <td>Sales</td>\n",
       "      <td>Finance &amp; Accounting</td>\n",
       "      <td>04-04-1998</td>\n",
       "      <td>ND</td>\n",
       "      <td>Clerk</td>\n",
       "      <td>Male</td>\n",
       "      <td>58782</td>\n",
       "      <td>Other</td>\n",
       "      <td>Single</td>\n",
       "      <td>Fully Meets</td>\n",
       "      <td>2</td>\n",
       "    </tr>\n",
       "    <tr>\n",
       "      <th>4</th>\n",
       "      <td>3431</td>\n",
       "      <td>Jasmine</td>\n",
       "      <td>Onque</td>\n",
       "      <td>29-Jun-19</td>\n",
       "      <td>NaN</td>\n",
       "      <td>Area Sales Manager</td>\n",
       "      <td>Jason Kim</td>\n",
       "      <td>jasmine.onque@bilearner.com</td>\n",
       "      <td>TNS</td>\n",
       "      <td>Active</td>\n",
       "      <td>Contract</td>\n",
       "      <td>Zone A</td>\n",
       "      <td>Temporary</td>\n",
       "      <td>Unk</td>\n",
       "      <td>NaN</td>\n",
       "      <td>Sales</td>\n",
       "      <td>General - Con</td>\n",
       "      <td>29-08-1969</td>\n",
       "      <td>FL</td>\n",
       "      <td>Laborer</td>\n",
       "      <td>Female</td>\n",
       "      <td>33174</td>\n",
       "      <td>Other</td>\n",
       "      <td>Married</td>\n",
       "      <td>Fully Meets</td>\n",
       "      <td>3</td>\n",
       "    </tr>\n",
       "  </tbody>\n",
       "</table>\n",
       "</div>"
      ],
      "text/plain": [
       "   EmpID FirstName LastName  StartDate ExitDate                    Title  \\\n",
       "0   3427     Uriah  Bridges  20-Sep-19      NaN  Production Technician I   \n",
       "1   3428     Paula    Small  11-Feb-23      NaN  Production Technician I   \n",
       "2   3429    Edward     Buck  10-Dec-18      NaN       Area Sales Manager   \n",
       "3   3430   Michael  Riordan  21-Jun-21      NaN       Area Sales Manager   \n",
       "4   3431   Jasmine    Onque  29-Jun-19      NaN       Area Sales Manager   \n",
       "\n",
       "        Supervisor                        ADEmail BusinessUnit EmployeeStatus  \\\n",
       "0     Peter Oneill    uriah.bridges@bilearner.com         CCDR         Active   \n",
       "1  Renee Mccormick      paula.small@bilearner.com           EW         Active   \n",
       "2   Crystal Walker      edward.buck@bilearner.com           PL         Active   \n",
       "3   Rebekah Wright  michael.riordan@bilearner.com         CCDR         Active   \n",
       "4        Jason Kim    jasmine.onque@bilearner.com          TNS         Active   \n",
       "\n",
       "  EmployeeType PayZone EmployeeClassificationType TerminationType  \\\n",
       "0     Contract  Zone C                  Temporary             Unk   \n",
       "1     Contract  Zone A                  Part-Time             Unk   \n",
       "2    Full-Time  Zone B                  Part-Time             Unk   \n",
       "3     Contract  Zone A                  Full-Time             Unk   \n",
       "4     Contract  Zone A                  Temporary             Unk   \n",
       "\n",
       "  TerminationDescription     DepartmentType              Division         DOB  \\\n",
       "0                    NaN  Production         Finance & Accounting  07-10-1969   \n",
       "1                    NaN  Production                       Aerial  30-08-1965   \n",
       "2                    NaN              Sales         General - Sga  06-10-1991   \n",
       "3                    NaN              Sales  Finance & Accounting  04-04-1998   \n",
       "4                    NaN              Sales         General - Con  29-08-1969   \n",
       "\n",
       "  State JobFunctionDescription GenderCode  LocationCode  RaceDesc MaritalDesc  \\\n",
       "0    MA             Accounting     Female         34904     White     Widowed   \n",
       "1    MA                  Labor       Male          6593  Hispanic     Widowed   \n",
       "2    MA              Assistant       Male          2330  Hispanic     Widowed   \n",
       "3    ND                  Clerk       Male         58782     Other      Single   \n",
       "4    FL                Laborer     Female         33174     Other     Married   \n",
       "\n",
       "  PerformanceScore  CurrentEmployeeRating  \n",
       "0      Fully Meets                      4  \n",
       "1      Fully Meets                      3  \n",
       "2      Fully Meets                      4  \n",
       "3      Fully Meets                      2  \n",
       "4      Fully Meets                      3  "
      ]
     },
     "execution_count": 47,
     "metadata": {},
     "output_type": "execute_result"
    }
   ],
   "source": [
    "employee_df.head()"
   ]
  },
  {
   "cell_type": "code",
   "execution_count": 48,
   "id": "dfed2a7a",
   "metadata": {},
   "outputs": [
    {
     "data": {
      "application/vnd.microsoft.datawrangler.viewer.v0+json": {
       "columns": [
        {
         "name": "index",
         "rawType": "int64",
         "type": "integer"
        },
        {
         "name": "EmployeeID",
         "rawType": "int64",
         "type": "integer"
        },
        {
         "name": "SurveyDate",
         "rawType": "object",
         "type": "string"
        },
        {
         "name": "EngagementScore",
         "rawType": "int64",
         "type": "integer"
        },
        {
         "name": "SatisfactionScore",
         "rawType": "int64",
         "type": "integer"
        },
        {
         "name": "WorkLifeBalanceScore",
         "rawType": "int64",
         "type": "integer"
        }
       ],
       "ref": "33d80f09-e37e-4753-833b-2931b80c21df",
       "rows": [
        [
         "0",
         "1001",
         "10-10-2022",
         "2",
         "5",
         "5"
        ],
        [
         "1",
         "1002",
         "03-08-2023",
         "4",
         "5",
         "3"
        ],
        [
         "2",
         "1003",
         "03-01-2023",
         "2",
         "5",
         "2"
        ],
        [
         "3",
         "1004",
         "30-07-2023",
         "3",
         "5",
         "3"
        ],
        [
         "4",
         "1005",
         "19-06-2023",
         "2",
         "4",
         "5"
        ]
       ],
       "shape": {
        "columns": 5,
        "rows": 5
       }
      },
      "text/html": [
       "<div>\n",
       "<style scoped>\n",
       "    .dataframe tbody tr th:only-of-type {\n",
       "        vertical-align: middle;\n",
       "    }\n",
       "\n",
       "    .dataframe tbody tr th {\n",
       "        vertical-align: top;\n",
       "    }\n",
       "\n",
       "    .dataframe thead th {\n",
       "        text-align: right;\n",
       "    }\n",
       "</style>\n",
       "<table border=\"1\" class=\"dataframe\">\n",
       "  <thead>\n",
       "    <tr style=\"text-align: right;\">\n",
       "      <th></th>\n",
       "      <th>EmployeeID</th>\n",
       "      <th>SurveyDate</th>\n",
       "      <th>EngagementScore</th>\n",
       "      <th>SatisfactionScore</th>\n",
       "      <th>WorkLifeBalanceScore</th>\n",
       "    </tr>\n",
       "  </thead>\n",
       "  <tbody>\n",
       "    <tr>\n",
       "      <th>0</th>\n",
       "      <td>1001</td>\n",
       "      <td>10-10-2022</td>\n",
       "      <td>2</td>\n",
       "      <td>5</td>\n",
       "      <td>5</td>\n",
       "    </tr>\n",
       "    <tr>\n",
       "      <th>1</th>\n",
       "      <td>1002</td>\n",
       "      <td>03-08-2023</td>\n",
       "      <td>4</td>\n",
       "      <td>5</td>\n",
       "      <td>3</td>\n",
       "    </tr>\n",
       "    <tr>\n",
       "      <th>2</th>\n",
       "      <td>1003</td>\n",
       "      <td>03-01-2023</td>\n",
       "      <td>2</td>\n",
       "      <td>5</td>\n",
       "      <td>2</td>\n",
       "    </tr>\n",
       "    <tr>\n",
       "      <th>3</th>\n",
       "      <td>1004</td>\n",
       "      <td>30-07-2023</td>\n",
       "      <td>3</td>\n",
       "      <td>5</td>\n",
       "      <td>3</td>\n",
       "    </tr>\n",
       "    <tr>\n",
       "      <th>4</th>\n",
       "      <td>1005</td>\n",
       "      <td>19-06-2023</td>\n",
       "      <td>2</td>\n",
       "      <td>4</td>\n",
       "      <td>5</td>\n",
       "    </tr>\n",
       "  </tbody>\n",
       "</table>\n",
       "</div>"
      ],
      "text/plain": [
       "   EmployeeID  SurveyDate  EngagementScore  SatisfactionScore  \\\n",
       "0        1001  10-10-2022                2                  5   \n",
       "1        1002  03-08-2023                4                  5   \n",
       "2        1003  03-01-2023                2                  5   \n",
       "3        1004  30-07-2023                3                  5   \n",
       "4        1005  19-06-2023                2                  4   \n",
       "\n",
       "   WorkLifeBalanceScore  \n",
       "0                     5  \n",
       "1                     3  \n",
       "2                     2  \n",
       "3                     3  \n",
       "4                     5  "
      ]
     },
     "execution_count": 48,
     "metadata": {},
     "output_type": "execute_result"
    }
   ],
   "source": [
    "engagement_df.head()"
   ]
  },
  {
   "cell_type": "code",
   "execution_count": 49,
   "id": "cb94d89a",
   "metadata": {},
   "outputs": [
    {
     "data": {
      "application/vnd.microsoft.datawrangler.viewer.v0+json": {
       "columns": [
        {
         "name": "index",
         "rawType": "int64",
         "type": "integer"
        },
        {
         "name": "ApplicantID",
         "rawType": "int64",
         "type": "integer"
        },
        {
         "name": "ApplicationDate",
         "rawType": "object",
         "type": "string"
        },
        {
         "name": "FirstName",
         "rawType": "object",
         "type": "string"
        },
        {
         "name": "LastName",
         "rawType": "object",
         "type": "string"
        },
        {
         "name": "Gender",
         "rawType": "object",
         "type": "string"
        },
        {
         "name": "DateofBirth",
         "rawType": "object",
         "type": "string"
        },
        {
         "name": "PhoneNumber",
         "rawType": "object",
         "type": "string"
        },
        {
         "name": "Email",
         "rawType": "object",
         "type": "string"
        },
        {
         "name": "Address",
         "rawType": "object",
         "type": "string"
        },
        {
         "name": "City",
         "rawType": "object",
         "type": "string"
        },
        {
         "name": "State",
         "rawType": "object",
         "type": "string"
        },
        {
         "name": "ZipCode",
         "rawType": "int64",
         "type": "integer"
        },
        {
         "name": "Country",
         "rawType": "object",
         "type": "string"
        },
        {
         "name": "EducationLevel",
         "rawType": "object",
         "type": "string"
        },
        {
         "name": "YearsofExperience",
         "rawType": "int64",
         "type": "integer"
        },
        {
         "name": "DesiredSalary",
         "rawType": "float64",
         "type": "float"
        },
        {
         "name": "JobTitle",
         "rawType": "object",
         "type": "string"
        },
        {
         "name": "Status",
         "rawType": "object",
         "type": "string"
        }
       ],
       "ref": "74019637-6f16-4422-8b8c-476b6ba4cd15",
       "rows": [
        [
         "0",
         "1001",
         "03-Jun-23",
         "Scott",
         "Sheppard",
         "Male",
         "31-08-1992",
         "421-429-7655x39421",
         "perezjanet@example.org",
         "597 Smith Point",
         "Hollandfort",
         "NV",
         "57588",
         "Micronesia",
         "High School",
         "8",
         "60103.21",
         "Chief Technology Officer",
         "Interviewing"
        ],
        [
         "1",
         "1002",
         "15-May-23",
         "Stanley",
         "Lewis",
         "Male",
         "29-04-1965",
         "+1-451-574-5308x1681",
         "grossmark@example.com",
         "8116 Stuart Loop",
         "Port Margaretfurt",
         "TN",
         "14726",
         "Greenland",
         "Bachelor's Degree",
         "17",
         "64575.84",
         "Designer, furniture",
         "Rejected"
        ],
        [
         "2",
         "1003",
         "04-Aug-23",
         "Javier",
         "Li",
         "Female",
         "10-03-1973",
         "(858)901-5499",
         "katiemaldonado@example.com",
         "5940 Barr Villages Suite 075",
         "Dianaland",
         "TX",
         "4699",
         "China",
         "PhD",
         "20",
         "39422.71",
         "Sound technician, broadcasting/film/video",
         "Rejected"
        ],
        [
         "3",
         "1004",
         "28-Jul-23",
         "Christopher",
         "Johnston",
         "Other",
         "04-04-2001",
         "(853)681-1839x2010",
         "sheila73@example.com",
         "442 Lewis Mount",
         "Youngfurt",
         "GA",
         "34455",
         "Ghana",
         "High School",
         "8",
         "51045.11",
         "Air cabin crew",
         "Rejected"
        ],
        [
         "4",
         "1005",
         "05-Jun-23",
         "Melissa",
         "Hicks",
         "Other",
         "17-06-1978",
         "364-575-8478x67812",
         "emilypatterson@example.org",
         "95961 Taylor Circles Apt. 169",
         "East Ashleyborough",
         "IN",
         "21014",
         "Solomon Islands",
         "Master's Degree",
         "0",
         "52792.86",
         "Art therapist",
         "Interviewing"
        ]
       ],
       "shape": {
        "columns": 18,
        "rows": 5
       }
      },
      "text/html": [
       "<div>\n",
       "<style scoped>\n",
       "    .dataframe tbody tr th:only-of-type {\n",
       "        vertical-align: middle;\n",
       "    }\n",
       "\n",
       "    .dataframe tbody tr th {\n",
       "        vertical-align: top;\n",
       "    }\n",
       "\n",
       "    .dataframe thead th {\n",
       "        text-align: right;\n",
       "    }\n",
       "</style>\n",
       "<table border=\"1\" class=\"dataframe\">\n",
       "  <thead>\n",
       "    <tr style=\"text-align: right;\">\n",
       "      <th></th>\n",
       "      <th>ApplicantID</th>\n",
       "      <th>ApplicationDate</th>\n",
       "      <th>FirstName</th>\n",
       "      <th>LastName</th>\n",
       "      <th>Gender</th>\n",
       "      <th>DateofBirth</th>\n",
       "      <th>PhoneNumber</th>\n",
       "      <th>Email</th>\n",
       "      <th>Address</th>\n",
       "      <th>City</th>\n",
       "      <th>State</th>\n",
       "      <th>ZipCode</th>\n",
       "      <th>Country</th>\n",
       "      <th>EducationLevel</th>\n",
       "      <th>YearsofExperience</th>\n",
       "      <th>DesiredSalary</th>\n",
       "      <th>JobTitle</th>\n",
       "      <th>Status</th>\n",
       "    </tr>\n",
       "  </thead>\n",
       "  <tbody>\n",
       "    <tr>\n",
       "      <th>0</th>\n",
       "      <td>1001</td>\n",
       "      <td>03-Jun-23</td>\n",
       "      <td>Scott</td>\n",
       "      <td>Sheppard</td>\n",
       "      <td>Male</td>\n",
       "      <td>31-08-1992</td>\n",
       "      <td>421-429-7655x39421</td>\n",
       "      <td>perezjanet@example.org</td>\n",
       "      <td>597 Smith Point</td>\n",
       "      <td>Hollandfort</td>\n",
       "      <td>NV</td>\n",
       "      <td>57588</td>\n",
       "      <td>Micronesia</td>\n",
       "      <td>High School</td>\n",
       "      <td>8</td>\n",
       "      <td>60103.21</td>\n",
       "      <td>Chief Technology Officer</td>\n",
       "      <td>Interviewing</td>\n",
       "    </tr>\n",
       "    <tr>\n",
       "      <th>1</th>\n",
       "      <td>1002</td>\n",
       "      <td>15-May-23</td>\n",
       "      <td>Stanley</td>\n",
       "      <td>Lewis</td>\n",
       "      <td>Male</td>\n",
       "      <td>29-04-1965</td>\n",
       "      <td>+1-451-574-5308x1681</td>\n",
       "      <td>grossmark@example.com</td>\n",
       "      <td>8116 Stuart Loop</td>\n",
       "      <td>Port Margaretfurt</td>\n",
       "      <td>TN</td>\n",
       "      <td>14726</td>\n",
       "      <td>Greenland</td>\n",
       "      <td>Bachelor's Degree</td>\n",
       "      <td>17</td>\n",
       "      <td>64575.84</td>\n",
       "      <td>Designer, furniture</td>\n",
       "      <td>Rejected</td>\n",
       "    </tr>\n",
       "    <tr>\n",
       "      <th>2</th>\n",
       "      <td>1003</td>\n",
       "      <td>04-Aug-23</td>\n",
       "      <td>Javier</td>\n",
       "      <td>Li</td>\n",
       "      <td>Female</td>\n",
       "      <td>10-03-1973</td>\n",
       "      <td>(858)901-5499</td>\n",
       "      <td>katiemaldonado@example.com</td>\n",
       "      <td>5940 Barr Villages Suite 075</td>\n",
       "      <td>Dianaland</td>\n",
       "      <td>TX</td>\n",
       "      <td>4699</td>\n",
       "      <td>China</td>\n",
       "      <td>PhD</td>\n",
       "      <td>20</td>\n",
       "      <td>39422.71</td>\n",
       "      <td>Sound technician, broadcasting/film/video</td>\n",
       "      <td>Rejected</td>\n",
       "    </tr>\n",
       "    <tr>\n",
       "      <th>3</th>\n",
       "      <td>1004</td>\n",
       "      <td>28-Jul-23</td>\n",
       "      <td>Christopher</td>\n",
       "      <td>Johnston</td>\n",
       "      <td>Other</td>\n",
       "      <td>04-04-2001</td>\n",
       "      <td>(853)681-1839x2010</td>\n",
       "      <td>sheila73@example.com</td>\n",
       "      <td>442 Lewis Mount</td>\n",
       "      <td>Youngfurt</td>\n",
       "      <td>GA</td>\n",
       "      <td>34455</td>\n",
       "      <td>Ghana</td>\n",
       "      <td>High School</td>\n",
       "      <td>8</td>\n",
       "      <td>51045.11</td>\n",
       "      <td>Air cabin crew</td>\n",
       "      <td>Rejected</td>\n",
       "    </tr>\n",
       "    <tr>\n",
       "      <th>4</th>\n",
       "      <td>1005</td>\n",
       "      <td>05-Jun-23</td>\n",
       "      <td>Melissa</td>\n",
       "      <td>Hicks</td>\n",
       "      <td>Other</td>\n",
       "      <td>17-06-1978</td>\n",
       "      <td>364-575-8478x67812</td>\n",
       "      <td>emilypatterson@example.org</td>\n",
       "      <td>95961 Taylor Circles Apt. 169</td>\n",
       "      <td>East Ashleyborough</td>\n",
       "      <td>IN</td>\n",
       "      <td>21014</td>\n",
       "      <td>Solomon Islands</td>\n",
       "      <td>Master's Degree</td>\n",
       "      <td>0</td>\n",
       "      <td>52792.86</td>\n",
       "      <td>Art therapist</td>\n",
       "      <td>Interviewing</td>\n",
       "    </tr>\n",
       "  </tbody>\n",
       "</table>\n",
       "</div>"
      ],
      "text/plain": [
       "   ApplicantID ApplicationDate    FirstName  LastName  Gender DateofBirth  \\\n",
       "0         1001       03-Jun-23        Scott  Sheppard    Male  31-08-1992   \n",
       "1         1002       15-May-23      Stanley     Lewis    Male  29-04-1965   \n",
       "2         1003       04-Aug-23       Javier        Li  Female  10-03-1973   \n",
       "3         1004       28-Jul-23  Christopher  Johnston   Other  04-04-2001   \n",
       "4         1005       05-Jun-23      Melissa     Hicks   Other  17-06-1978   \n",
       "\n",
       "            PhoneNumber                       Email  \\\n",
       "0    421-429-7655x39421      perezjanet@example.org   \n",
       "1  +1-451-574-5308x1681       grossmark@example.com   \n",
       "2         (858)901-5499  katiemaldonado@example.com   \n",
       "3    (853)681-1839x2010        sheila73@example.com   \n",
       "4    364-575-8478x67812  emilypatterson@example.org   \n",
       "\n",
       "                         Address                City State  ZipCode  \\\n",
       "0                597 Smith Point         Hollandfort    NV    57588   \n",
       "1               8116 Stuart Loop   Port Margaretfurt    TN    14726   \n",
       "2   5940 Barr Villages Suite 075           Dianaland    TX     4699   \n",
       "3                442 Lewis Mount           Youngfurt    GA    34455   \n",
       "4  95961 Taylor Circles Apt. 169  East Ashleyborough    IN    21014   \n",
       "\n",
       "           Country     EducationLevel  YearsofExperience  DesiredSalary  \\\n",
       "0       Micronesia        High School                  8       60103.21   \n",
       "1        Greenland  Bachelor's Degree                 17       64575.84   \n",
       "2            China                PhD                 20       39422.71   \n",
       "3            Ghana        High School                  8       51045.11   \n",
       "4  Solomon Islands    Master's Degree                  0       52792.86   \n",
       "\n",
       "                                    JobTitle        Status  \n",
       "0                   Chief Technology Officer  Interviewing  \n",
       "1                        Designer, furniture      Rejected  \n",
       "2  Sound technician, broadcasting/film/video      Rejected  \n",
       "3                             Air cabin crew      Rejected  \n",
       "4                              Art therapist  Interviewing  "
      ]
     },
     "execution_count": 49,
     "metadata": {},
     "output_type": "execute_result"
    }
   ],
   "source": [
    "recruit_df.head()"
   ]
  },
  {
   "cell_type": "code",
   "execution_count": 50,
   "id": "82750a14",
   "metadata": {},
   "outputs": [
    {
     "data": {
      "application/vnd.microsoft.datawrangler.viewer.v0+json": {
       "columns": [
        {
         "name": "index",
         "rawType": "int64",
         "type": "integer"
        },
        {
         "name": "EmployeeID",
         "rawType": "int64",
         "type": "integer"
        },
        {
         "name": "TrainingDate",
         "rawType": "object",
         "type": "string"
        },
        {
         "name": "TrainingProgramName",
         "rawType": "object",
         "type": "string"
        },
        {
         "name": "TrainingType",
         "rawType": "object",
         "type": "string"
        },
        {
         "name": "TrainingOutcome",
         "rawType": "object",
         "type": "string"
        },
        {
         "name": "Location",
         "rawType": "object",
         "type": "string"
        },
        {
         "name": "Trainer",
         "rawType": "object",
         "type": "string"
        },
        {
         "name": "TrainingDurationDays",
         "rawType": "int64",
         "type": "integer"
        },
        {
         "name": "TrainingCost",
         "rawType": "float64",
         "type": "float"
        }
       ],
       "ref": "c2c2bba5-ba6f-4c57-b552-eeae08c89165",
       "rows": [
        [
         "0",
         "1001",
         "21-Sep-22",
         "Customer Service",
         "Internal",
         "Failed",
         "Port Greg",
         "Amanda Daniels",
         "4",
         "510.83"
        ],
        [
         "1",
         "1002",
         "19-Jul-23",
         "Leadership Development",
         "Internal",
         "Failed",
         "Brandonview",
         "Brittany Chambers",
         "2",
         "582.37"
        ],
        [
         "2",
         "1003",
         "24-Feb-23",
         "Technical Skills",
         "Internal",
         "Incomplete",
         "Port Briannahaven",
         "Mark Roberson",
         "4",
         "777.06"
        ],
        [
         "3",
         "1004",
         "12-Jan-23",
         "Customer Service",
         "Internal",
         "Completed",
         "Knightborough",
         "Richard Fisher",
         "2",
         "824.3"
        ],
        [
         "4",
         "1005",
         "12-May-23",
         "Communication Skills",
         "External",
         "Passed",
         "Bruceshire",
         "Heather Shaffer",
         "4",
         "145.99"
        ]
       ],
       "shape": {
        "columns": 9,
        "rows": 5
       }
      },
      "text/html": [
       "<div>\n",
       "<style scoped>\n",
       "    .dataframe tbody tr th:only-of-type {\n",
       "        vertical-align: middle;\n",
       "    }\n",
       "\n",
       "    .dataframe tbody tr th {\n",
       "        vertical-align: top;\n",
       "    }\n",
       "\n",
       "    .dataframe thead th {\n",
       "        text-align: right;\n",
       "    }\n",
       "</style>\n",
       "<table border=\"1\" class=\"dataframe\">\n",
       "  <thead>\n",
       "    <tr style=\"text-align: right;\">\n",
       "      <th></th>\n",
       "      <th>EmployeeID</th>\n",
       "      <th>TrainingDate</th>\n",
       "      <th>TrainingProgramName</th>\n",
       "      <th>TrainingType</th>\n",
       "      <th>TrainingOutcome</th>\n",
       "      <th>Location</th>\n",
       "      <th>Trainer</th>\n",
       "      <th>TrainingDurationDays</th>\n",
       "      <th>TrainingCost</th>\n",
       "    </tr>\n",
       "  </thead>\n",
       "  <tbody>\n",
       "    <tr>\n",
       "      <th>0</th>\n",
       "      <td>1001</td>\n",
       "      <td>21-Sep-22</td>\n",
       "      <td>Customer Service</td>\n",
       "      <td>Internal</td>\n",
       "      <td>Failed</td>\n",
       "      <td>Port Greg</td>\n",
       "      <td>Amanda Daniels</td>\n",
       "      <td>4</td>\n",
       "      <td>510.83</td>\n",
       "    </tr>\n",
       "    <tr>\n",
       "      <th>1</th>\n",
       "      <td>1002</td>\n",
       "      <td>19-Jul-23</td>\n",
       "      <td>Leadership Development</td>\n",
       "      <td>Internal</td>\n",
       "      <td>Failed</td>\n",
       "      <td>Brandonview</td>\n",
       "      <td>Brittany Chambers</td>\n",
       "      <td>2</td>\n",
       "      <td>582.37</td>\n",
       "    </tr>\n",
       "    <tr>\n",
       "      <th>2</th>\n",
       "      <td>1003</td>\n",
       "      <td>24-Feb-23</td>\n",
       "      <td>Technical Skills</td>\n",
       "      <td>Internal</td>\n",
       "      <td>Incomplete</td>\n",
       "      <td>Port Briannahaven</td>\n",
       "      <td>Mark Roberson</td>\n",
       "      <td>4</td>\n",
       "      <td>777.06</td>\n",
       "    </tr>\n",
       "    <tr>\n",
       "      <th>3</th>\n",
       "      <td>1004</td>\n",
       "      <td>12-Jan-23</td>\n",
       "      <td>Customer Service</td>\n",
       "      <td>Internal</td>\n",
       "      <td>Completed</td>\n",
       "      <td>Knightborough</td>\n",
       "      <td>Richard Fisher</td>\n",
       "      <td>2</td>\n",
       "      <td>824.30</td>\n",
       "    </tr>\n",
       "    <tr>\n",
       "      <th>4</th>\n",
       "      <td>1005</td>\n",
       "      <td>12-May-23</td>\n",
       "      <td>Communication Skills</td>\n",
       "      <td>External</td>\n",
       "      <td>Passed</td>\n",
       "      <td>Bruceshire</td>\n",
       "      <td>Heather Shaffer</td>\n",
       "      <td>4</td>\n",
       "      <td>145.99</td>\n",
       "    </tr>\n",
       "  </tbody>\n",
       "</table>\n",
       "</div>"
      ],
      "text/plain": [
       "   EmployeeID TrainingDate     TrainingProgramName TrainingType  \\\n",
       "0        1001    21-Sep-22        Customer Service     Internal   \n",
       "1        1002    19-Jul-23  Leadership Development     Internal   \n",
       "2        1003    24-Feb-23        Technical Skills     Internal   \n",
       "3        1004    12-Jan-23        Customer Service     Internal   \n",
       "4        1005    12-May-23    Communication Skills     External   \n",
       "\n",
       "  TrainingOutcome           Location            Trainer  TrainingDurationDays  \\\n",
       "0          Failed          Port Greg     Amanda Daniels                     4   \n",
       "1          Failed        Brandonview  Brittany Chambers                     2   \n",
       "2      Incomplete  Port Briannahaven      Mark Roberson                     4   \n",
       "3       Completed      Knightborough     Richard Fisher                     2   \n",
       "4          Passed         Bruceshire    Heather Shaffer                     4   \n",
       "\n",
       "   TrainingCost  \n",
       "0        510.83  \n",
       "1        582.37  \n",
       "2        777.06  \n",
       "3        824.30  \n",
       "4        145.99  "
      ]
     },
     "execution_count": 50,
     "metadata": {},
     "output_type": "execute_result"
    }
   ],
   "source": [
    "training_df.head()"
   ]
  },
  {
   "cell_type": "markdown",
   "id": "5ff02f4f",
   "metadata": {},
   "source": [
    "## Employee Data"
   ]
  },
  {
   "cell_type": "code",
   "execution_count": 51,
   "id": "2d6438a6",
   "metadata": {},
   "outputs": [
    {
     "name": "stdout",
     "output_type": "stream",
     "text": [
      "<class 'pandas.core.frame.DataFrame'>\n",
      "RangeIndex: 3000 entries, 0 to 2999\n",
      "Data columns (total 26 columns):\n",
      " #   Column                      Non-Null Count  Dtype \n",
      "---  ------                      --------------  ----- \n",
      " 0   EmpID                       3000 non-null   int64 \n",
      " 1   FirstName                   3000 non-null   object\n",
      " 2   LastName                    3000 non-null   object\n",
      " 3   StartDate                   3000 non-null   object\n",
      " 4   ExitDate                    1533 non-null   object\n",
      " 5   Title                       3000 non-null   object\n",
      " 6   Supervisor                  3000 non-null   object\n",
      " 7   ADEmail                     3000 non-null   object\n",
      " 8   BusinessUnit                3000 non-null   object\n",
      " 9   EmployeeStatus              3000 non-null   object\n",
      " 10  EmployeeType                3000 non-null   object\n",
      " 11  PayZone                     3000 non-null   object\n",
      " 12  EmployeeClassificationType  3000 non-null   object\n",
      " 13  TerminationType             3000 non-null   object\n",
      " 14  TerminationDescription      1533 non-null   object\n",
      " 15  DepartmentType              3000 non-null   object\n",
      " 16  Division                    3000 non-null   object\n",
      " 17  DOB                         3000 non-null   object\n",
      " 18  State                       3000 non-null   object\n",
      " 19  JobFunctionDescription      3000 non-null   object\n",
      " 20  GenderCode                  3000 non-null   object\n",
      " 21  LocationCode                3000 non-null   int64 \n",
      " 22  RaceDesc                    3000 non-null   object\n",
      " 23  MaritalDesc                 3000 non-null   object\n",
      " 24  PerformanceScore            3000 non-null   object\n",
      " 25  CurrentEmployeeRating       3000 non-null   int64 \n",
      "dtypes: int64(3), object(23)\n",
      "memory usage: 609.5+ KB\n"
     ]
    }
   ],
   "source": [
    "employee_df.info()"
   ]
  },
  {
   "cell_type": "markdown",
   "id": "5b1f7cb6",
   "metadata": {},
   "source": [
    "### Checking Duplicated and Missing Data\n",
    "\n",
    "Checking missing data is an essential step in data analysis, as missing values—caused by issues like data entry errors, incomplete records, or system limitations—can lead to biased results or incorrect conclusions if not addressed. In this step, I examine patterns of missingness in the employee dataset using visualizations and determine whether the missingness is random or systematic, which will inform the appropriate cleaning and imputation strategies in the next phase."
   ]
  },
  {
   "cell_type": "code",
   "execution_count": 52,
   "id": "4702767c",
   "metadata": {},
   "outputs": [
    {
     "name": "stdout",
     "output_type": "stream",
     "text": [
      "Number of duplicated EmpID rows: 0\n"
     ]
    }
   ],
   "source": [
    "# Check for duplicate EmpID values in employee_df\n",
    "dup_empid = employee_df[employee_df.duplicated('EmpID', keep=False)]\n",
    "print(f\"Number of duplicated EmpID rows: {len(dup_empid)}\")"
   ]
  },
  {
   "cell_type": "code",
   "execution_count": 53,
   "id": "f507f67a",
   "metadata": {},
   "outputs": [
    {
     "data": {
      "image/png": "[encoded data removed]",
      "text/plain": [
       "<Figure size 1000x500 with 3 Axes>"
      ]
     },
     "metadata": {},
     "output_type": "display_data"
    },
    {
     "data": {
      "image/png": "[encoded data removed]",
      "text/plain": [
       "<Figure size 1000x500 with 2 Axes>"
      ]
     },
     "metadata": {},
     "output_type": "display_data"
    }
   ],
   "source": [
    "# Visualizing missing data\n",
    "msno.bar(employee_df, color='skyblue', figsize=(10, 5), fontsize=8)\n",
    "msno.heatmap(employee_df, figsize=(10, 5), fontsize=8)\n",
    "plt.show()"
   ]
  },
  {
   "cell_type": "markdown",
   "id": "07f2e6dc",
   "metadata": {},
   "source": [
    "### Visualization of Raw Data"
   ]
  },
  {
   "cell_type": "markdown",
   "id": "6d546200",
   "metadata": {},
   "source": [
    "The danger of trusting your data too much is that it can lead to misguided decisions if the data is incomplete, inaccurate, or misinterpreted. Always validate your data, understand its limitations, and combine insights with domain knowledge before taking action.\n",
    "\n",
    "I visualized the relationship between job titles and termination types using a crosstab of Title vs TerminationType from the raw data. This revealed potential issues, such as entries like 'Unk' that are unclear, and Sankey diagrams mapping DepartmentType, EmployeeStatus, and TerminationType showed unexpected flows, such as active employees linked to termination types or illogical department-term outcomes.\n",
    "\n",
    "A closer inspection of the last 30 records for EmployeeStatus, TerminationType, and TerminationDescription confirmed several inconsistencies, including active employees with termination information and mismatched or unclear statuses. Investigating the distribution of EmployeeStatus by ExitYear further highlighted patterns and potential data quality issues. To address this, in the cleaned dataset I set EmployeeStatus to 'Inactive' when ExitDate is not missing, keeping the original status otherwise, ensuring a more accurate analysis of terminations.\n",
    "\n",
    "I also reviewed unique values for each column to understand the structure, identify categories, and detect anomalies, finding some entries—such as dates and divisions—that required adjustment. Finally, examining the relationship between EmployeeType and EmployeeClassificationType using a cross-tabulation and heatmap revealed inconsistencies, indicating potential data entry or categorization errors that should be corrected."
   ]
  },
  {
   "cell_type": "code",
   "execution_count": 54,
   "id": "9aab386f",
   "metadata": {},
   "outputs": [
    {
     "data": {
      "application/vnd.plotly.v1+json": {
       "config": {
        "plotlyServerURL": "https://plot.ly"
       },
       "data": [
        {
         "coloraxis": "coloraxis",
         "hovertemplate": "x: %{x}<br>y: %{y}<br>color: %{z}<extra></extra>",
         "name": "0",
         "texttemplate": "%{z}",
         "type": "heatmap",
         "x": [
          "Involuntary",
          "Resignation",
          "Retirement",
          "Unk",
          "Voluntary"
         ],
         "xaxis": "x",
         "y": [
          "Accountant I",
          "Administrative Assistant",
          "Area Sales Manager",
          "BI Developer",
          "BI Director",
          "CIO",
          "Data Analyst",
          "Data Analyst ",
          "Data Architect",
          "Database Administrator",
          "Director of Operations",
          "Director of Sales",
          "Enterprise Architect",
          "IT Director",
          "IT Manager - DB",
          "IT Manager - Infra",
          "IT Manager - Support",
          "IT Support",
          "Network Engineer",
          "President & CEO",
          "Principal Data Architect",
          "Production Manager",
          "Production Technician I",
          "Production Technician II",
          "Sales Manager",
          "Senior BI Developer",
          "Shared Services Manager",
          "Software Engineer",
          "Software Engineering Manager",
          "Sr. Accountant",
          "Sr. DBA",
          "Sr. Network Engineer"
         ],
         "yaxis": "y",
         "z": {
          "bdata": "BQAEAAYADQAFAAMABgAGABAAAgAkACMAKwCUACMACgAEAAgADwAHAAEAAgACAAUAAQACAAEAAgAFAAEABgACAAsAGQADAAEAAwAAAAMAAQACAAIAAQAAAAAAAQAHAAIADgABAAAAAgACAAYAAQAAAAEAAgAGAAIAAgACAAAAAQAAAAAAAwABAAYAAQABAAMABAAKAAQAAQACAAAABQADAAAAAgAAAAcAAgAKABcACAApAAYABwALAAkAFQAHAAIAAgAAAAUAAgAAAAEAAgAFAAAAHQAQABUARgASAJkAmQCpAJkCtQBNADwAMAAGAUUABQACAAIADwAGAAYABQAEAAoABQABAAUAAgAJAAMADwAJAAsAKgANAAQAAgABAAMAAAADAAEAAAAIAAEAAAACAAAABAACAAUABwAKABYABgA=",
          "dtype": "i2",
          "shape": "32, 5"
         }
        }
       ],
       "layout": {
        "coloraxis": {
         "colorscale": [
          [
           0,
           "rgb(255,255,217)"
          ],
          [
           0.125,
           "rgb(237,248,177)"
          ],
          [
           0.25,
           "rgb(199,233,180)"
          ],
          [
           0.375,
           "rgb(127,205,187)"
          ],
          [
           0.5,
           "rgb(65,182,196)"
          ],
          [
           0.625,
           "rgb(29,145,192)"
          ],
          [
           0.75,
           "rgb(34,94,168)"
          ],
          [
           0.875,
           "rgb(37,52,148)"
          ],
          [
           1,
           "rgb(8,29,88)"
          ]
         ]
        },
        "margin": {
         "t": 60
        },
        "template": {
         "data": {
          "bar": [
           {
            "error_x": {
             "color": "#2a3f5f"
            },
            "error_y": {
             "color": "#2a3f5f"
            },
            "marker": {
             "line": {
              "color": "#E5ECF6",
              "width": 0.5
             },
             "pattern": {
              "fillmode": "overlay",
              "size": 10,
              "solidity": 0.2
             }
            },
            "type": "bar"
           }
          ],
          "barpolar": [
           {
            "marker": {
             "line": {
              "color": "#E5ECF6",
              "width": 0.5
             },
             "pattern": {
              "fillmode": "overlay",
              "size": 10,
              "solidity": 0.2
             }
            },
            "type": "barpolar"
           }
          ],
          "carpet": [
           {
            "aaxis": {
             "endlinecolor": "#2a3f5f",
             "gridcolor": "white",
             "linecolor": "white",
             "minorgridcolor": "white",
             "startlinecolor": "#2a3f5f"
            },
            "baxis": {
             "endlinecolor": "#2a3f5f",
             "gridcolor": "white",
             "linecolor": "white",
             "minorgridcolor": "white",
             "startlinecolor": "#2a3f5f"
            },
            "type": "carpet"
           }
          ],
          "choropleth": [
           {
            "colorbar": {
             "outlinewidth": 0,
             "ticks": ""
            },
            "type": "choropleth"
           }
          ],
          "contour": [
           {
            "colorbar": {
             "outlinewidth": 0,
             "ticks": ""
            },
            "colorscale": [
             [
              0,
              "#0d0887"
             ],
             [
              0.1111111111111111,
              "#46039f"
             ],
             [
              0.2222222222222222,
              "#7201a8"
             ],
             [
              0.3333333333333333,
              "#9c179e"
             ],
             [
              0.4444444444444444,
              "#bd3786"
             ],
             [
              0.5555555555555556,
              "#d8576b"
             ],
             [
              0.6666666666666666,
              "#ed7953"
             ],
             [
              0.7777777777777778,
              "#fb9f3a"
             ],
             [
              0.8888888888888888,
              "#fdca26"
             ],
             [
              1,
              "#f0f921"
             ]
            ],
            "type": "contour"
           }
          ],
          "contourcarpet": [
           {
            "colorbar": {
             "outlinewidth": 0,
             "ticks": ""
            },
            "type": "contourcarpet"
           }
          ],
          "heatmap": [
           {
            "colorbar": {
             "outlinewidth": 0,
             "ticks": ""
            },
            "colorscale": [
             [
              0,
              "#0d0887"
             ],
             [
              0.1111111111111111,
              "#46039f"
             ],
             [
              0.2222222222222222,
              "#7201a8"
             ],
             [
              0.3333333333333333,
              "#9c179e"
             ],
             [
              0.4444444444444444,
              "#bd3786"
             ],
             [
              0.5555555555555556,
              "#d8576b"
             ],
             [
              0.6666666666666666,
              "#ed7953"
             ],
             [
              0.7777777777777778,
              "#fb9f3a"
             ],
             [
              0.8888888888888888,
              "#fdca26"
             ],
             [
              1,
              "#f0f921"
             ]
            ],
            "type": "heatmap"
           }
          ],
          "histogram": [
           {
            "marker": {
             "pattern": {
              "fillmode": "overlay",
              "size": 10,
              "solidity": 0.2
             }
            },
            "type": "histogram"
           }
          ],
          "histogram2d": [
           {
            "colorbar": {
             "outlinewidth": 0,
             "ticks": ""
            },
            "colorscale": [
             [
              0,
              "#0d0887"
             ],
             [
              0.1111111111111111,
              "#46039f"
             ],
             [
              0.2222222222222222,
              "#7201a8"
             ],
             [
              0.3333333333333333,
              "#9c179e"
             ],
             [
              0.4444444444444444,
              "#bd3786"
             ],
             [
              0.5555555555555556,
              "#d8576b"
             ],
             [
              0.6666666666666666,
              "#ed7953"
             ],
             [
              0.7777777777777778,
              "#fb9f3a"
             ],
             [
              0.8888888888888888,
              "#fdca26"
             ],
             [
              1,
              "#f0f921"
             ]
            ],
            "type": "histogram2d"
           }
          ],
          "histogram2dcontour": [
           {
            "colorbar": {
             "outlinewidth": 0,
             "ticks": ""
            },
            "colorscale": [
             [
              0,
              "#0d0887"
             ],
             [
              0.1111111111111111,
              "#46039f"
             ],
             [
              0.2222222222222222,
              "#7201a8"
             ],
             [
              0.3333333333333333,
              "#9c179e"
             ],
             [
              0.4444444444444444,
              "#bd3786"
             ],
             [
              0.5555555555555556,
              "#d8576b"
             ],
             [
              0.6666666666666666,
              "#ed7953"
             ],
             [
              0.7777777777777778,
              "#fb9f3a"
             ],
             [
              0.8888888888888888,
              "#fdca26"
             ],
             [
              1,
              "#f0f921"
             ]
            ],
            "type": "histogram2dcontour"
           }
          ],
          "mesh3d": [
           {
            "colorbar": {
             "outlinewidth": 0,
             "ticks": ""
            },
            "type": "mesh3d"
           }
          ],
          "parcoords": [
           {
            "line": {
             "colorbar": {
              "outlinewidth": 0,
              "ticks": ""
             }
            },
            "type": "parcoords"
           }
          ],
          "pie": [
           {
            "automargin": true,
            "type": "pie"
           }
          ],
          "scatter": [
           {
            "fillpattern": {
             "fillmode": "overlay",
             "size": 10,
             "solidity": 0.2
            },
            "type": "scatter"
           }
          ],
          "scatter3d": [
           {
            "line": {
             "colorbar": {
              "outlinewidth": 0,
              "ticks": ""
             }
            },
            "marker": {
             "colorbar": {
              "outlinewidth": 0,
              "ticks": ""
             }
            },
            "type": "scatter3d"
           }
          ],
          "scattercarpet": [
           {
            "marker": {
             "colorbar": {
              "outlinewidth": 0,
              "ticks": ""
             }
            },
            "type": "scattercarpet"
           }
          ],
          "scattergeo": [
           {
            "marker": {
             "colorbar": {
              "outlinewidth": 0,
              "ticks": ""
             }
            },
            "type": "scattergeo"
           }
          ],
          "scattergl": [
           {
            "marker": {
             "colorbar": {
              "outlinewidth": 0,
              "ticks": ""
             }
            },
            "type": "scattergl"
           }
          ],
          "scattermap": [
           {
            "marker": {
             "colorbar": {
              "outlinewidth": 0,
              "ticks": ""
             }
            },
            "type": "scattermap"
           }
          ],
          "scattermapbox": [
           {
            "marker": {
             "colorbar": {
              "outlinewidth": 0,
              "ticks": ""
             }
            },
            "type": "scattermapbox"
           }
          ],
          "scatterpolar": [
           {
            "marker": {
             "colorbar": {
              "outlinewidth": 0,
              "ticks": ""
             }
            },
            "type": "scatterpolar"
           }
          ],
          "scatterpolargl": [
           {
            "marker": {
             "colorbar": {
              "outlinewidth": 0,
              "ticks": ""
             }
            },
            "type": "scatterpolargl"
           }
          ],
          "scatterternary": [
           {
            "marker": {
             "colorbar": {
              "outlinewidth": 0,
              "ticks": ""
             }
            },
            "type": "scatterternary"
           }
          ],
          "surface": [
           {
            "colorbar": {
             "outlinewidth": 0,
             "ticks": ""
            },
            "colorscale": [
             [
              0,
              "#0d0887"
             ],
             [
              0.1111111111111111,
              "#46039f"
             ],
             [
              0.2222222222222222,
              "#7201a8"
             ],
             [
              0.3333333333333333,
              "#9c179e"
             ],
             [
              0.4444444444444444,
              "#bd3786"
             ],
             [
              0.5555555555555556,
              "#d8576b"
             ],
             [
              0.6666666666666666,
              "#ed7953"
             ],
             [
              0.7777777777777778,
              "#fb9f3a"
             ],
             [
              0.8888888888888888,
              "#fdca26"
             ],
             [
              1,
              "#f0f921"
             ]
            ],
            "type": "surface"
           }
          ],
          "table": [
           {
            "cells": {
             "fill": {
              "color": "#EBF0F8"
             },
             "line": {
              "color": "white"
             }
            },
            "header": {
             "fill": {
              "color": "#C8D4E3"
             },
             "line": {
              "color": "white"
             }
            },
            "type": "table"
           }
          ]
         },
         "layout": {
          "annotationdefaults": {
           "arrowcolor": "#2a3f5f",
           "arrowhead": 0,
           "arrowwidth": 1
          },
          "autotypenumbers": "strict",
          "coloraxis": {
           "colorbar": {
            "outlinewidth": 0,
            "ticks": ""
           }
          },
          "colorscale": {
           "diverging": [
            [
             0,
             "#8e0152"
            ],
            [
             0.1,
             "#c51b7d"
            ],
            [
             0.2,
             "#de77ae"
            ],
            [
             0.3,
             "#f1b6da"
            ],
            [
             0.4,
             "#fde0ef"
            ],
            [
             0.5,
             "#f7f7f7"
            ],
            [
             0.6,
             "#e6f5d0"
            ],
            [
             0.7,
             "#b8e186"
            ],
            [
             0.8,
             "#7fbc41"
            ],
            [
             0.9,
             "#4d9221"
            ],
            [
             1,
             "#276419"
            ]
           ],
           "sequential": [
            [
             0,
             "#0d0887"
            ],
            [
             0.1111111111111111,
             "#46039f"
            ],
            [
             0.2222222222222222,
             "#7201a8"
            ],
            [
             0.3333333333333333,
             "#9c179e"
            ],
            [
             0.4444444444444444,
             "#bd3786"
            ],
            [
             0.5555555555555556,
             "#d8576b"
            ],
            [
             0.6666666666666666,
             "#ed7953"
            ],
            [
             0.7777777777777778,
             "#fb9f3a"
            ],
            [
             0.8888888888888888,
             "#fdca26"
            ],
            [
             1,
             "#f0f921"
            ]
           ],
           "sequentialminus": [
            [
             0,
             "#0d0887"
            ],
            [
             0.1111111111111111,
             "#46039f"
            ],
            [
             0.2222222222222222,
             "#7201a8"
            ],
            [
             0.3333333333333333,
             "#9c179e"
            ],
            [
             0.4444444444444444,
             "#bd3786"
            ],
            [
             0.5555555555555556,
             "#d8576b"
            ],
            [
             0.6666666666666666,
             "#ed7953"
            ],
            [
             0.7777777777777778,
             "#fb9f3a"
            ],
            [
             0.8888888888888888,
             "#fdca26"
            ],
            [
             1,
             "#f0f921"
            ]
           ]
          },
          "colorway": [
           "#636efa",
           "#EF553B",
           "#00cc96",
           "#ab63fa",
           "#FFA15A",
           "#19d3f3",
           "#FF6692",
           "#B6E880",
           "#FF97FF",
           "#FECB52"
          ],
          "font": {
           "color": "#2a3f5f"
          },
          "geo": {
           "bgcolor": "white",
           "lakecolor": "white",
           "landcolor": "#E5ECF6",
           "showlakes": true,
           "showland": true,
           "subunitcolor": "white"
          },
          "hoverlabel": {
           "align": "left"
          },
          "hovermode": "closest",
          "mapbox": {
           "style": "light"
          },
          "paper_bgcolor": "white",
          "plot_bgcolor": "#E5ECF6",
          "polar": {
           "angularaxis": {
            "gridcolor": "white",
            "linecolor": "white",
            "ticks": ""
           },
           "bgcolor": "#E5ECF6",
           "radialaxis": {
            "gridcolor": "white",
            "linecolor": "white",
            "ticks": ""
           }
          },
          "scene": {
           "xaxis": {
            "backgroundcolor": "#E5ECF6",
            "gridcolor": "white",
            "gridwidth": 2,
            "linecolor": "white",
            "showbackground": true,
            "ticks": "",
            "zerolinecolor": "white"
           },
           "yaxis": {
            "backgroundcolor": "#E5ECF6",
            "gridcolor": "white",
            "gridwidth": 2,
            "linecolor": "white",
            "showbackground": true,
            "ticks": "",
            "zerolinecolor": "white"
           },
           "zaxis": {
            "backgroundcolor": "#E5ECF6",
            "gridcolor": "white",
            "gridwidth": 2,
            "linecolor": "white",
            "showbackground": true,
            "ticks": "",
            "zerolinecolor": "white"
           }
          },
          "shapedefaults": {
           "line": {
            "color": "#2a3f5f"
           }
          },
          "ternary": {
           "aaxis": {
            "gridcolor": "white",
            "linecolor": "white",
            "ticks": ""
           },
           "baxis": {
            "gridcolor": "white",
            "linecolor": "white",
            "ticks": ""
           },
           "bgcolor": "#E5ECF6",
           "caxis": {
            "gridcolor": "white",
            "linecolor": "white",
            "ticks": ""
           }
          },
          "title": {
           "x": 0.05
          },
          "xaxis": {
           "automargin": true,
           "gridcolor": "white",
           "linecolor": "white",
           "ticks": "",
           "title": {
            "standoff": 15
           },
           "zerolinecolor": "white",
           "zerolinewidth": 2
          },
          "yaxis": {
           "automargin": true,
           "gridcolor": "white",
           "linecolor": "white",
           "ticks": "",
           "title": {
            "standoff": 15
           },
           "zerolinecolor": "white",
           "zerolinewidth": 2
          }
         }
        },
        "title": {
         "text": "Employee Termination Count by Title"
        },
        "xaxis": {
         "anchor": "y",
         "domain": [
          0,
          1
         ],
         "title": {
          "text": "Termination Type"
         }
        },
        "yaxis": {
         "anchor": "x",
         "autorange": "reversed",
         "domain": [
          0,
          1
         ],
         "title": {
          "text": "Job Title"
         }
        }
       }
      }
     },
     "metadata": {},
     "output_type": "display_data"
    }
   ],
   "source": [
    "# Crosstab of Title vs TerminationType\n",
    "\n",
    "ct_pos_term = pd.crosstab(employee_df['Title'], employee_df['TerminationType'])\n",
    "\n",
    "fig = px.imshow(\n",
    "    ct_pos_term.values,\n",
    "    x=ct_pos_term.columns,\n",
    "    y=ct_pos_term.index,\n",
    "    text_auto=True,\n",
    "    color_continuous_scale='YlGnBu',\n",
    "    aspect=\"auto\"\n",
    ")\n",
    "fig.update_layout(\n",
    "    title=\"Employee Termination Count by Title\",\n",
    "    xaxis_title=\"Termination Type\",\n",
    "    yaxis_title=\"Job Title\"\n",
    ")\n",
    "fig.show()"
   ]
  },
  {
   "cell_type": "code",
   "execution_count": 55,
   "id": "d3f385b5",
   "metadata": {},
   "outputs": [
    {
     "data": {
      "application/vnd.plotly.v1+json": {
       "config": {
        "plotlyServerURL": "https://plot.ly"
       },
       "data": [
        {
         "link": {
          "color": [
           "rgba(199,206,234,0.7)",
           "rgba(199,206,234,0.7)",
           "rgba(199,206,234,0.7)",
           "rgba(255,218,193,0.7)",
           "rgba(181,234,215,0.7)",
           "rgba(181,234,215,0.7)",
           "rgba(181,234,215,0.7)",
           "rgba(181,234,215,0.7)",
           "rgba(181,234,215,0.7)",
           "rgba(163,193,218,0.7)",
           "rgba(163,193,218,0.7)",
           "rgba(163,193,218,0.7)",
           "rgba(163,193,218,0.7)",
           "rgba(163,193,218,0.7)",
           "rgba(247,202,201,0.7)",
           "rgba(247,202,201,0.7)",
           "rgba(247,202,201,0.7)",
           "rgba(226,240,203,0.7)",
           "rgba(226,240,203,0.7)",
           "rgba(226,240,203,0.7)",
           "rgba(163,193,218,0.7)",
           "rgba(163,193,218,0.7)",
           "rgba(163,193,218,0.7)",
           "rgba(163,193,218,0.7)",
           "rgba(163,193,218,0.7)",
           "rgba(247,202,201,0.7)",
           "rgba(247,202,201,0.7)",
           "rgba(247,202,201,0.7)",
           "rgba(247,202,201,0.7)",
           "rgba(255,218,193,0.7)",
           "rgba(255,218,193,0.7)",
           "rgba(255,218,193,0.7)",
           "rgba(255,218,193,0.7)",
           "rgba(226,240,203,0.7)",
           "rgba(226,240,203,0.7)",
           "rgba(226,240,203,0.7)",
           "rgba(226,240,203,0.7)",
           "rgba(181,234,215,0.7)",
           "rgba(181,234,215,0.7)",
           "rgba(181,234,215,0.7)",
           "rgba(181,234,215,0.7)"
          ],
          "line": {
           "color": "rgba(0,0,0,0.1)",
           "width": 0.5
          },
          "source": [
           5,
           5,
           5,
           3,
           2,
           2,
           2,
           2,
           2,
           0,
           0,
           0,
           0,
           0,
           1,
           1,
           1,
           4,
           4,
           4,
           6,
           6,
           6,
           6,
           6,
           7,
           7,
           7,
           7,
           9,
           9,
           9,
           9,
           10,
           10,
           10,
           10,
           8,
           8,
           8,
           8
          ],
          "target": [
           6,
           7,
           8,
           6,
           6,
           7,
           9,
           10,
           8,
           6,
           7,
           9,
           10,
           8,
           6,
           7,
           8,
           6,
           7,
           8,
           12,
           13,
           14,
           11,
           15,
           12,
           13,
           14,
           15,
           12,
           13,
           14,
           15,
           12,
           13,
           14,
           15,
           12,
           13,
           14,
           15
          ],
          "value": [
           78,
           1,
           1,
           24,
           375,
           4,
           17,
           31,
           3,
           1588,
           41,
           69,
           35,
           287,
           301,
           20,
           10,
           92,
           3,
           20,
           244,
           252,
           244,
           1467,
           251,
           18,
           11,
           23,
           17,
           19,
           21,
           24,
           22,
           21,
           22,
           10,
           13,
           86,
           74,
           76,
           85
          ]
         },
         "node": {
          "label": [
           "Production       ",
           "Sales",
           "IT/IS",
           "Executive Office",
           "Software Engineering",
           "Admin Offices",
           "Active",
           "Future Start",
           "Voluntarily Terminated",
           "Leave of Absence",
           "Terminated for Cause",
           "Unk",
           "Involuntary",
           "Resignation",
           "Retirement",
           "Voluntary"
          ],
          "line": {
           "color": "gray",
           "width": 0.3
          },
          "pad": 10,
          "thickness": 12
         },
         "type": "sankey"
        }
       ],
       "layout": {
        "font": {
         "size": 10
        },
        "plot_bgcolor": "white",
        "template": {
         "data": {
          "bar": [
           {
            "error_x": {
             "color": "#2a3f5f"
            },
            "error_y": {
             "color": "#2a3f5f"
            },
            "marker": {
             "line": {
              "color": "#E5ECF6",
              "width": 0.5
             },
             "pattern": {
              "fillmode": "overlay",
              "size": 10,
              "solidity": 0.2
             }
            },
            "type": "bar"
           }
          ],
          "barpolar": [
           {
            "marker": {
             "line": {
              "color": "#E5ECF6",
              "width": 0.5
             },
             "pattern": {
              "fillmode": "overlay",
              "size": 10,
              "solidity": 0.2
             }
            },
            "type": "barpolar"
           }
          ],
          "carpet": [
           {
            "aaxis": {
             "endlinecolor": "#2a3f5f",
             "gridcolor": "white",
             "linecolor": "white",
             "minorgridcolor": "white",
             "startlinecolor": "#2a3f5f"
            },
            "baxis": {
             "endlinecolor": "#2a3f5f",
             "gridcolor": "white",
             "linecolor": "white",
             "minorgridcolor": "white",
             "startlinecolor": "#2a3f5f"
            },
            "type": "carpet"
           }
          ],
          "choropleth": [
           {
            "colorbar": {
             "outlinewidth": 0,
             "ticks": ""
            },
            "type": "choropleth"
           }
          ],
          "contour": [
           {
            "colorbar": {
             "outlinewidth": 0,
             "ticks": ""
            },
            "colorscale": [
             [
              0,
              "#0d0887"
             ],
             [
              0.1111111111111111,
              "#46039f"
             ],
             [
              0.2222222222222222,
              "#7201a8"
             ],
             [
              0.3333333333333333,
              "#9c179e"
             ],
             [
              0.4444444444444444,
              "#bd3786"
             ],
             [
              0.5555555555555556,
              "#d8576b"
             ],
             [
              0.6666666666666666,
              "#ed7953"
             ],
             [
              0.7777777777777778,
              "#fb9f3a"
             ],
             [
              0.8888888888888888,
              "#fdca26"
             ],
             [
              1,
              "#f0f921"
             ]
            ],
            "type": "contour"
           }
          ],
          "contourcarpet": [
           {
            "colorbar": {
             "outlinewidth": 0,
             "ticks": ""
            },
            "type": "contourcarpet"
           }
          ],
          "heatmap": [
           {
            "colorbar": {
             "outlinewidth": 0,
             "ticks": ""
            },
            "colorscale": [
             [
              0,
              "#0d0887"
             ],
             [
              0.1111111111111111,
              "#46039f"
             ],
             [
              0.2222222222222222,
              "#7201a8"
             ],
             [
              0.3333333333333333,
              "#9c179e"
             ],
             [
              0.4444444444444444,
              "#bd3786"
             ],
             [
              0.5555555555555556,
              "#d8576b"
             ],
             [
              0.6666666666666666,
              "#ed7953"
             ],
             [
              0.7777777777777778,
              "#fb9f3a"
             ],
             [
              0.8888888888888888,
              "#fdca26"
             ],
             [
              1,
              "#f0f921"
             ]
            ],
            "type": "heatmap"
           }
          ],
          "histogram": [
           {
            "marker": {
             "pattern": {
              "fillmode": "overlay",
              "size": 10,
              "solidity": 0.2
             }
            },
            "type": "histogram"
           }
          ],
          "histogram2d": [
           {
            "colorbar": {
             "outlinewidth": 0,
             "ticks": ""
            },
            "colorscale": [
             [
              0,
              "#0d0887"
             ],
             [
              0.1111111111111111,
              "#46039f"
             ],
             [
              0.2222222222222222,
              "#7201a8"
             ],
             [
              0.3333333333333333,
              "#9c179e"
             ],
             [
              0.4444444444444444,
              "#bd3786"
             ],
             [
              0.5555555555555556,
              "#d8576b"
             ],
             [
              0.6666666666666666,
              "#ed7953"
             ],
             [
              0.7777777777777778,
              "#fb9f3a"
             ],
             [
              0.8888888888888888,
              "#fdca26"
             ],
             [
              1,
              "#f0f921"
             ]
            ],
            "type": "histogram2d"
           }
          ],
          "histogram2dcontour": [
           {
            "colorbar": {
             "outlinewidth": 0,
             "ticks": ""
            },
            "colorscale": [
             [
              0,
              "#0d0887"
             ],
             [
              0.1111111111111111,
              "#46039f"
             ],
             [
              0.2222222222222222,
              "#7201a8"
             ],
             [
              0.3333333333333333,
              "#9c179e"
             ],
             [
              0.4444444444444444,
              "#bd3786"
             ],
             [
              0.5555555555555556,
              "#d8576b"
             ],
             [
              0.6666666666666666,
              "#ed7953"
             ],
             [
              0.7777777777777778,
              "#fb9f3a"
             ],
             [
              0.8888888888888888,
              "#fdca26"
             ],
             [
              1,
              "#f0f921"
             ]
            ],
            "type": "histogram2dcontour"
           }
          ],
          "mesh3d": [
           {
            "colorbar": {
             "outlinewidth": 0,
             "ticks": ""
            },
            "type": "mesh3d"
           }
          ],
          "parcoords": [
           {
            "line": {
             "colorbar": {
              "outlinewidth": 0,
              "ticks": ""
             }
            },
            "type": "parcoords"
           }
          ],
          "pie": [
           {
            "automargin": true,
            "type": "pie"
           }
          ],
          "scatter": [
           {
            "fillpattern": {
             "fillmode": "overlay",
             "size": 10,
             "solidity": 0.2
            },
            "type": "scatter"
           }
          ],
          "scatter3d": [
           {
            "line": {
             "colorbar": {
              "outlinewidth": 0,
              "ticks": ""
             }
            },
            "marker": {
             "colorbar": {
              "outlinewidth": 0,
              "ticks": ""
             }
            },
            "type": "scatter3d"
           }
          ],
          "scattercarpet": [
           {
            "marker": {
             "colorbar": {
              "outlinewidth": 0,
              "ticks": ""
             }
            },
            "type": "scattercarpet"
           }
          ],
          "scattergeo": [
           {
            "marker": {
             "colorbar": {
              "outlinewidth": 0,
              "ticks": ""
             }
            },
            "type": "scattergeo"
           }
          ],
          "scattergl": [
           {
            "marker": {
             "colorbar": {
              "outlinewidth": 0,
              "ticks": ""
             }
            },
            "type": "scattergl"
           }
          ],
          "scattermap": [
           {
            "marker": {
             "colorbar": {
              "outlinewidth": 0,
              "ticks": ""
             }
            },
            "type": "scattermap"
           }
          ],
          "scattermapbox": [
           {
            "marker": {
             "colorbar": {
              "outlinewidth": 0,
              "ticks": ""
             }
            },
            "type": "scattermapbox"
           }
          ],
          "scatterpolar": [
           {
            "marker": {
             "colorbar": {
              "outlinewidth": 0,
              "ticks": ""
             }
            },
            "type": "scatterpolar"
           }
          ],
          "scatterpolargl": [
           {
            "marker": {
             "colorbar": {
              "outlinewidth": 0,
              "ticks": ""
             }
            },
            "type": "scatterpolargl"
           }
          ],
          "scatterternary": [
           {
            "marker": {
             "colorbar": {
              "outlinewidth": 0,
              "ticks": ""
             }
            },
            "type": "scatterternary"
           }
          ],
          "surface": [
           {
            "colorbar": {
             "outlinewidth": 0,
             "ticks": ""
            },
            "colorscale": [
             [
              0,
              "#0d0887"
             ],
             [
              0.1111111111111111,
              "#46039f"
             ],
             [
              0.2222222222222222,
              "#7201a8"
             ],
             [
              0.3333333333333333,
              "#9c179e"
             ],
             [
              0.4444444444444444,
              "#bd3786"
             ],
             [
              0.5555555555555556,
              "#d8576b"
             ],
             [
              0.6666666666666666,
              "#ed7953"
             ],
             [
              0.7777777777777778,
              "#fb9f3a"
             ],
             [
              0.8888888888888888,
              "#fdca26"
             ],
             [
              1,
              "#f0f921"
             ]
            ],
            "type": "surface"
           }
          ],
          "table": [
           {
            "cells": {
             "fill": {
              "color": "#EBF0F8"
             },
             "line": {
              "color": "white"
             }
            },
            "header": {
             "fill": {
              "color": "#C8D4E3"
             },
             "line": {
              "color": "white"
             }
            },
            "type": "table"
           }
          ]
         },
         "layout": {
          "annotationdefaults": {
           "arrowcolor": "#2a3f5f",
           "arrowhead": 0,
           "arrowwidth": 1
          },
          "autotypenumbers": "strict",
          "coloraxis": {
           "colorbar": {
            "outlinewidth": 0,
            "ticks": ""
           }
          },
          "colorscale": {
           "diverging": [
            [
             0,
             "#8e0152"
            ],
            [
             0.1,
             "#c51b7d"
            ],
            [
             0.2,
             "#de77ae"
            ],
            [
             0.3,
             "#f1b6da"
            ],
            [
             0.4,
             "#fde0ef"
            ],
            [
             0.5,
             "#f7f7f7"
            ],
            [
             0.6,
             "#e6f5d0"
            ],
            [
             0.7,
             "#b8e186"
            ],
            [
             0.8,
             "#7fbc41"
            ],
            [
             0.9,
             "#4d9221"
            ],
            [
             1,
             "#276419"
            ]
           ],
           "sequential": [
            [
             0,
             "#0d0887"
            ],
            [
             0.1111111111111111,
             "#46039f"
            ],
            [
             0.2222222222222222,
             "#7201a8"
            ],
            [
             0.3333333333333333,
             "#9c179e"
            ],
            [
             0.4444444444444444,
             "#bd3786"
            ],
            [
             0.5555555555555556,
             "#d8576b"
            ],
            [
             0.6666666666666666,
             "#ed7953"
            ],
            [
             0.7777777777777778,
             "#fb9f3a"
            ],
            [
             0.8888888888888888,
             "#fdca26"
            ],
            [
             1,
             "#f0f921"
            ]
           ],
           "sequentialminus": [
            [
             0,
             "#0d0887"
            ],
            [
             0.1111111111111111,
             "#46039f"
            ],
            [
             0.2222222222222222,
             "#7201a8"
            ],
            [
             0.3333333333333333,
             "#9c179e"
            ],
            [
             0.4444444444444444,
             "#bd3786"
            ],
            [
             0.5555555555555556,
             "#d8576b"
            ],
            [
             0.6666666666666666,
             "#ed7953"
            ],
            [
             0.7777777777777778,
             "#fb9f3a"
            ],
            [
             0.8888888888888888,
             "#fdca26"
            ],
            [
             1,
             "#f0f921"
            ]
           ]
          },
          "colorway": [
           "#636efa",
           "#EF553B",
           "#00cc96",
           "#ab63fa",
           "#FFA15A",
           "#19d3f3",
           "#FF6692",
           "#B6E880",
           "#FF97FF",
           "#FECB52"
          ],
          "font": {
           "color": "#2a3f5f"
          },
          "geo": {
           "bgcolor": "white",
           "lakecolor": "white",
           "landcolor": "#E5ECF6",
           "showlakes": true,
           "showland": true,
           "subunitcolor": "white"
          },
          "hoverlabel": {
           "align": "left"
          },
          "hovermode": "closest",
          "mapbox": {
           "style": "light"
          },
          "paper_bgcolor": "white",
          "plot_bgcolor": "#E5ECF6",
          "polar": {
           "angularaxis": {
            "gridcolor": "white",
            "linecolor": "white",
            "ticks": ""
           },
           "bgcolor": "#E5ECF6",
           "radialaxis": {
            "gridcolor": "white",
            "linecolor": "white",
            "ticks": ""
           }
          },
          "scene": {
           "xaxis": {
            "backgroundcolor": "#E5ECF6",
            "gridcolor": "white",
            "gridwidth": 2,
            "linecolor": "white",
            "showbackground": true,
            "ticks": "",
            "zerolinecolor": "white"
           },
           "yaxis": {
            "backgroundcolor": "#E5ECF6",
            "gridcolor": "white",
            "gridwidth": 2,
            "linecolor": "white",
            "showbackground": true,
            "ticks": "",
            "zerolinecolor": "white"
           },
           "zaxis": {
            "backgroundcolor": "#E5ECF6",
            "gridcolor": "white",
            "gridwidth": 2,
            "linecolor": "white",
            "showbackground": true,
            "ticks": "",
            "zerolinecolor": "white"
           }
          },
          "shapedefaults": {
           "line": {
            "color": "#2a3f5f"
           }
          },
          "ternary": {
           "aaxis": {
            "gridcolor": "white",
            "linecolor": "white",
            "ticks": ""
           },
           "baxis": {
            "gridcolor": "white",
            "linecolor": "white",
            "ticks": ""
           },
           "bgcolor": "#E5ECF6",
           "caxis": {
            "gridcolor": "white",
            "linecolor": "white",
            "ticks": ""
           }
          },
          "title": {
           "x": 0.05
          },
          "xaxis": {
           "automargin": true,
           "gridcolor": "white",
           "linecolor": "white",
           "ticks": "",
           "title": {
            "standoff": 15
           },
           "zerolinecolor": "white",
           "zerolinewidth": 2
          },
          "yaxis": {
           "automargin": true,
           "gridcolor": "white",
           "linecolor": "white",
           "ticks": "",
           "title": {
            "standoff": 15
           },
           "zerolinecolor": "white",
           "zerolinewidth": 2
          }
         }
        },
        "title": {
         "text": "Employee Flow: DepartmentType → EmployeeStatus → TerminationType"
        }
       }
      }
     },
     "metadata": {},
     "output_type": "display_data"
    }
   ],
   "source": [
    "# Senkey \n",
    "\n",
    "df = employee_df.copy()\n",
    "source_labels = df['DepartmentType'].unique().tolist()\n",
    "middle_labels = df['EmployeeStatus'].unique().tolist()\n",
    "target_labels = df['TerminationType'].unique().tolist()\n",
    "labels = source_labels + middle_labels + target_labels\n",
    "\n",
    "# DepartmentType -> EmployeeStatus\n",
    "flow1 = df.groupby(['DepartmentType', 'EmployeeStatus']).size().reset_index(name='count')\n",
    "flow1_sources = flow1['DepartmentType'].apply(lambda x: labels.index(x))\n",
    "flow1_targets = flow1['EmployeeStatus'].apply(lambda x: labels.index(x))\n",
    "flow1_values = flow1['count']\n",
    "\n",
    "# EmployeeStatus -> TerminationType\n",
    "flow2 = df.groupby(['EmployeeStatus', 'TerminationType']).size().reset_index(name='count')\n",
    "flow2_sources = flow2['EmployeeStatus'].apply(lambda x: labels.index(x))\n",
    "flow2_targets = flow2['TerminationType'].apply(lambda x: labels.index(x))\n",
    "flow2_values = flow2['count']\n",
    "\n",
    "# Combine all \n",
    "sources = list(flow1_sources) + list(flow2_sources)\n",
    "targets = list(flow1_targets) + list(flow2_targets)\n",
    "values = list(flow1_values) + list(flow2_values)\n",
    "\n",
    "pastel_palette = ['#A3C1DA', '#F7CAC9', '#B5EAD7', '#FFDAC1', '#E2F0CB', '#C7CEEA', '#FFF1BA', '#FFB7B2', '#B5B2FF', '#B2F7EF']\n",
    "department_color_map = {dept: pastel_palette[i % len(pastel_palette)] for i, dept in enumerate(source_labels)}\n",
    "status_color_map = {status: pastel_palette[i % len(pastel_palette)] for i, status in enumerate(middle_labels)}\n",
    "\n",
    "link_colors = []\n",
    "for i in range(len(flow1)):\n",
    "    src = flow1['DepartmentType'].iloc[i]\n",
    "    color = department_color_map[src]\n",
    "    rgb = mcolors.hex2color(color)\n",
    "    color_rgba = f'rgba({int(rgb[0]*255)},{int(rgb[1]*255)},{int(rgb[2]*255)},0.7)'\n",
    "    link_colors.append(color_rgba)\n",
    "for i in range(len(flow2)):\n",
    "    src = flow2['EmployeeStatus'].iloc[i]\n",
    "    color = status_color_map[src]\n",
    "    rgb = mcolors.hex2color(color)\n",
    "    color_rgba = f'rgba({int(rgb[0]*255)},{int(rgb[1]*255)},{int(rgb[2]*255)},0.7)'\n",
    "    link_colors.append(color_rgba)\n",
    "\n",
    "fig = go.Figure(data=[go.Sankey(\n",
    "    node=dict(\n",
    "        pad=10,\n",
    "        thickness=12,\n",
    "        line=dict(color='gray', width=0.3),\n",
    "        label=labels\n",
    "    ),\n",
    "    link=dict(\n",
    "        source=sources,\n",
    "        target=targets,\n",
    "        value=values,\n",
    "        color=link_colors,\n",
    "        line=dict(color='rgba(0,0,0,0.1)', width=0.5)\n",
    "    )\n",
    ")])\n",
    "\n",
    "fig.update_layout(title_text='Employee Flow: DepartmentType → EmployeeStatus → TerminationType', font_size=10, plot_bgcolor='white')\n",
    "fig.show()"
   ]
  },
  {
   "cell_type": "code",
   "execution_count": 56,
   "id": "dfc68bac",
   "metadata": {},
   "outputs": [
    {
     "data": {
      "application/vnd.microsoft.datawrangler.viewer.v0+json": {
       "columns": [
        {
         "name": "index",
         "rawType": "int64",
         "type": "integer"
        },
        {
         "name": "EmployeeStatus",
         "rawType": "object",
         "type": "string"
        },
        {
         "name": "TerminationType",
         "rawType": "object",
         "type": "string"
        },
        {
         "name": "TerminationDescription",
         "rawType": "object",
         "type": "unknown"
        }
       ],
       "ref": "6c4707f4-eb32-4308-bac7-972294166eb7",
       "rows": [
        [
         "2970",
         "Active",
         "Unk",
         null
        ],
        [
         "2971",
         "Active",
         "Retirement",
         "Foot station left people foot."
        ],
        [
         "2972",
         "Active",
         "Involuntary",
         "Central weight analysis great."
        ],
        [
         "2973",
         "Active",
         "Unk",
         null
        ],
        [
         "2974",
         "Leave of Absence",
         "Involuntary",
         "Think large why many."
        ],
        [
         "2975",
         "Voluntarily Terminated",
         "Voluntary",
         "Impact voice participant school baby."
        ],
        [
         "2976",
         "Voluntarily Terminated",
         "Retirement",
         "According crime none method effort."
        ],
        [
         "2977",
         "Leave of Absence",
         "Involuntary",
         "Few success street."
        ],
        [
         "2978",
         "Leave of Absence",
         "Voluntary",
         "Often about size today."
        ],
        [
         "2979",
         "Voluntarily Terminated",
         "Involuntary",
         "Politics in foreign up start."
        ],
        [
         "2980",
         "Active",
         "Voluntary",
         "Maintain behavior project parent particular game."
        ],
        [
         "2981",
         "Voluntarily Terminated",
         "Resignation",
         "Ball while speak. Issue free represent city."
        ],
        [
         "2982",
         "Active",
         "Resignation",
         "Century risk machine pay car region."
        ],
        [
         "2983",
         "Active",
         "Unk",
         null
        ],
        [
         "2984",
         "Active",
         "Unk",
         null
        ],
        [
         "2985",
         "Active",
         "Unk",
         null
        ],
        [
         "2986",
         "Active",
         "Unk",
         null
        ],
        [
         "2987",
         "Active",
         "Unk",
         null
        ],
        [
         "2988",
         "Voluntarily Terminated",
         "Retirement",
         "Lay focus soldier federal short."
        ],
        [
         "2989",
         "Active",
         "Unk",
         null
        ],
        [
         "2990",
         "Active",
         "Unk",
         null
        ],
        [
         "2991",
         "Active",
         "Unk",
         null
        ],
        [
         "2992",
         "Active",
         "Unk",
         null
        ],
        [
         "2993",
         "Active",
         "Voluntary",
         "Reason stock professional clear allow two town."
        ],
        [
         "2994",
         "Active",
         "Retirement",
         "Man the newspaper performance."
        ],
        [
         "2995",
         "Leave of Absence",
         "Retirement",
         "In forget fast."
        ],
        [
         "2996",
         "Active",
         "Unk",
         null
        ],
        [
         "2997",
         "Voluntarily Terminated",
         "Involuntary",
         "Smile high bar white spend forget choice near."
        ],
        [
         "2998",
         "Voluntarily Terminated",
         "Resignation",
         "Fine expect election either turn."
        ],
        [
         "2999",
         "Active",
         "Unk",
         null
        ]
       ],
       "shape": {
        "columns": 3,
        "rows": 30
       }
      },
      "text/html": [
       "<div>\n",
       "<style scoped>\n",
       "    .dataframe tbody tr th:only-of-type {\n",
       "        vertical-align: middle;\n",
       "    }\n",
       "\n",
       "    .dataframe tbody tr th {\n",
       "        vertical-align: top;\n",
       "    }\n",
       "\n",
       "    .dataframe thead th {\n",
       "        text-align: right;\n",
       "    }\n",
       "</style>\n",
       "<table border=\"1\" class=\"dataframe\">\n",
       "  <thead>\n",
       "    <tr style=\"text-align: right;\">\n",
       "      <th></th>\n",
       "      <th>EmployeeStatus</th>\n",
       "      <th>TerminationType</th>\n",
       "      <th>TerminationDescription</th>\n",
       "    </tr>\n",
       "  </thead>\n",
       "  <tbody>\n",
       "    <tr>\n",
       "      <th>2970</th>\n",
       "      <td>Active</td>\n",
       "      <td>Unk</td>\n",
       "      <td>NaN</td>\n",
       "    </tr>\n",
       "    <tr>\n",
       "      <th>2971</th>\n",
       "      <td>Active</td>\n",
       "      <td>Retirement</td>\n",
       "      <td>Foot station left people foot.</td>\n",
       "    </tr>\n",
       "    <tr>\n",
       "      <th>2972</th>\n",
       "      <td>Active</td>\n",
       "      <td>Involuntary</td>\n",
       "      <td>Central weight analysis great.</td>\n",
       "    </tr>\n",
       "    <tr>\n",
       "      <th>2973</th>\n",
       "      <td>Active</td>\n",
       "      <td>Unk</td>\n",
       "      <td>NaN</td>\n",
       "    </tr>\n",
       "    <tr>\n",
       "      <th>2974</th>\n",
       "      <td>Leave of Absence</td>\n",
       "      <td>Involuntary</td>\n",
       "      <td>Think large why many.</td>\n",
       "    </tr>\n",
       "    <tr>\n",
       "      <th>2975</th>\n",
       "      <td>Voluntarily Terminated</td>\n",
       "      <td>Voluntary</td>\n",
       "      <td>Impact voice participant school baby.</td>\n",
       "    </tr>\n",
       "    <tr>\n",
       "      <th>2976</th>\n",
       "      <td>Voluntarily Terminated</td>\n",
       "      <td>Retirement</td>\n",
       "      <td>According crime none method effort.</td>\n",
       "    </tr>\n",
       "    <tr>\n",
       "      <th>2977</th>\n",
       "      <td>Leave of Absence</td>\n",
       "      <td>Involuntary</td>\n",
       "      <td>Few success street.</td>\n",
       "    </tr>\n",
       "    <tr>\n",
       "      <th>2978</th>\n",
       "      <td>Leave of Absence</td>\n",
       "      <td>Voluntary</td>\n",
       "      <td>Often about size today.</td>\n",
       "    </tr>\n",
       "    <tr>\n",
       "      <th>2979</th>\n",
       "      <td>Voluntarily Terminated</td>\n",
       "      <td>Involuntary</td>\n",
       "      <td>Politics in foreign up start.</td>\n",
       "    </tr>\n",
       "    <tr>\n",
       "      <th>2980</th>\n",
       "      <td>Active</td>\n",
       "      <td>Voluntary</td>\n",
       "      <td>Maintain behavior project parent particular game.</td>\n",
       "    </tr>\n",
       "    <tr>\n",
       "      <th>2981</th>\n",
       "      <td>Voluntarily Terminated</td>\n",
       "      <td>Resignation</td>\n",
       "      <td>Ball while speak. Issue free represent city.</td>\n",
       "    </tr>\n",
       "    <tr>\n",
       "      <th>2982</th>\n",
       "      <td>Active</td>\n",
       "      <td>Resignation</td>\n",
       "      <td>Century risk machine pay car region.</td>\n",
       "    </tr>\n",
       "    <tr>\n",
       "      <th>2983</th>\n",
       "      <td>Active</td>\n",
       "      <td>Unk</td>\n",
       "      <td>NaN</td>\n",
       "    </tr>\n",
       "    <tr>\n",
       "      <th>2984</th>\n",
       "      <td>Active</td>\n",
       "      <td>Unk</td>\n",
       "      <td>NaN</td>\n",
       "    </tr>\n",
       "    <tr>\n",
       "      <th>2985</th>\n",
       "      <td>Active</td>\n",
       "      <td>Unk</td>\n",
       "      <td>NaN</td>\n",
       "    </tr>\n",
       "    <tr>\n",
       "      <th>2986</th>\n",
       "      <td>Active</td>\n",
       "      <td>Unk</td>\n",
       "      <td>NaN</td>\n",
       "    </tr>\n",
       "    <tr>\n",
       "      <th>2987</th>\n",
       "      <td>Active</td>\n",
       "      <td>Unk</td>\n",
       "      <td>NaN</td>\n",
       "    </tr>\n",
       "    <tr>\n",
       "      <th>2988</th>\n",
       "      <td>Voluntarily Terminated</td>\n",
       "      <td>Retirement</td>\n",
       "      <td>Lay focus soldier federal short.</td>\n",
       "    </tr>\n",
       "    <tr>\n",
       "      <th>2989</th>\n",
       "      <td>Active</td>\n",
       "      <td>Unk</td>\n",
       "      <td>NaN</td>\n",
       "    </tr>\n",
       "    <tr>\n",
       "      <th>2990</th>\n",
       "      <td>Active</td>\n",
       "      <td>Unk</td>\n",
       "      <td>NaN</td>\n",
       "    </tr>\n",
       "    <tr>\n",
       "      <th>2991</th>\n",
       "      <td>Active</td>\n",
       "      <td>Unk</td>\n",
       "      <td>NaN</td>\n",
       "    </tr>\n",
       "    <tr>\n",
       "      <th>2992</th>\n",
       "      <td>Active</td>\n",
       "      <td>Unk</td>\n",
       "      <td>NaN</td>\n",
       "    </tr>\n",
       "    <tr>\n",
       "      <th>2993</th>\n",
       "      <td>Active</td>\n",
       "      <td>Voluntary</td>\n",
       "      <td>Reason stock professional clear allow two town.</td>\n",
       "    </tr>\n",
       "    <tr>\n",
       "      <th>2994</th>\n",
       "      <td>Active</td>\n",
       "      <td>Retirement</td>\n",
       "      <td>Man the newspaper performance.</td>\n",
       "    </tr>\n",
       "    <tr>\n",
       "      <th>2995</th>\n",
       "      <td>Leave of Absence</td>\n",
       "      <td>Retirement</td>\n",
       "      <td>In forget fast.</td>\n",
       "    </tr>\n",
       "    <tr>\n",
       "      <th>2996</th>\n",
       "      <td>Active</td>\n",
       "      <td>Unk</td>\n",
       "      <td>NaN</td>\n",
       "    </tr>\n",
       "    <tr>\n",
       "      <th>2997</th>\n",
       "      <td>Voluntarily Terminated</td>\n",
       "      <td>Involuntary</td>\n",
       "      <td>Smile high bar white spend forget choice near.</td>\n",
       "    </tr>\n",
       "    <tr>\n",
       "      <th>2998</th>\n",
       "      <td>Voluntarily Terminated</td>\n",
       "      <td>Resignation</td>\n",
       "      <td>Fine expect election either turn.</td>\n",
       "    </tr>\n",
       "    <tr>\n",
       "      <th>2999</th>\n",
       "      <td>Active</td>\n",
       "      <td>Unk</td>\n",
       "      <td>NaN</td>\n",
       "    </tr>\n",
       "  </tbody>\n",
       "</table>\n",
       "</div>"
      ],
      "text/plain": [
       "              EmployeeStatus TerminationType  \\\n",
       "2970                  Active             Unk   \n",
       "2971                  Active      Retirement   \n",
       "2972                  Active     Involuntary   \n",
       "2973                  Active             Unk   \n",
       "2974        Leave of Absence     Involuntary   \n",
       "2975  Voluntarily Terminated       Voluntary   \n",
       "2976  Voluntarily Terminated      Retirement   \n",
       "2977        Leave of Absence     Involuntary   \n",
       "2978        Leave of Absence       Voluntary   \n",
       "2979  Voluntarily Terminated     Involuntary   \n",
       "2980                  Active       Voluntary   \n",
       "2981  Voluntarily Terminated     Resignation   \n",
       "2982                  Active     Resignation   \n",
       "2983                  Active             Unk   \n",
       "2984                  Active             Unk   \n",
       "2985                  Active             Unk   \n",
       "2986                  Active             Unk   \n",
       "2987                  Active             Unk   \n",
       "2988  Voluntarily Terminated      Retirement   \n",
       "2989                  Active             Unk   \n",
       "2990                  Active             Unk   \n",
       "2991                  Active             Unk   \n",
       "2992                  Active             Unk   \n",
       "2993                  Active       Voluntary   \n",
       "2994                  Active      Retirement   \n",
       "2995        Leave of Absence      Retirement   \n",
       "2996                  Active             Unk   \n",
       "2997  Voluntarily Terminated     Involuntary   \n",
       "2998  Voluntarily Terminated     Resignation   \n",
       "2999                  Active             Unk   \n",
       "\n",
       "                                 TerminationDescription  \n",
       "2970                                                NaN  \n",
       "2971                     Foot station left people foot.  \n",
       "2972                     Central weight analysis great.  \n",
       "2973                                                NaN  \n",
       "2974                              Think large why many.  \n",
       "2975              Impact voice participant school baby.  \n",
       "2976                According crime none method effort.  \n",
       "2977                                Few success street.  \n",
       "2978                            Often about size today.  \n",
       "2979                      Politics in foreign up start.  \n",
       "2980  Maintain behavior project parent particular game.  \n",
       "2981       Ball while speak. Issue free represent city.  \n",
       "2982               Century risk machine pay car region.  \n",
       "2983                                                NaN  \n",
       "2984                                                NaN  \n",
       "2985                                                NaN  \n",
       "2986                                                NaN  \n",
       "2987                                                NaN  \n",
       "2988                   Lay focus soldier federal short.  \n",
       "2989                                                NaN  \n",
       "2990                                                NaN  \n",
       "2991                                                NaN  \n",
       "2992                                                NaN  \n",
       "2993    Reason stock professional clear allow two town.  \n",
       "2994                     Man the newspaper performance.  \n",
       "2995                                    In forget fast.  \n",
       "2996                                                NaN  \n",
       "2997     Smile high bar white spend forget choice near.  \n",
       "2998                  Fine expect election either turn.  \n",
       "2999                                                NaN  "
      ]
     },
     "execution_count": 56,
     "metadata": {},
     "output_type": "execute_result"
    }
   ],
   "source": [
    "employee_df[['EmployeeStatus', 'TerminationType', 'TerminationDescription']].tail(30)"
   ]
  },
  {
   "cell_type": "code",
   "execution_count": 57,
   "id": "d0a7bd29",
   "metadata": {},
   "outputs": [
    {
     "data": {
      "application/vnd.microsoft.datawrangler.viewer.v0+json": {
       "columns": [
        {
         "name": "EmployeeStatus",
         "rawType": "object",
         "type": "string"
        },
        {
         "name": "2018.0",
         "rawType": "int64",
         "type": "integer"
        },
        {
         "name": "2019.0",
         "rawType": "int64",
         "type": "integer"
        },
        {
         "name": "2020.0",
         "rawType": "int64",
         "type": "integer"
        },
        {
         "name": "2021.0",
         "rawType": "int64",
         "type": "integer"
        },
        {
         "name": "2022.0",
         "rawType": "int64",
         "type": "integer"
        },
        {
         "name": "2023.0",
         "rawType": "int64",
         "type": "integer"
        },
        {
         "name": "Total",
         "rawType": "int64",
         "type": "integer"
        }
       ],
       "ref": "f65fab16-d314-46f1-90fe-df11a6dace5c",
       "rows": [
        [
         "Active",
         "3",
         "43",
         "81",
         "185",
         "287",
         "392",
         "991"
        ],
        [
         "Future Start",
         "0",
         "2",
         "6",
         "11",
         "24",
         "26",
         "69"
        ],
        [
         "Leave of Absence",
         "0",
         "2",
         "8",
         "17",
         "31",
         "28",
         "86"
        ],
        [
         "Terminated for Cause",
         "0",
         "3",
         "4",
         "10",
         "19",
         "30",
         "66"
        ],
        [
         "Voluntarily Terminated",
         "1",
         "12",
         "34",
         "55",
         "99",
         "120",
         "321"
        ],
        [
         "Total",
         "4",
         "62",
         "133",
         "278",
         "460",
         "596",
         "1533"
        ]
       ],
       "shape": {
        "columns": 7,
        "rows": 6
       }
      },
      "text/html": [
       "<div>\n",
       "<style scoped>\n",
       "    .dataframe tbody tr th:only-of-type {\n",
       "        vertical-align: middle;\n",
       "    }\n",
       "\n",
       "    .dataframe tbody tr th {\n",
       "        vertical-align: top;\n",
       "    }\n",
       "\n",
       "    .dataframe thead th {\n",
       "        text-align: right;\n",
       "    }\n",
       "</style>\n",
       "<table border=\"1\" class=\"dataframe\">\n",
       "  <thead>\n",
       "    <tr style=\"text-align: right;\">\n",
       "      <th>ExitYear</th>\n",
       "      <th>2018.0</th>\n",
       "      <th>2019.0</th>\n",
       "      <th>2020.0</th>\n",
       "      <th>2021.0</th>\n",
       "      <th>2022.0</th>\n",
       "      <th>2023.0</th>\n",
       "      <th>Total</th>\n",
       "    </tr>\n",
       "    <tr>\n",
       "      <th>EmployeeStatus</th>\n",
       "      <th></th>\n",
       "      <th></th>\n",
       "      <th></th>\n",
       "      <th></th>\n",
       "      <th></th>\n",
       "      <th></th>\n",
       "      <th></th>\n",
       "    </tr>\n",
       "  </thead>\n",
       "  <tbody>\n",
       "    <tr>\n",
       "      <th>Active</th>\n",
       "      <td>3</td>\n",
       "      <td>43</td>\n",
       "      <td>81</td>\n",
       "      <td>185</td>\n",
       "      <td>287</td>\n",
       "      <td>392</td>\n",
       "      <td>991</td>\n",
       "    </tr>\n",
       "    <tr>\n",
       "      <th>Future Start</th>\n",
       "      <td>0</td>\n",
       "      <td>2</td>\n",
       "      <td>6</td>\n",
       "      <td>11</td>\n",
       "      <td>24</td>\n",
       "      <td>26</td>\n",
       "      <td>69</td>\n",
       "    </tr>\n",
       "    <tr>\n",
       "      <th>Leave of Absence</th>\n",
       "      <td>0</td>\n",
       "      <td>2</td>\n",
       "      <td>8</td>\n",
       "      <td>17</td>\n",
       "      <td>31</td>\n",
       "      <td>28</td>\n",
       "      <td>86</td>\n",
       "    </tr>\n",
       "    <tr>\n",
       "      <th>Terminated for Cause</th>\n",
       "      <td>0</td>\n",
       "      <td>3</td>\n",
       "      <td>4</td>\n",
       "      <td>10</td>\n",
       "      <td>19</td>\n",
       "      <td>30</td>\n",
       "      <td>66</td>\n",
       "    </tr>\n",
       "    <tr>\n",
       "      <th>Voluntarily Terminated</th>\n",
       "      <td>1</td>\n",
       "      <td>12</td>\n",
       "      <td>34</td>\n",
       "      <td>55</td>\n",
       "      <td>99</td>\n",
       "      <td>120</td>\n",
       "      <td>321</td>\n",
       "    </tr>\n",
       "    <tr>\n",
       "      <th>Total</th>\n",
       "      <td>4</td>\n",
       "      <td>62</td>\n",
       "      <td>133</td>\n",
       "      <td>278</td>\n",
       "      <td>460</td>\n",
       "      <td>596</td>\n",
       "      <td>1533</td>\n",
       "    </tr>\n",
       "  </tbody>\n",
       "</table>\n",
       "</div>"
      ],
      "text/plain": [
       "ExitYear                2018.0  2019.0  2020.0  2021.0  2022.0  2023.0  Total\n",
       "EmployeeStatus                                                               \n",
       "Active                       3      43      81     185     287     392    991\n",
       "Future Start                 0       2       6      11      24      26     69\n",
       "Leave of Absence             0       2       8      17      31      28     86\n",
       "Terminated for Cause         0       3       4      10      19      30     66\n",
       "Voluntarily Terminated       1      12      34      55      99     120    321\n",
       "Total                        4      62     133     278     460     596   1533"
      ]
     },
     "execution_count": 57,
     "metadata": {},
     "output_type": "execute_result"
    }
   ],
   "source": [
    "if not pd.api.types.is_datetime64_any_dtype(employee_df['ExitDate']):\n",
    "    employee_df['ExitDate'] = pd.to_datetime(employee_df['ExitDate'], errors='coerce')\n",
    "employee_df['ExitYear'] = employee_df['ExitDate'].dt.year\n",
    "\n",
    "# Filter rows where ExitYear is not NaN\n",
    "exit_year_df = employee_df[employee_df['ExitYear'].notna()]\n",
    "\n",
    "pd.crosstab(exit_year_df['EmployeeStatus'], exit_year_df['ExitYear'], margins=True, margins_name='Total')"
   ]
  },
  {
   "cell_type": "code",
   "execution_count": 58,
   "id": "e24cc3a2",
   "metadata": {},
   "outputs": [
    {
     "name": "stdout",
     "output_type": "stream",
     "text": [
      "Column: EmpID\n",
      "Unique values (3000): [3427 3428 3429 ... 3424 3425 3426]\n",
      "\n",
      "Column: FirstName\n",
      "Unique values (1597): ['Uriah' 'Paula' 'Edward' ... 'Brenda' 'Jovanny' 'Jakobe']\n",
      "\n",
      "Column: LastName\n",
      "Unique values (1137): ['Bridges' 'Small' 'Buck' ... 'Hooper' 'Santiago' 'Erickson']\n",
      "\n",
      "Column: StartDate\n",
      "Unique values (1496): ['20-Sep-19' '11-Feb-23' '10-Dec-18' ... '03-Jun-22' '09-Dec-20'\n",
      " '28-May-19']\n",
      "\n",
      "Column: ExitDate\n",
      "Unique values (821): <DatetimeArray>\n",
      "[                'NaT', '2023-07-03 00:00:00', '2023-01-29 00:00:00',\n",
      " '2023-06-29 00:00:00', '2019-11-04 00:00:00', '2022-11-27 00:00:00',\n",
      " '2023-02-17 00:00:00', '2022-06-16 00:00:00', '2023-05-12 00:00:00',\n",
      " '2022-02-04 00:00:00',\n",
      " ...\n",
      " '2023-03-24 00:00:00', '2023-03-10 00:00:00', '2021-07-13 00:00:00',\n",
      " '2020-10-02 00:00:00', '2021-01-28 00:00:00', '2021-09-22 00:00:00',\n",
      " '2022-01-13 00:00:00', '2022-04-12 00:00:00', '2022-11-15 00:00:00',\n",
      " '2022-08-04 00:00:00']\n",
      "Length: 821, dtype: datetime64[ns]\n",
      "\n",
      "Column: Title\n",
      "Unique values (32): ['Production Technician I' 'Area Sales Manager' 'Production Technician II'\n",
      " 'IT Support' 'Network Engineer' 'Sr. Network Engineer'\n",
      " 'Principal Data Architect' 'Enterprise Architect' 'Sr. DBA'\n",
      " 'Database Administrator' 'Data Analyst' 'Data Analyst ' 'Data Architect'\n",
      " 'CIO' 'BI Director' 'Sr. Accountant' 'Software Engineering Manager'\n",
      " 'Software Engineer' 'Shared Services Manager' 'Senior BI Developer'\n",
      " 'Production Manager' 'President & CEO' 'Administrative Assistant'\n",
      " 'Accountant I' 'BI Developer' 'Sales Manager' 'IT Manager - Support'\n",
      " 'IT Manager - Infra' 'IT Manager - DB' 'Director of Sales'\n",
      " 'Director of Operations' 'IT Director']\n",
      "\n",
      "Column: Supervisor\n",
      "Unique values (2952): ['Peter Oneill' 'Renee Mccormick' 'Crystal Walker' ...\n",
      " 'Mr. James Castillo' 'Michael Woods' 'Javier Mccall']\n",
      "\n",
      "Column: ADEmail\n",
      "Unique values (2998): ['uriah.bridges@bilearner.com' 'paula.small@bilearner.com'\n",
      " 'edward.buck@bilearner.com' ... 'annabel.wilkins@bilearner.com'\n",
      " 'kendra.braun@bilearner.com' 'chace.kerr@bilearner.com']\n",
      "\n",
      "Column: BusinessUnit\n",
      "Unique values (10): ['CCDR' 'EW' 'PL' 'TNS' 'BPC' 'WBL' 'NEL' 'SVG' 'MSC' 'PYZ']\n",
      "\n",
      "Column: EmployeeStatus\n",
      "Unique values (5): ['Active' 'Future Start' 'Voluntarily Terminated' 'Leave of Absence'\n",
      " 'Terminated for Cause']\n",
      "\n",
      "Column: EmployeeType\n",
      "Unique values (3): ['Contract' 'Full-Time' 'Part-Time']\n",
      "\n",
      "Column: PayZone\n",
      "Unique values (3): ['Zone C' 'Zone A' 'Zone B']\n",
      "\n",
      "Column: EmployeeClassificationType\n",
      "Unique values (3): ['Temporary' 'Part-Time' 'Full-Time']\n",
      "\n",
      "Column: TerminationType\n",
      "Unique values (5): ['Unk' 'Involuntary' 'Resignation' 'Retirement' 'Voluntary']\n",
      "\n",
      "Column: TerminationDescription\n",
      "Unique values (1534): [nan 'Me see picture nature degree benefit.'\n",
      " 'Blue community type skill story.' ... 'In forget fast.'\n",
      " 'Smile high bar white spend forget choice near.'\n",
      " 'Fine expect election either turn.']\n",
      "\n",
      "Column: DepartmentType\n",
      "Unique values (6): ['Production       ' 'Sales' 'IT/IS' 'Executive Office'\n",
      " 'Software Engineering' 'Admin Offices']\n",
      "\n",
      "Column: Division\n",
      "Unique values (25): ['Finance & Accounting' 'Aerial' 'General - Sga' 'General - Con'\n",
      " 'Field Operations' 'General - Eng' 'Engineers' 'Executive' 'Splicing'\n",
      " 'Project Management - Con' 'Fielders' 'Project Management - Eng'\n",
      " 'Shop (Fleet)' 'Wireline Construction' 'Catv' 'Yard (Material Handling)'\n",
      " 'Wireless' 'People Services' 'Underground' 'Billable Consultants'\n",
      " 'Technology / It' 'Sales & Marketing' 'Safety' 'Isp' 'Corp Operations']\n",
      "\n",
      "Column: DOB\n",
      "Unique values (2800): ['07-10-1969' '30-08-1965' '06-10-1991' ... '27-01-1997' '28-05-1954'\n",
      " '11-09-1990']\n",
      "\n",
      "Column: State\n",
      "Unique values (28): ['MA' 'ND' 'FL' 'CT' 'CA' 'OR' 'TX' 'IN' 'GA' 'CO' 'KY' 'NV' 'VT' 'PA'\n",
      " 'RI' 'VA' 'UT' 'ID' 'MT' 'WA' 'AZ' 'NH' 'AL' 'OH' 'NY' 'ME' 'TN' 'NC']\n",
      "\n",
      "Column: JobFunctionDescription\n",
      "Unique values (83): ['Accounting' 'Labor' 'Assistant' 'Clerk' 'Laborer' 'Driver' 'Technician'\n",
      " 'Engineer' 'Executive Assistant' 'Splicer' 'Controller' 'Lineman'\n",
      " 'Coordinator' 'Director' 'Supervisor' 'Driller' 'Specialist' 'Operator'\n",
      " 'Foreman' 'Manager' 'Tower Hand' 'Mechanic' 'Flagger' 'Groundman'\n",
      " 'Model Assistant' 'Administrator' 'Project Manager' 'Electrician'\n",
      " 'Project Controls' 'Top Hand' 'Administrative' 'Locator' 'Billing' 'Cpo'\n",
      " 'Drafter' 'Vp' 'Construction Manager' 'Welder' 'Field Project Manager'\n",
      " 'Apprentice' 'Runner' 'Inspector' 'Field Technician' 'Associate'\n",
      " 'Administration' 'Intern' 'Planner' 'Accountant' 'General Manager'\n",
      " 'Clerical' 'Principal' 'Tester' 'Purchasing' 'Helper' 'Safety'\n",
      " 'Crew Leader' 'Program Manager' 'Shop' 'Project Coordinator' 'Estimator'\n",
      " 'Recruiting' 'Support' 'Ceo' 'Safety Manager' 'Warehouse Technician'\n",
      " 'Analyst' 'Generalist' 'Business Development' 'Cio' 'Executive' 'Cfo'\n",
      " 'Contracts' 'Chief Operating Officer' 'Helpdesk' 'Evp' 'Civil Hand'\n",
      " 'Services' 'Recruiter' 'Traffic' 'Attendant' 'Svp' 'Warehouse'\n",
      " 'Warehouse Manager']\n",
      "\n",
      "Column: GenderCode\n",
      "Unique values (2): ['Female' 'Male']\n",
      "\n",
      "Column: LocationCode\n",
      "Unique values (2821): [34904  6593  2330 ...  6608  3807 57487]\n",
      "\n",
      "Column: RaceDesc\n",
      "Unique values (5): ['White' 'Hispanic' 'Other' 'Black' 'Asian']\n",
      "\n",
      "Column: MaritalDesc\n",
      "Unique values (4): ['Widowed' 'Single' 'Married' 'Divorced']\n",
      "\n",
      "Column: PerformanceScore\n",
      "Unique values (4): ['Fully Meets' 'Exceeds' 'Needs Improvement' 'PIP']\n",
      "\n",
      "Column: CurrentEmployeeRating\n",
      "Unique values (5): [4 3 2 5 1]\n",
      "\n",
      "Column: ExitYear\n",
      "Unique values (7): [  nan 2023. 2019. 2022. 2020. 2021. 2018.]\n",
      "\n"
     ]
    }
   ],
   "source": [
    "# Check unique values in each column\n",
    "for col in employee_df.columns:\n",
    "    unique_vals = employee_df[col].unique()\n",
    "    print(f\"Column: {col}\")\n",
    "    print(f\"Unique values ({len(unique_vals)}): {unique_vals}\\n\")"
   ]
  },
  {
   "cell_type": "code",
   "execution_count": 59,
   "id": "439b6661",
   "metadata": {},
   "outputs": [
    {
     "data": {
      "application/vnd.plotly.v1+json": {
       "config": {
        "plotlyServerURL": "https://plot.ly"
       },
       "data": [
        {
         "coloraxis": "coloraxis",
         "hovertemplate": "x: %{x}<br>y: %{y}<br>color: %{z}<extra></extra>",
         "name": "0",
         "texttemplate": "%{z}",
         "type": "heatmap",
         "x": [
          "Full-Time",
          "Part-Time",
          "Temporary"
         ],
         "xaxis": "x",
         "y": [
          "Contract",
          "Full-Time",
          "Part-Time"
         ],
         "yaxis": "y",
         "z": {
          "bdata": "XAFHAU0BWgFKAWoBPwEpAVIB",
          "dtype": "i2",
          "shape": "3, 3"
         }
        }
       ],
       "layout": {
        "coloraxis": {
         "colorscale": [
          [
           0,
           "rgb(255,255,217)"
          ],
          [
           0.125,
           "rgb(237,248,177)"
          ],
          [
           0.25,
           "rgb(199,233,180)"
          ],
          [
           0.375,
           "rgb(127,205,187)"
          ],
          [
           0.5,
           "rgb(65,182,196)"
          ],
          [
           0.625,
           "rgb(29,145,192)"
          ],
          [
           0.75,
           "rgb(34,94,168)"
          ],
          [
           0.875,
           "rgb(37,52,148)"
          ],
          [
           1,
           "rgb(8,29,88)"
          ]
         ]
        },
        "margin": {
         "t": 60
        },
        "template": {
         "data": {
          "bar": [
           {
            "error_x": {
             "color": "#2a3f5f"
            },
            "error_y": {
             "color": "#2a3f5f"
            },
            "marker": {
             "line": {
              "color": "#E5ECF6",
              "width": 0.5
             },
             "pattern": {
              "fillmode": "overlay",
              "size": 10,
              "solidity": 0.2
             }
            },
            "type": "bar"
           }
          ],
          "barpolar": [
           {
            "marker": {
             "line": {
              "color": "#E5ECF6",
              "width": 0.5
             },
             "pattern": {
              "fillmode": "overlay",
              "size": 10,
              "solidity": 0.2
             }
            },
            "type": "barpolar"
           }
          ],
          "carpet": [
           {
            "aaxis": {
             "endlinecolor": "#2a3f5f",
             "gridcolor": "white",
             "linecolor": "white",
             "minorgridcolor": "white",
             "startlinecolor": "#2a3f5f"
            },
            "baxis": {
             "endlinecolor": "#2a3f5f",
             "gridcolor": "white",
             "linecolor": "white",
             "minorgridcolor": "white",
             "startlinecolor": "#2a3f5f"
            },
            "type": "carpet"
           }
          ],
          "choropleth": [
           {
            "colorbar": {
             "outlinewidth": 0,
             "ticks": ""
            },
            "type": "choropleth"
           }
          ],
          "contour": [
           {
            "colorbar": {
             "outlinewidth": 0,
             "ticks": ""
            },
            "colorscale": [
             [
              0,
              "#0d0887"
             ],
             [
              0.1111111111111111,
              "#46039f"
             ],
             [
              0.2222222222222222,
              "#7201a8"
             ],
             [
              0.3333333333333333,
              "#9c179e"
             ],
             [
              0.4444444444444444,
              "#bd3786"
             ],
             [
              0.5555555555555556,
              "#d8576b"
             ],
             [
              0.6666666666666666,
              "#ed7953"
             ],
             [
              0.7777777777777778,
              "#fb9f3a"
             ],
             [
              0.8888888888888888,
              "#fdca26"
             ],
             [
              1,
              "#f0f921"
             ]
            ],
            "type": "contour"
           }
          ],
          "contourcarpet": [
           {
            "colorbar": {
             "outlinewidth": 0,
             "ticks": ""
            },
            "type": "contourcarpet"
           }
          ],
          "heatmap": [
           {
            "colorbar": {
             "outlinewidth": 0,
             "ticks": ""
            },
            "colorscale": [
             [
              0,
              "#0d0887"
             ],
             [
              0.1111111111111111,
              "#46039f"
             ],
             [
              0.2222222222222222,
              "#7201a8"
             ],
             [
              0.3333333333333333,
              "#9c179e"
             ],
             [
              0.4444444444444444,
              "#bd3786"
             ],
             [
              0.5555555555555556,
              "#d8576b"
             ],
             [
              0.6666666666666666,
              "#ed7953"
             ],
             [
              0.7777777777777778,
              "#fb9f3a"
             ],
             [
              0.8888888888888888,
              "#fdca26"
             ],
             [
              1,
              "#f0f921"
             ]
            ],
            "type": "heatmap"
           }
          ],
          "histogram": [
           {
            "marker": {
             "pattern": {
              "fillmode": "overlay",
              "size": 10,
              "solidity": 0.2
             }
            },
            "type": "histogram"
           }
          ],
          "histogram2d": [
           {
            "colorbar": {
             "outlinewidth": 0,
             "ticks": ""
            },
            "colorscale": [
             [
              0,
              "#0d0887"
             ],
             [
              0.1111111111111111,
              "#46039f"
             ],
             [
              0.2222222222222222,
              "#7201a8"
             ],
             [
              0.3333333333333333,
              "#9c179e"
             ],
             [
              0.4444444444444444,
              "#bd3786"
             ],
             [
              0.5555555555555556,
              "#d8576b"
             ],
             [
              0.6666666666666666,
              "#ed7953"
             ],
             [
              0.7777777777777778,
              "#fb9f3a"
             ],
             [
              0.8888888888888888,
              "#fdca26"
             ],
             [
              1,
              "#f0f921"
             ]
            ],
            "type": "histogram2d"
           }
          ],
          "histogram2dcontour": [
           {
            "colorbar": {
             "outlinewidth": 0,
             "ticks": ""
            },
            "colorscale": [
             [
              0,
              "#0d0887"
             ],
             [
              0.1111111111111111,
              "#46039f"
             ],
             [
              0.2222222222222222,
              "#7201a8"
             ],
             [
              0.3333333333333333,
              "#9c179e"
             ],
             [
              0.4444444444444444,
              "#bd3786"
             ],
             [
              0.5555555555555556,
              "#d8576b"
             ],
             [
              0.6666666666666666,
              "#ed7953"
             ],
             [
              0.7777777777777778,
              "#fb9f3a"
             ],
             [
              0.8888888888888888,
              "#fdca26"
             ],
             [
              1,
              "#f0f921"
             ]
            ],
            "type": "histogram2dcontour"
           }
          ],
          "mesh3d": [
           {
            "colorbar": {
             "outlinewidth": 0,
             "ticks": ""
            },
            "type": "mesh3d"
           }
          ],
          "parcoords": [
           {
            "line": {
             "colorbar": {
              "outlinewidth": 0,
              "ticks": ""
             }
            },
            "type": "parcoords"
           }
          ],
          "pie": [
           {
            "automargin": true,
            "type": "pie"
           }
          ],
          "scatter": [
           {
            "fillpattern": {
             "fillmode": "overlay",
             "size": 10,
             "solidity": 0.2
            },
            "type": "scatter"
           }
          ],
          "scatter3d": [
           {
            "line": {
             "colorbar": {
              "outlinewidth": 0,
              "ticks": ""
             }
            },
            "marker": {
             "colorbar": {
              "outlinewidth": 0,
              "ticks": ""
             }
            },
            "type": "scatter3d"
           }
          ],
          "scattercarpet": [
           {
            "marker": {
             "colorbar": {
              "outlinewidth": 0,
              "ticks": ""
             }
            },
            "type": "scattercarpet"
           }
          ],
          "scattergeo": [
           {
            "marker": {
             "colorbar": {
              "outlinewidth": 0,
              "ticks": ""
             }
            },
            "type": "scattergeo"
           }
          ],
          "scattergl": [
           {
            "marker": {
             "colorbar": {
              "outlinewidth": 0,
              "ticks": ""
             }
            },
            "type": "scattergl"
           }
          ],
          "scattermap": [
           {
            "marker": {
             "colorbar": {
              "outlinewidth": 0,
              "ticks": ""
             }
            },
            "type": "scattermap"
           }
          ],
          "scattermapbox": [
           {
            "marker": {
             "colorbar": {
              "outlinewidth": 0,
              "ticks": ""
             }
            },
            "type": "scattermapbox"
           }
          ],
          "scatterpolar": [
           {
            "marker": {
             "colorbar": {
              "outlinewidth": 0,
              "ticks": ""
             }
            },
            "type": "scatterpolar"
           }
          ],
          "scatterpolargl": [
           {
            "marker": {
             "colorbar": {
              "outlinewidth": 0,
              "ticks": ""
             }
            },
            "type": "scatterpolargl"
           }
          ],
          "scatterternary": [
           {
            "marker": {
             "colorbar": {
              "outlinewidth": 0,
              "ticks": ""
             }
            },
            "type": "scatterternary"
           }
          ],
          "surface": [
           {
            "colorbar": {
             "outlinewidth": 0,
             "ticks": ""
            },
            "colorscale": [
             [
              0,
              "#0d0887"
             ],
             [
              0.1111111111111111,
              "#46039f"
             ],
             [
              0.2222222222222222,
              "#7201a8"
             ],
             [
              0.3333333333333333,
              "#9c179e"
             ],
             [
              0.4444444444444444,
              "#bd3786"
             ],
             [
              0.5555555555555556,
              "#d8576b"
             ],
             [
              0.6666666666666666,
              "#ed7953"
             ],
             [
              0.7777777777777778,
              "#fb9f3a"
             ],
             [
              0.8888888888888888,
              "#fdca26"
             ],
             [
              1,
              "#f0f921"
             ]
            ],
            "type": "surface"
           }
          ],
          "table": [
           {
            "cells": {
             "fill": {
              "color": "#EBF0F8"
             },
             "line": {
              "color": "white"
             }
            },
            "header": {
             "fill": {
              "color": "#C8D4E3"
             },
             "line": {
              "color": "white"
             }
            },
            "type": "table"
           }
          ]
         },
         "layout": {
          "annotationdefaults": {
           "arrowcolor": "#2a3f5f",
           "arrowhead": 0,
           "arrowwidth": 1
          },
          "autotypenumbers": "strict",
          "coloraxis": {
           "colorbar": {
            "outlinewidth": 0,
            "ticks": ""
           }
          },
          "colorscale": {
           "diverging": [
            [
             0,
             "#8e0152"
            ],
            [
             0.1,
             "#c51b7d"
            ],
            [
             0.2,
             "#de77ae"
            ],
            [
             0.3,
             "#f1b6da"
            ],
            [
             0.4,
             "#fde0ef"
            ],
            [
             0.5,
             "#f7f7f7"
            ],
            [
             0.6,
             "#e6f5d0"
            ],
            [
             0.7,
             "#b8e186"
            ],
            [
             0.8,
             "#7fbc41"
            ],
            [
             0.9,
             "#4d9221"
            ],
            [
             1,
             "#276419"
            ]
           ],
           "sequential": [
            [
             0,
             "#0d0887"
            ],
            [
             0.1111111111111111,
             "#46039f"
            ],
            [
             0.2222222222222222,
             "#7201a8"
            ],
            [
             0.3333333333333333,
             "#9c179e"
            ],
            [
             0.4444444444444444,
             "#bd3786"
            ],
            [
             0.5555555555555556,
             "#d8576b"
            ],
            [
             0.6666666666666666,
             "#ed7953"
            ],
            [
             0.7777777777777778,
             "#fb9f3a"
            ],
            [
             0.8888888888888888,
             "#fdca26"
            ],
            [
             1,
             "#f0f921"
            ]
           ],
           "sequentialminus": [
            [
             0,
             "#0d0887"
            ],
            [
             0.1111111111111111,
             "#46039f"
            ],
            [
             0.2222222222222222,
             "#7201a8"
            ],
            [
             0.3333333333333333,
             "#9c179e"
            ],
            [
             0.4444444444444444,
             "#bd3786"
            ],
            [
             0.5555555555555556,
             "#d8576b"
            ],
            [
             0.6666666666666666,
             "#ed7953"
            ],
            [
             0.7777777777777778,
             "#fb9f3a"
            ],
            [
             0.8888888888888888,
             "#fdca26"
            ],
            [
             1,
             "#f0f921"
            ]
           ]
          },
          "colorway": [
           "#636efa",
           "#EF553B",
           "#00cc96",
           "#ab63fa",
           "#FFA15A",
           "#19d3f3",
           "#FF6692",
           "#B6E880",
           "#FF97FF",
           "#FECB52"
          ],
          "font": {
           "color": "#2a3f5f"
          },
          "geo": {
           "bgcolor": "white",
           "lakecolor": "white",
           "landcolor": "#E5ECF6",
           "showlakes": true,
           "showland": true,
           "subunitcolor": "white"
          },
          "hoverlabel": {
           "align": "left"
          },
          "hovermode": "closest",
          "mapbox": {
           "style": "light"
          },
          "paper_bgcolor": "white",
          "plot_bgcolor": "#E5ECF6",
          "polar": {
           "angularaxis": {
            "gridcolor": "white",
            "linecolor": "white",
            "ticks": ""
           },
           "bgcolor": "#E5ECF6",
           "radialaxis": {
            "gridcolor": "white",
            "linecolor": "white",
            "ticks": ""
           }
          },
          "scene": {
           "xaxis": {
            "backgroundcolor": "#E5ECF6",
            "gridcolor": "white",
            "gridwidth": 2,
            "linecolor": "white",
            "showbackground": true,
            "ticks": "",
            "zerolinecolor": "white"
           },
           "yaxis": {
            "backgroundcolor": "#E5ECF6",
            "gridcolor": "white",
            "gridwidth": 2,
            "linecolor": "white",
            "showbackground": true,
            "ticks": "",
            "zerolinecolor": "white"
           },
           "zaxis": {
            "backgroundcolor": "#E5ECF6",
            "gridcolor": "white",
            "gridwidth": 2,
            "linecolor": "white",
            "showbackground": true,
            "ticks": "",
            "zerolinecolor": "white"
           }
          },
          "shapedefaults": {
           "line": {
            "color": "#2a3f5f"
           }
          },
          "ternary": {
           "aaxis": {
            "gridcolor": "white",
            "linecolor": "white",
            "ticks": ""
           },
           "baxis": {
            "gridcolor": "white",
            "linecolor": "white",
            "ticks": ""
           },
           "bgcolor": "#E5ECF6",
           "caxis": {
            "gridcolor": "white",
            "linecolor": "white",
            "ticks": ""
           }
          },
          "title": {
           "x": 0.05
          },
          "xaxis": {
           "automargin": true,
           "gridcolor": "white",
           "linecolor": "white",
           "ticks": "",
           "title": {
            "standoff": 15
           },
           "zerolinecolor": "white",
           "zerolinewidth": 2
          },
          "yaxis": {
           "automargin": true,
           "gridcolor": "white",
           "linecolor": "white",
           "ticks": "",
           "title": {
            "standoff": 15
           },
           "zerolinecolor": "white",
           "zerolinewidth": 2
          }
         }
        },
        "title": {
         "text": "Employee Classification Type by Employee Type"
        },
        "xaxis": {
         "anchor": "y",
         "domain": [
          0,
          1
         ],
         "title": {
          "text": "Employee Classification Type"
         }
        },
        "yaxis": {
         "anchor": "x",
         "autorange": "reversed",
         "domain": [
          0,
          1
         ],
         "title": {
          "text": "Employee Type"
         }
        }
       }
      }
     },
     "metadata": {},
     "output_type": "display_data"
    }
   ],
   "source": [
    "ct_emptype_empclass = pd.crosstab(employee_df['EmployeeType'], employee_df['EmployeeClassificationType'])\n",
    "\n",
    "fig = px.imshow(\n",
    "    ct_emptype_empclass.values,\n",
    "    x=ct_emptype_empclass.columns,\n",
    "    y=ct_emptype_empclass.index,\n",
    "    text_auto=True,\n",
    "    color_continuous_scale='YlGnBu',\n",
    "    aspect=\"auto\"\n",
    ")\n",
    "fig.update_layout(\n",
    "    title=\"Employee Classification Type by Employee Type\",\n",
    "    xaxis_title=\"Employee Classification Type\",\n",
    "    yaxis_title=\"Employee Type\"\n",
    ")\n",
    "fig.show()"
   ]
  },
  {
   "cell_type": "code",
   "execution_count": 60,
   "id": "44b932ba",
   "metadata": {},
   "outputs": [
    {
     "data": {
      "application/vnd.plotly.v1+json": {
       "config": {
        "plotlyServerURL": "https://plot.ly"
       },
       "data": [
        {
         "coloraxis": "coloraxis",
         "hovertemplate": "x: %{x}<br>y: %{y}<br>color: %{z}<extra></extra>",
         "name": "0",
         "texttemplate": "%{z}",
         "type": "heatmap",
         "x": [
          "Accountant",
          "Accounting",
          "Administration",
          "Administrative",
          "Administrator",
          "Analyst",
          "Apprentice",
          "Assistant",
          "Associate",
          "Attendant",
          "Billing",
          "Business Development",
          "Ceo",
          "Cfo",
          "Chief Operating Officer",
          "Cio",
          "Civil Hand",
          "Clerical",
          "Clerk",
          "Construction Manager",
          "Contracts",
          "Controller",
          "Coordinator",
          "Cpo",
          "Crew Leader",
          "Director",
          "Drafter",
          "Driller",
          "Driver",
          "Electrician",
          "Engineer",
          "Estimator",
          "Evp",
          "Executive",
          "Executive Assistant",
          "Field Project Manager",
          "Field Technician",
          "Flagger",
          "Foreman",
          "General Manager",
          "Generalist",
          "Groundman",
          "Helpdesk",
          "Helper",
          "Inspector",
          "Intern",
          "Labor",
          "Laborer",
          "Lineman",
          "Locator",
          "Manager",
          "Mechanic",
          "Model Assistant",
          "Operator",
          "Planner",
          "Principal",
          "Program Manager",
          "Project Controls",
          "Project Coordinator",
          "Project Manager",
          "Purchasing",
          "Recruiter",
          "Recruiting",
          "Runner",
          "Safety",
          "Safety Manager",
          "Services",
          "Shop",
          "Specialist",
          "Splicer",
          "Supervisor",
          "Support",
          "Svp",
          "Technician",
          "Tester",
          "Top Hand",
          "Tower Hand",
          "Traffic",
          "Vp",
          "Warehouse",
          "Warehouse Manager",
          "Warehouse Technician",
          "Welder"
         ],
         "xaxis": "x",
         "y": [
          "Accountant I",
          "Administrative Assistant",
          "Area Sales Manager",
          "BI Developer",
          "BI Director",
          "CIO",
          "Data Analyst",
          "Data Analyst ",
          "Data Architect",
          "Database Administrator",
          "Director of Operations",
          "Director of Sales",
          "Enterprise Architect",
          "IT Director",
          "IT Manager - DB",
          "IT Manager - Infra",
          "IT Manager - Support",
          "IT Support",
          "Network Engineer",
          "President & CEO",
          "Principal Data Architect",
          "Production Manager",
          "Production Technician I",
          "Production Technician II",
          "Sales Manager",
          "Senior BI Developer",
          "Shared Services Manager",
          "Software Engineer",
          "Software Engineering Manager",
          "Sr. Accountant",
          "Sr. DBA",
          "Sr. Network Engineer"
         ],
         "yaxis": "y",
         "z": {
          "bdata": "AAAAAAEAAAAAAAAAAAAAAAEAAAAAAAAAAQAAAAAAAAAAAAAAAQABAAAAAAAAAAAAAAAAAAEAAAAAAAAAAgAAAAAAAAAAAAAAAAAAAAIAAAAAAAAAAAABAAAAAgAAAAcAAgABAAIAAAAAAAAAAAABAAAAAAAAAAAAAAAAAAAAAAAAAAEAAAAAAAAAAAABAAAAAAADAAAAAAABAAAAAQAAAAAAAAAAAAAAAAAAAAAAAAAAAAAAAAAAAAAAAQAAAAEAAAAAAAAAAAAAAAAAAAAAAAIAAgAAAAAAAAAAAAAAAAAAAAIAAAAAAAAAAAAAAAAAAAAFAAAAAAABAAAAAAAAAAAAAAADAAEAAQAEAAAAAAAAAAAAAAAAAAAAAAABAAAAAAAAAAEAAAAAAAAAAAAAAAAAAwAAAAAABQAAAAAAAAAAAAAAAAAAAAAAAAAAAAEAAgAHAAUAAAAAAAMAAAAAAAEAAAAAAAAAAAAAAAAAAQACAAEAAAACAAoAAQAAAAcAAgADAAMAAwAeAAAAAAAAAAEAAQAAAAEAIwAAAAAABgAAAAAAAAABAAAAKgAKAAMAFQAEAAEABgAAAAAAAAABAAAABgAAAAAAAAABAAEAAAAAAAEAAQAMAA8AAAAAACEAAAADAAQAAAADAAAAAAAAAAAAAAAAAAAAAAAAAAAAAAAAAAEAAAAAAAAAAAAAAAAAAAAAAAAAAgAAAAAAAAACAAAAAAABAAAAAgABAAAABAAAAAAAAAABAAEAAAAAAAYAAAAAAAEAAAAAAAAAAgAAAAYAAQAAAAEAAAABAAAAAAAAAAAAAAAAAAMAAAAAAAAAAAAAAAAAAAAAAAAAAAACAAAAAAAFAAAAAAABAAAAAAAAAAAAAAAAAAAAAAAAAAAAAAAAAAAAAAAAAAAAAAAAAAAAAAAAAAAAAAAAAAEAAAAAAAAAAAAAAAAAAAAAAAAAAAAAAAAAAAAAAAAAAAAAAAAAAQABAAAAAAAAAAAAAAAAAAEAAAACAAEAAAAAAAAAAAAAAAAAAAAAAAAAAAAAAAAAAAAAAAAAAAAAAAAAAAABAAAAAAAAAAAAAwAAAAAAAAAAAAAAAAAAAAAAAAAAAAAAAAAAAAAAAAAAAAAAAAAAAAAAAAAAAAAAAAAAAAAAAAAAAAAAAAAAAAEAAAAAAAAAAAAAAAAAAAABAAAAAAAAAAAAAAAAAAAAAwAAAAAAAQAAAAAAAAAAAAAAAQAAAAAAAAAAAAAAAAAAAAAAAAAAAAAAAQAAAAAAAAAAAAAAAAAAAAAAAAAAAAAAAAAAAAIAAQAAAAAAAAAAAAAAAAAAAAAAAAAAAAEAAQABAAAAAAABAAEAAAAAAAAAAAAAAAAAAAABAAAAAgAAAAAAAQACAAAAAAAAAAAAAQAAAAAABAAAAAAAAAAAAAAAAAAAAAgAAAAAAAAAAAAAAAAAAAAAAAcAAQAAAAAAAAAAAAAAAAAAAAAAAAAAAAIAAAAAAAAAAAAAAAAAAQABAAAAAAACAAAAAAAEAAAAAgABAAEAAQAAAAAAAAAAAAAAAAAAAAEAAAAAAAAAAAAAAAAAAAAAAAAAAAAAAAAAAAAAAAAAAAAAAAAAAAAAAAAAAAAAAAAAAAAAAAIAAAAAAAAAAAAAAAAAAAACAAAAAAAAAAAAAAAAAAAAAAAAAAAAAAAAAAAAAAAAAAAAAAABAAAAAAAAAAAAAAAAAAAAAAAAAAAAAQAAAAEAAAAAAAAAAAAAAAAAAAAAAAAAAAAAAAAAAAAAAAAAAAAAAAAAAAAAAAAAAAAAAAAAAAAAAAAAAAAAAAAAAAAAAAAAAAAAAAAAAAAAAAAAAAAAAAAAAAABAAAAAAAAAAAAAAAAAAAAAQAAAAAAAAAAAAAAAAAAAAAAAAAAAAAAAAAAAAAAAAAAAAAAAAAAAAAAAAAAAAAAAAAAAAAAAAAAAAAAAAAAAAEAAAAAAAIAAAAAAAAAAAAAAAAAAAAAAAAAAAAAAAEAAQAAAAAAAAAAAAAAAAAAAAAAAAAAAAAAAAAAAAAAAAAAAAAAAAABAAAAAAABAAAAAAAAAAAAAgAAAAAAAAAAAAAAAQABAAQAAAAAAAEAAAAAAAAAAAAAAAUAAQAAAAAAAAAAAAAAAAAAAAAAAAAAAAIAAAAAAAAAAAAAAAAAAAAAAAAAAAABAAAAAAADAAAAAAAAAAAAAAAAAAAAAAAAAAAAAAAAAAAAAAAAAAAAAAAAAAAAAAAAAAAAAAAAAAAAAAAAAAAAAAAAAAAAAAAAAAAAAAAAAAEAAQAAAAAAAAAAAAAAAAAAAAAAAQAAAAAAAAABAAAAAAAAAAAAAAADAAEAAAAAAAAAAAAAAAAAAAAAAAAAAAAAAAAAAAAAAAAAAAAAAAAAAAAAAAAAAAAAAAAAAgAAAAAAAAAAAAEAAAAAAAAAAAAAAAAAAAAAAAEAAAAAAAAAAAAAAAAAAAAAAAAAAAAAAAAAAAAAAAAAAAAAAAAAAAAAAAAAAAAAAAAAAAABAAAAAAAAAAAAAAAAAAEAAAAAAAAAAQAAAAAAAAAAAAAAAgAAAAAAAgAAAAAAAQAAAAAAAAAAAAAAAAAAAAAAAAAAAAAAAAAAAAAAAAAAAAAAAAAAAAEAAQAAAAAAAAAAAAAAAAAAAAAAAAAAAAAAAAAAAAAAAAAAAAAAAAAAAAAAAAAAAAAAAAAAAAAAAAAAAAAAAAAAAAAAAAABAAAAAAAAAAAAAAAAAAAAAAAAAAAAAAAAAAAAAAAAAAAAAAAAAAAAAAAAAAIAAQAAAAAAAAAAAAEAAAAAAAAAAAAAAAAAAAAAAAAAAAAAAAAAAAAAAAAAAAAAAAAAAAAAAAAAAAAAAAAAAAAAAAAAAAAAAAAAAAAAAAAAAAAAAAAAAAAAAAAAAAAAAAAAAAAAAAAAAAAAAAEAAAAAAAAAAQAAAAAAAAAAAAAAAAAAAAQAAAAAAAAAAAAAAAAAAAABAAAAAAAAAAAAAAAAAAAAAAABAAEAAAAAAAAAAAAAAAAAAAAAAAAAAAAAAAAAAAAAAAAAAAAAAAAAAAAAAAAAAAAAAAAAAQAAAAAAAQAAAAAAAAAAAAAAAAAAAAAAAAAAAAAAAAAAAAAAAAAAAAAAAAAAAAAAAAAAAAAAAAABAAAAAAAAAAIAAAAAAAAAAAABAAAAAAADAAAAAAAAAAAAAAAAAAAAAQAAAAAAAAAAAAAAAAAAAAAABgACAAAAAQAAAAAAAAAAAAAAAAAAAAAAAQAAAAAAAAAAAAAAAAAAAAAAAAAAAAAAAAAAAAQAAAAAAAAAAAAAAAAAAAAAAAAAAAAAAAAAAAAAAAAAAAAAAAAAAAAAAAAAAAAAAAAAAAAAAAAAAAAAAAAAAAABAAAAAAABAAAAAAAAAAAAAgAAAAAAAAAAAAAAAAAAAAEAAAAAAAEAAAAAAAAAAAAAAAEAAAAAAAEAAAAAAAAAAAAAAAAAAAAAAAAAAQAAAAAAAAAAAAAAAAAAAAAAAAABAAAAAAAAAAAAAAAAAAAAAQAAAAAAAAAAAAAAAAAAAAEAAAAAAAAAAQAAAAAAAAAAAAEAAAAAAAAAAAAAAAAAAAAAAAAAAAAAAAAAAAAAAAEAAAAAAAAAAAAAAAAAAAAAAAAAAAAAAAAAAAAAAAAAAAAAAAAAAAABAAEAAAABAAAAAAAAAAAAAAABAAAAAAAAAAAAAAAAAAAAAAAAAAAAAAAAAAAAAQAAAAAAAQAAAAAAAAAAAAEAAAAAAAAAAAAAAAIAAAADAAUAAAAAAAEAAQAAAAIAAAAAAAEAAAAAAAAAAAAAAAIAAAAAAAAAAAAAAAIAAgABAAEAAAALAAAAAAAAAAAAAAAAAAAAAgAAAAAAAgAAAAAAAAAAAAAADwAIAAAAAQAAAAEAAQABAAAAAAAAAAAAAgAAAAAAAAABAAAAAAAAAAEAAAADAAAAAAAAAAkAAQAAAAQAAAACAAAAAAAAAAAAAQAAAAAAAQAAAAAAAAAAAAAAAAAAAAAAAAAAAAAAAAAAAAEAAwAAAAAAAAACAAAAAAAAAAEAAAABAAAABgAAAAAAAAAAAAAAAAAAAAYAAAAAAAIAAAABAAAAAAAAAAgAAwABAAEAAAAAAAAAAAABAAAAAAAAAAMAAAAAAAAAAAAAAAAAAAAAAAAAAQABAAAAAAAJAAAAAQAAAAAAAQAAAAAAAAAAAAAAAAAAAAAAAAAAAAAAAAAAAAAAAAAAAAAAAAAAAAAAAAAAAAAAAAAAAAAAAAAAAAAAAAAAAAAAAAAAAAAAAAAAAAAAAAAAAAAAAAABAAAAAAAAAAAAAAAAAAAAAAACAAEAAAABAAAAAAAAAAAAAAAAAAAAAAAAAAAAAQAAAAEAAgAAAAAAAAAAAAEAAAAAAAAAAQAAAAAAAAAAAAAAAAAAAAAAAAAAAAAAAAAAAAAAAAAAAAAAAAAAAAAAAAAAAAAAAAAAAAAAAAAAAAAAAAAAAAAAAAAAAAAAAAAAAAAAAAABAAAAAAAAAAAAAAABAAAAAAAAAAAAAAAAAAAAAAAAAAAAAwABAAAAAAAAAAAAAAAAAAAAAAAAAAAAAAAAAAAAAAAAAAAAAAAAAAAAAAAAAAAAAAAAAAEAAAAAAAEAAAAAAAAAAAAAAAAAAAAAAAAABQACAAAAAAAAAAEAAAAAAAAAAAAAAAAAAAAAAAAAAAABAAAAAAADAAAAAAAAAAAABAAEAAAAFgAAAAAAAAABAAAAAAAAAA0AAAAAAAEAAAAAAAAAAAAAAB4ABgAAAAcAAgAAAAQAAQAAAAEAAAABAAUAAAAAAAAAAQABAAAAAAABAAQAAgAHAAEAAAATAAEAAQAAAAAAAgAAAAAAAAAAAAEABAANABYAFwABAAMADgACAAAAAwABAAEAAQABAAEAAAABABEABwABAAEALAAAAAAAGgALABMAEQAAAIcAAAAAAAQAAgAEAAIAFABgAAAAAQAUAAIAAAABAAQABQD2AEgACgAvABAABwAfAAQAAQADAAAAAAArAAAAAAABAAUABAABAAAABgAEABcANgAAAAAAoQABAAIAEwAAABMAAQABAAMABQAAAAAABAAHAAsAAAACAAMAAAAAAAMAAAAAAAEAAAAAAAAAAAAFAAUAAAAAAA8AAQAAAAYAAgADAAYAAAAxAAEAAQAAAAAAAwAAAAIAJwAAAAAACwAAAAAAAAABAAEAXwApAAcAFgAEAAEACwAAAAAAAQAAAAEAEgAAAAAAAAACAAEAAAAAAAUAAwAUABMAAAAAAEsAAAABAAQAAAACAAEAAAAAAAAAAAABAAAAAAAAAAAAAAAAAAAAAAAAAAAAAAAAAAAAAAAAAAAAAAAAAAEAAAACAAAAAAAAAAAAAAABAAAABQAAAAAAAAABAAAAAAABAAQAAAAAAAAAAAAAAAAAAAAAAAUABAAAAAEAAAAAAAAAAAAAAAAAAAAAAAEAAAAAAAAAAAAAAAAAAAAAAAAAAAABAAAAAAABAAAAAAABAAAAAAAAAAAAAAAAAAAAAAAAAAEAAAAAAAAAAQAAAAAAAAAAAAAAAAAAAAAAAAAAAAAAAAAAAAAAAAAAAAAAAAAAAAAAAAAAAAMAAAAAAAAAAAAAAAAAAgAEAAAAAAABAAAAAAAAAAAAAAAHAAAAAAACAAEAAAAAAAAAAAAAAAAAAAABAAAAAAAAAAAAAAAAAAAAAAAAAAEAAAAAAAAABAAAAAEAAQAAAAAAAAAAAAAAAAAAAAAAAAAAAAAAAAAAAAAAAAAAAAEAAAAAAAAAAAAAAAAAAAACAAAAAAAAAAEAAAAAAAAAAAAAAAAAAAABAAAAAAAAAAAAAAAAAAAAAwAAAAAAAAAAAAAAAAAAAAAAAQAAAAAAAgAAAAAAAQAAAAAAAAAAAAAAAwAAAAAAAAAAAAAAAAAAAAAAAQABAAAAAAAAAAIAAAAAAAAAAAABAAAAAAAAAAAAAAABAAAABQABAAAAAAAAAAAAAQABAAAAAAAAAAAAAAAAAAAAAAAAAAAAAAACAAAAAQAAAAAAAgABAAAADAAAAAAAAAAAAAAAAAABAAwAAAAAAAEAAAABAAAAAAAAAAsABAAAAAQAAAACAAUAAAAAAAEAAAAAAAMAAAAAAAAAAAAAAAAAAAAAAAEAAQAFAAAAAAAKAAAAAAABAAAAAAAAAAAAAAAAAAAAAAAAAAAAAAAAAAAAAAAAAAAAAAAAAAAAAAAAAAAAAAAAAAAAAAAAAAEAAQAAAAAAAAAAAAAAAAAAAAIAAAAAAAAAAAAAAAAAAQAAAAAAAAAAAAAAAAAAAAAAAAABAAAAAAAAAAAAAAABAAAAAAAAAAAAAAAAAAAAAAAAAAAAAAAAAAAAAAAAAAAAAQAAAAEAAAAAAAEAAAAAAAAAAAAAAAAAAAAAAAAAAAAAAAAAAAABAAAAAAAAAAAAAAAAAAAAAAAAAAAAAAAAAAAAAAAAAAEAAAAAAAAAAAAAAAAAAAAAAAEAAAAAAAAAAAAAAAAAAQAAAAAAAAAAAAAAAAABAAAAAQACAAAAAAAAAAAAAAAAAAAAAAAAAAAAAAAAAAAAAAAAAAEAAAAAAAAAAAAAAAIAAAAAAAEAAQAAAAAAAAAAAAAAAAAAAAAAAAAAAAAAAAAAAAAAAAAAAAAAAAAAAAAAAAAAAAAAAAAAAAAAAAAAAAAAAAAAAAAAAAAAAAAAAAAAAAAAAQAAAAAAAAAAAAAAAAAAAAEAAAAAAAAAAAAAAAAAAAAAAAIAAQAAAAAAAQAAAAAAAQAAAAAAAAAAAAAAAAAAAAAAAAAAAAAAAAAAAAAAAAAAAAAAAAABAAAAAAAAAAAAAAAAAAAAAAAAAAAAAAABAAEAAQAAAAAAAAAAAAAAAQAAAAAAAAAAAAAAAAAAAAAAAAAAAAAAAwAAAAAAAAAAAAAAAAAAAAcAAAAAAAAAAAAAAAAAAgAIAAEAAAAAAAAAAAAAAAAAAAAGAAMAAAADAAEAAAAAAAAAAAAAAAAAAAABAAEAAAAAAAAAAAAAAAAAAAAAAAEAAgAAAAAABQAAAAAAAAAAAAIAAAAAAAAAAAA=",
          "dtype": "i2",
          "shape": "32, 83"
         }
        }
       ],
       "layout": {
        "coloraxis": {
         "colorscale": [
          [
           0,
           "rgb(255,255,217)"
          ],
          [
           0.125,
           "rgb(237,248,177)"
          ],
          [
           0.25,
           "rgb(199,233,180)"
          ],
          [
           0.375,
           "rgb(127,205,187)"
          ],
          [
           0.5,
           "rgb(65,182,196)"
          ],
          [
           0.625,
           "rgb(29,145,192)"
          ],
          [
           0.75,
           "rgb(34,94,168)"
          ],
          [
           0.875,
           "rgb(37,52,148)"
          ],
          [
           1,
           "rgb(8,29,88)"
          ]
         ]
        },
        "margin": {
         "t": 60
        },
        "template": {
         "data": {
          "bar": [
           {
            "error_x": {
             "color": "#2a3f5f"
            },
            "error_y": {
             "color": "#2a3f5f"
            },
            "marker": {
             "line": {
              "color": "#E5ECF6",
              "width": 0.5
             },
             "pattern": {
              "fillmode": "overlay",
              "size": 10,
              "solidity": 0.2
             }
            },
            "type": "bar"
           }
          ],
          "barpolar": [
           {
            "marker": {
             "line": {
              "color": "#E5ECF6",
              "width": 0.5
             },
             "pattern": {
              "fillmode": "overlay",
              "size": 10,
              "solidity": 0.2
             }
            },
            "type": "barpolar"
           }
          ],
          "carpet": [
           {
            "aaxis": {
             "endlinecolor": "#2a3f5f",
             "gridcolor": "white",
             "linecolor": "white",
             "minorgridcolor": "white",
             "startlinecolor": "#2a3f5f"
            },
            "baxis": {
             "endlinecolor": "#2a3f5f",
             "gridcolor": "white",
             "linecolor": "white",
             "minorgridcolor": "white",
             "startlinecolor": "#2a3f5f"
            },
            "type": "carpet"
           }
          ],
          "choropleth": [
           {
            "colorbar": {
             "outlinewidth": 0,
             "ticks": ""
            },
            "type": "choropleth"
           }
          ],
          "contour": [
           {
            "colorbar": {
             "outlinewidth": 0,
             "ticks": ""
            },
            "colorscale": [
             [
              0,
              "#0d0887"
             ],
             [
              0.1111111111111111,
              "#46039f"
             ],
             [
              0.2222222222222222,
              "#7201a8"
             ],
             [
              0.3333333333333333,
              "#9c179e"
             ],
             [
              0.4444444444444444,
              "#bd3786"
             ],
             [
              0.5555555555555556,
              "#d8576b"
             ],
             [
              0.6666666666666666,
              "#ed7953"
             ],
             [
              0.7777777777777778,
              "#fb9f3a"
             ],
             [
              0.8888888888888888,
              "#fdca26"
             ],
             [
              1,
              "#f0f921"
             ]
            ],
            "type": "contour"
           }
          ],
          "contourcarpet": [
           {
            "colorbar": {
             "outlinewidth": 0,
             "ticks": ""
            },
            "type": "contourcarpet"
           }
          ],
          "heatmap": [
           {
            "colorbar": {
             "outlinewidth": 0,
             "ticks": ""
            },
            "colorscale": [
             [
              0,
              "#0d0887"
             ],
             [
              0.1111111111111111,
              "#46039f"
             ],
             [
              0.2222222222222222,
              "#7201a8"
             ],
             [
              0.3333333333333333,
              "#9c179e"
             ],
             [
              0.4444444444444444,
              "#bd3786"
             ],
             [
              0.5555555555555556,
              "#d8576b"
             ],
             [
              0.6666666666666666,
              "#ed7953"
             ],
             [
              0.7777777777777778,
              "#fb9f3a"
             ],
             [
              0.8888888888888888,
              "#fdca26"
             ],
             [
              1,
              "#f0f921"
             ]
            ],
            "type": "heatmap"
           }
          ],
          "histogram": [
           {
            "marker": {
             "pattern": {
              "fillmode": "overlay",
              "size": 10,
              "solidity": 0.2
             }
            },
            "type": "histogram"
           }
          ],
          "histogram2d": [
           {
            "colorbar": {
             "outlinewidth": 0,
             "ticks": ""
            },
            "colorscale": [
             [
              0,
              "#0d0887"
             ],
             [
              0.1111111111111111,
              "#46039f"
             ],
             [
              0.2222222222222222,
              "#7201a8"
             ],
             [
              0.3333333333333333,
              "#9c179e"
             ],
             [
              0.4444444444444444,
              "#bd3786"
             ],
             [
              0.5555555555555556,
              "#d8576b"
             ],
             [
              0.6666666666666666,
              "#ed7953"
             ],
             [
              0.7777777777777778,
              "#fb9f3a"
             ],
             [
              0.8888888888888888,
              "#fdca26"
             ],
             [
              1,
              "#f0f921"
             ]
            ],
            "type": "histogram2d"
           }
          ],
          "histogram2dcontour": [
           {
            "colorbar": {
             "outlinewidth": 0,
             "ticks": ""
            },
            "colorscale": [
             [
              0,
              "#0d0887"
             ],
             [
              0.1111111111111111,
              "#46039f"
             ],
             [
              0.2222222222222222,
              "#7201a8"
             ],
             [
              0.3333333333333333,
              "#9c179e"
             ],
             [
              0.4444444444444444,
              "#bd3786"
             ],
             [
              0.5555555555555556,
              "#d8576b"
             ],
             [
              0.6666666666666666,
              "#ed7953"
             ],
             [
              0.7777777777777778,
              "#fb9f3a"
             ],
             [
              0.8888888888888888,
              "#fdca26"
             ],
             [
              1,
              "#f0f921"
             ]
            ],
            "type": "histogram2dcontour"
           }
          ],
          "mesh3d": [
           {
            "colorbar": {
             "outlinewidth": 0,
             "ticks": ""
            },
            "type": "mesh3d"
           }
          ],
          "parcoords": [
           {
            "line": {
             "colorbar": {
              "outlinewidth": 0,
              "ticks": ""
             }
            },
            "type": "parcoords"
           }
          ],
          "pie": [
           {
            "automargin": true,
            "type": "pie"
           }
          ],
          "scatter": [
           {
            "fillpattern": {
             "fillmode": "overlay",
             "size": 10,
             "solidity": 0.2
            },
            "type": "scatter"
           }
          ],
          "scatter3d": [
           {
            "line": {
             "colorbar": {
              "outlinewidth": 0,
              "ticks": ""
             }
            },
            "marker": {
             "colorbar": {
              "outlinewidth": 0,
              "ticks": ""
             }
            },
            "type": "scatter3d"
           }
          ],
          "scattercarpet": [
           {
            "marker": {
             "colorbar": {
              "outlinewidth": 0,
              "ticks": ""
             }
            },
            "type": "scattercarpet"
           }
          ],
          "scattergeo": [
           {
            "marker": {
             "colorbar": {
              "outlinewidth": 0,
              "ticks": ""
             }
            },
            "type": "scattergeo"
           }
          ],
          "scattergl": [
           {
            "marker": {
             "colorbar": {
              "outlinewidth": 0,
              "ticks": ""
             }
            },
            "type": "scattergl"
           }
          ],
          "scattermap": [
           {
            "marker": {
             "colorbar": {
              "outlinewidth": 0,
              "ticks": ""
             }
            },
            "type": "scattermap"
           }
          ],
          "scattermapbox": [
           {
            "marker": {
             "colorbar": {
              "outlinewidth": 0,
              "ticks": ""
             }
            },
            "type": "scattermapbox"
           }
          ],
          "scatterpolar": [
           {
            "marker": {
             "colorbar": {
              "outlinewidth": 0,
              "ticks": ""
             }
            },
            "type": "scatterpolar"
           }
          ],
          "scatterpolargl": [
           {
            "marker": {
             "colorbar": {
              "outlinewidth": 0,
              "ticks": ""
             }
            },
            "type": "scatterpolargl"
           }
          ],
          "scatterternary": [
           {
            "marker": {
             "colorbar": {
              "outlinewidth": 0,
              "ticks": ""
             }
            },
            "type": "scatterternary"
           }
          ],
          "surface": [
           {
            "colorbar": {
             "outlinewidth": 0,
             "ticks": ""
            },
            "colorscale": [
             [
              0,
              "#0d0887"
             ],
             [
              0.1111111111111111,
              "#46039f"
             ],
             [
              0.2222222222222222,
              "#7201a8"
             ],
             [
              0.3333333333333333,
              "#9c179e"
             ],
             [
              0.4444444444444444,
              "#bd3786"
             ],
             [
              0.5555555555555556,
              "#d8576b"
             ],
             [
              0.6666666666666666,
              "#ed7953"
             ],
             [
              0.7777777777777778,
              "#fb9f3a"
             ],
             [
              0.8888888888888888,
              "#fdca26"
             ],
             [
              1,
              "#f0f921"
             ]
            ],
            "type": "surface"
           }
          ],
          "table": [
           {
            "cells": {
             "fill": {
              "color": "#EBF0F8"
             },
             "line": {
              "color": "white"
             }
            },
            "header": {
             "fill": {
              "color": "#C8D4E3"
             },
             "line": {
              "color": "white"
             }
            },
            "type": "table"
           }
          ]
         },
         "layout": {
          "annotationdefaults": {
           "arrowcolor": "#2a3f5f",
           "arrowhead": 0,
           "arrowwidth": 1
          },
          "autotypenumbers": "strict",
          "coloraxis": {
           "colorbar": {
            "outlinewidth": 0,
            "ticks": ""
           }
          },
          "colorscale": {
           "diverging": [
            [
             0,
             "#8e0152"
            ],
            [
             0.1,
             "#c51b7d"
            ],
            [
             0.2,
             "#de77ae"
            ],
            [
             0.3,
             "#f1b6da"
            ],
            [
             0.4,
             "#fde0ef"
            ],
            [
             0.5,
             "#f7f7f7"
            ],
            [
             0.6,
             "#e6f5d0"
            ],
            [
             0.7,
             "#b8e186"
            ],
            [
             0.8,
             "#7fbc41"
            ],
            [
             0.9,
             "#4d9221"
            ],
            [
             1,
             "#276419"
            ]
           ],
           "sequential": [
            [
             0,
             "#0d0887"
            ],
            [
             0.1111111111111111,
             "#46039f"
            ],
            [
             0.2222222222222222,
             "#7201a8"
            ],
            [
             0.3333333333333333,
             "#9c179e"
            ],
            [
             0.4444444444444444,
             "#bd3786"
            ],
            [
             0.5555555555555556,
             "#d8576b"
            ],
            [
             0.6666666666666666,
             "#ed7953"
            ],
            [
             0.7777777777777778,
             "#fb9f3a"
            ],
            [
             0.8888888888888888,
             "#fdca26"
            ],
            [
             1,
             "#f0f921"
            ]
           ],
           "sequentialminus": [
            [
             0,
             "#0d0887"
            ],
            [
             0.1111111111111111,
             "#46039f"
            ],
            [
             0.2222222222222222,
             "#7201a8"
            ],
            [
             0.3333333333333333,
             "#9c179e"
            ],
            [
             0.4444444444444444,
             "#bd3786"
            ],
            [
             0.5555555555555556,
             "#d8576b"
            ],
            [
             0.6666666666666666,
             "#ed7953"
            ],
            [
             0.7777777777777778,
             "#fb9f3a"
            ],
            [
             0.8888888888888888,
             "#fdca26"
            ],
            [
             1,
             "#f0f921"
            ]
           ]
          },
          "colorway": [
           "#636efa",
           "#EF553B",
           "#00cc96",
           "#ab63fa",
           "#FFA15A",
           "#19d3f3",
           "#FF6692",
           "#B6E880",
           "#FF97FF",
           "#FECB52"
          ],
          "font": {
           "color": "#2a3f5f"
          },
          "geo": {
           "bgcolor": "white",
           "lakecolor": "white",
           "landcolor": "#E5ECF6",
           "showlakes": true,
           "showland": true,
           "subunitcolor": "white"
          },
          "hoverlabel": {
           "align": "left"
          },
          "hovermode": "closest",
          "mapbox": {
           "style": "light"
          },
          "paper_bgcolor": "white",
          "plot_bgcolor": "#E5ECF6",
          "polar": {
           "angularaxis": {
            "gridcolor": "white",
            "linecolor": "white",
            "ticks": ""
           },
           "bgcolor": "#E5ECF6",
           "radialaxis": {
            "gridcolor": "white",
            "linecolor": "white",
            "ticks": ""
           }
          },
          "scene": {
           "xaxis": {
            "backgroundcolor": "#E5ECF6",
            "gridcolor": "white",
            "gridwidth": 2,
            "linecolor": "white",
            "showbackground": true,
            "ticks": "",
            "zerolinecolor": "white"
           },
           "yaxis": {
            "backgroundcolor": "#E5ECF6",
            "gridcolor": "white",
            "gridwidth": 2,
            "linecolor": "white",
            "showbackground": true,
            "ticks": "",
            "zerolinecolor": "white"
           },
           "zaxis": {
            "backgroundcolor": "#E5ECF6",
            "gridcolor": "white",
            "gridwidth": 2,
            "linecolor": "white",
            "showbackground": true,
            "ticks": "",
            "zerolinecolor": "white"
           }
          },
          "shapedefaults": {
           "line": {
            "color": "#2a3f5f"
           }
          },
          "ternary": {
           "aaxis": {
            "gridcolor": "white",
            "linecolor": "white",
            "ticks": ""
           },
           "baxis": {
            "gridcolor": "white",
            "linecolor": "white",
            "ticks": ""
           },
           "bgcolor": "#E5ECF6",
           "caxis": {
            "gridcolor": "white",
            "linecolor": "white",
            "ticks": ""
           }
          },
          "title": {
           "x": 0.05
          },
          "xaxis": {
           "automargin": true,
           "gridcolor": "white",
           "linecolor": "white",
           "ticks": "",
           "title": {
            "standoff": 15
           },
           "zerolinecolor": "white",
           "zerolinewidth": 2
          },
          "yaxis": {
           "automargin": true,
           "gridcolor": "white",
           "linecolor": "white",
           "ticks": "",
           "title": {
            "standoff": 15
           },
           "zerolinecolor": "white",
           "zerolinewidth": 2
          }
         }
        },
        "title": {
         "text": "Job Function Description by Job Title"
        },
        "xaxis": {
         "anchor": "y",
         "domain": [
          0,
          1
         ],
         "title": {
          "text": "Job Function Description"
         }
        },
        "yaxis": {
         "anchor": "x",
         "autorange": "reversed",
         "domain": [
          0,
          1
         ],
         "title": {
          "text": "Job Title"
         }
        }
       }
      }
     },
     "metadata": {},
     "output_type": "display_data"
    }
   ],
   "source": [
    "ct_title_function = pd.crosstab(employee_df['Title'], employee_df['JobFunctionDescription'])\n",
    "\n",
    "fig = px.imshow(\n",
    "    ct_title_function.values,\n",
    "    x=ct_title_function.columns,\n",
    "    y=ct_title_function.index,\n",
    "    text_auto=True,\n",
    "    color_continuous_scale='YlGnBu',\n",
    "    aspect=\"auto\",\n",
    ")\n",
    "\n",
    "fig.update_layout(\n",
    "    title=\"Job Function Description by Job Title\",\n",
    "    xaxis_title=\"Job Function Description\",\n",
    "    yaxis_title=\"Job Title\"\n",
    ")\n",
    "fig.show()"
   ]
  },
  {
   "cell_type": "markdown",
   "id": "d3804f8a",
   "metadata": {},
   "source": [
    "### Data Cleaning"
   ]
  },
  {
   "cell_type": "code",
   "execution_count": 61,
   "id": "7b39a9f8",
   "metadata": {},
   "outputs": [],
   "source": [
    "clean_emp = employee_df.copy()"
   ]
  },
  {
   "cell_type": "code",
   "execution_count": 62,
   "id": "741939af",
   "metadata": {},
   "outputs": [
    {
     "data": {
      "application/vnd.microsoft.datawrangler.viewer.v0+json": {
       "columns": [
        {
         "name": "CleanedEmployeeStatus",
         "rawType": "object",
         "type": "string"
        },
        {
         "name": "Involuntary",
         "rawType": "int64",
         "type": "integer"
        },
        {
         "name": "Resignation",
         "rawType": "int64",
         "type": "integer"
        },
        {
         "name": "Retirement",
         "rawType": "int64",
         "type": "integer"
        },
        {
         "name": "Unk",
         "rawType": "int64",
         "type": "integer"
        },
        {
         "name": "Voluntary",
         "rawType": "int64",
         "type": "integer"
        },
        {
         "name": "Total",
         "rawType": "int64",
         "type": "integer"
        }
       ],
       "ref": "d7861d19-d347-4c20-bc39-e9842e76aef3",
       "rows": [
        [
         "Active",
         "0",
         "0",
         "0",
         "1467",
         "0",
         "1467"
        ],
        [
         "Inactive",
         "388",
         "380",
         "377",
         "0",
         "388",
         "1533"
        ],
        [
         "Total",
         "388",
         "380",
         "377",
         "1467",
         "388",
         "3000"
        ]
       ],
       "shape": {
        "columns": 6,
        "rows": 3
       }
      },
      "text/html": [
       "<div>\n",
       "<style scoped>\n",
       "    .dataframe tbody tr th:only-of-type {\n",
       "        vertical-align: middle;\n",
       "    }\n",
       "\n",
       "    .dataframe tbody tr th {\n",
       "        vertical-align: top;\n",
       "    }\n",
       "\n",
       "    .dataframe thead th {\n",
       "        text-align: right;\n",
       "    }\n",
       "</style>\n",
       "<table border=\"1\" class=\"dataframe\">\n",
       "  <thead>\n",
       "    <tr style=\"text-align: right;\">\n",
       "      <th>TerminationType</th>\n",
       "      <th>Involuntary</th>\n",
       "      <th>Resignation</th>\n",
       "      <th>Retirement</th>\n",
       "      <th>Unk</th>\n",
       "      <th>Voluntary</th>\n",
       "      <th>Total</th>\n",
       "    </tr>\n",
       "    <tr>\n",
       "      <th>CleanedEmployeeStatus</th>\n",
       "      <th></th>\n",
       "      <th></th>\n",
       "      <th></th>\n",
       "      <th></th>\n",
       "      <th></th>\n",
       "      <th></th>\n",
       "    </tr>\n",
       "  </thead>\n",
       "  <tbody>\n",
       "    <tr>\n",
       "      <th>Active</th>\n",
       "      <td>0</td>\n",
       "      <td>0</td>\n",
       "      <td>0</td>\n",
       "      <td>1467</td>\n",
       "      <td>0</td>\n",
       "      <td>1467</td>\n",
       "    </tr>\n",
       "    <tr>\n",
       "      <th>Inactive</th>\n",
       "      <td>388</td>\n",
       "      <td>380</td>\n",
       "      <td>377</td>\n",
       "      <td>0</td>\n",
       "      <td>388</td>\n",
       "      <td>1533</td>\n",
       "    </tr>\n",
       "    <tr>\n",
       "      <th>Total</th>\n",
       "      <td>388</td>\n",
       "      <td>380</td>\n",
       "      <td>377</td>\n",
       "      <td>1467</td>\n",
       "      <td>388</td>\n",
       "      <td>3000</td>\n",
       "    </tr>\n",
       "  </tbody>\n",
       "</table>\n",
       "</div>"
      ],
      "text/plain": [
       "TerminationType        Involuntary  Resignation  Retirement   Unk  Voluntary  \\\n",
       "CleanedEmployeeStatus                                                          \n",
       "Active                           0            0           0  1467          0   \n",
       "Inactive                       388          380         377     0        388   \n",
       "Total                          388          380         377  1467        388   \n",
       "\n",
       "TerminationType        Total  \n",
       "CleanedEmployeeStatus         \n",
       "Active                  1467  \n",
       "Inactive                1533  \n",
       "Total                   3000  "
      ]
     },
     "execution_count": 62,
     "metadata": {},
     "output_type": "execute_result"
    }
   ],
   "source": [
    "# clean employee status\n",
    "\n",
    "def clean_employee_status(row):\n",
    "    if pd.isna(row['ExitDate']):\n",
    "        return row['EmployeeStatus']\n",
    "    else:\n",
    "        return 'Inactive'\n",
    "\n",
    "clean_emp['CleanedEmployeeStatus'] = clean_emp.apply(clean_employee_status, axis=1)\n",
    "\n",
    "# crosstab of cleaned employee status by exit year\n",
    "pd.crosstab(clean_emp['CleanedEmployeeStatus'], clean_emp['TerminationType'], margins=True, margins_name='Total')"
   ]
  },
  {
   "cell_type": "code",
   "execution_count": 63,
   "id": "692c6c2b",
   "metadata": {},
   "outputs": [
    {
     "name": "stdout",
     "output_type": "stream",
     "text": [
      "Rows where DOB > StartDate: 0\n",
      "Rows where StartDate > ExitDate: 0\n",
      "Rows where ExitDate > current year: 0\n"
     ]
    },
    {
     "data": {
      "application/vnd.microsoft.datawrangler.viewer.v0+json": {
       "columns": [
        {
         "name": "index",
         "rawType": "int64",
         "type": "integer"
        },
        {
         "name": "StartDate",
         "rawType": "object",
         "type": "string"
        },
        {
         "name": "ExitDate",
         "rawType": "object",
         "type": "unknown"
        },
        {
         "name": "DOB",
         "rawType": "object",
         "type": "string"
        }
       ],
       "ref": "96e66c7d-ee56-4217-988e-37a4e74e741c",
       "rows": [
        [
         "0",
         "2019-09-20",
         null,
         "1969-10-07"
        ],
        [
         "1",
         "2023-02-11",
         null,
         "1965-08-30"
        ],
        [
         "2",
         "2018-12-10",
         null,
         "1991-10-06"
        ],
        [
         "3",
         "2021-06-21",
         null,
         "1998-04-04"
        ],
        [
         "4",
         "2019-06-29",
         null,
         "1969-08-29"
        ],
        [
         "5",
         "2020-01-17",
         null,
         "1949-04-03"
        ],
        [
         "6",
         "2022-04-06",
         "2023-07-03",
         "1942-07-01"
        ],
        [
         "7",
         "2020-11-06",
         "2023-01-29",
         "1957-03-07"
        ],
        [
         "8",
         "2018-08-18",
         null,
         "1974-05-15"
        ],
        [
         "9",
         "2022-01-21",
         "2023-06-29",
         "1949-11-11"
        ],
        [
         "10",
         "2023-08-04",
         null,
         "1964-01-26"
        ],
        [
         "11",
         "2018-08-10",
         "2019-11-04",
         "1948-04-06"
        ],
        [
         "12",
         "2022-05-25",
         "2022-11-27",
         "1981-11-24"
        ],
        [
         "13",
         "2019-12-05",
         "2023-02-17",
         "1951-11-06"
        ],
        [
         "14",
         "2019-04-28",
         null,
         "1989-11-21"
        ],
        [
         "15",
         "2019-07-09",
         "2022-06-16",
         "1952-11-24"
        ],
        [
         "16",
         "2021-04-05",
         "2023-05-12",
         "1994-04-08"
        ],
        [
         "17",
         "2021-11-28",
         "2022-02-04",
         "1983-11-15"
        ],
        [
         "18",
         "2021-01-16",
         null,
         "1985-12-07"
        ],
        [
         "19",
         "2021-08-24",
         null,
         "1996-05-01"
        ],
        [
         "20",
         "2020-05-26",
         "2023-06-18",
         "1964-02-17"
        ],
        [
         "21",
         "2019-10-01",
         "2020-11-06",
         "1958-05-12"
        ],
        [
         "22",
         "2023-05-10",
         "2023-05-27",
         "1992-09-18"
        ],
        [
         "23",
         "2020-09-01",
         "2022-12-04",
         "1994-08-11"
        ],
        [
         "24",
         "2021-02-18",
         "2022-11-11",
         "1968-01-15"
        ],
        [
         "25",
         "2022-11-08",
         null,
         "1947-01-07"
        ],
        [
         "26",
         "2022-10-13",
         null,
         "1982-04-07"
        ],
        [
         "27",
         "2022-09-11",
         null,
         "1970-01-29"
        ],
        [
         "28",
         "2021-06-29",
         "2022-07-05",
         "1999-01-18"
        ],
        [
         "29",
         "2023-03-06",
         null,
         "1946-09-25"
        ],
        [
         "30",
         "2020-09-25",
         null,
         "1947-08-23"
        ],
        [
         "31",
         "2022-04-28",
         "2023-05-24",
         "1996-08-12"
        ],
        [
         "32",
         "2021-04-18",
         "2022-06-21",
         "1944-02-09"
        ],
        [
         "33",
         "2020-02-19",
         null,
         "1944-02-10"
        ],
        [
         "34",
         "2019-07-18",
         "2021-10-01",
         "1997-12-29"
        ],
        [
         "35",
         "2018-09-13",
         "2021-09-17",
         "1942-08-09"
        ],
        [
         "36",
         "2020-04-30",
         "2021-07-18",
         "1951-06-21"
        ],
        [
         "37",
         "2018-12-03",
         "2022-09-09",
         "1998-06-17"
        ],
        [
         "38",
         "2021-11-08",
         null,
         "1962-01-07"
        ],
        [
         "39",
         "2022-04-13",
         "2023-04-10",
         "1979-01-26"
        ],
        [
         "40",
         "2020-05-06",
         null,
         "1987-05-14"
        ],
        [
         "41",
         "2019-09-09",
         null,
         "1998-04-26"
        ],
        [
         "42",
         "2020-07-29",
         "2023-01-05",
         "1945-02-21"
        ],
        [
         "43",
         "2018-11-14",
         "2019-10-28",
         "1997-05-31"
        ],
        [
         "44",
         "2020-02-29",
         null,
         "1967-01-03"
        ],
        [
         "45",
         "2023-01-15",
         null,
         "1982-01-12"
        ],
        [
         "46",
         "2023-06-29",
         null,
         "1950-10-01"
        ],
        [
         "47",
         "2020-03-09",
         null,
         "1965-12-16"
        ],
        [
         "48",
         "2021-09-21",
         "2023-04-13",
         "1957-12-25"
        ],
        [
         "49",
         "2023-06-12",
         "2023-07-06",
         "1945-06-20"
        ]
       ],
       "shape": {
        "columns": 3,
        "rows": 3000
       }
      },
      "text/html": [
       "<div>\n",
       "<style scoped>\n",
       "    .dataframe tbody tr th:only-of-type {\n",
       "        vertical-align: middle;\n",
       "    }\n",
       "\n",
       "    .dataframe tbody tr th {\n",
       "        vertical-align: top;\n",
       "    }\n",
       "\n",
       "    .dataframe thead th {\n",
       "        text-align: right;\n",
       "    }\n",
       "</style>\n",
       "<table border=\"1\" class=\"dataframe\">\n",
       "  <thead>\n",
       "    <tr style=\"text-align: right;\">\n",
       "      <th></th>\n",
       "      <th>StartDate</th>\n",
       "      <th>ExitDate</th>\n",
       "      <th>DOB</th>\n",
       "    </tr>\n",
       "  </thead>\n",
       "  <tbody>\n",
       "    <tr>\n",
       "      <th>0</th>\n",
       "      <td>2019-09-20</td>\n",
       "      <td>NaN</td>\n",
       "      <td>1969-10-07</td>\n",
       "    </tr>\n",
       "    <tr>\n",
       "      <th>1</th>\n",
       "      <td>2023-02-11</td>\n",
       "      <td>NaN</td>\n",
       "      <td>1965-08-30</td>\n",
       "    </tr>\n",
       "    <tr>\n",
       "      <th>2</th>\n",
       "      <td>2018-12-10</td>\n",
       "      <td>NaN</td>\n",
       "      <td>1991-10-06</td>\n",
       "    </tr>\n",
       "    <tr>\n",
       "      <th>3</th>\n",
       "      <td>2021-06-21</td>\n",
       "      <td>NaN</td>\n",
       "      <td>1998-04-04</td>\n",
       "    </tr>\n",
       "    <tr>\n",
       "      <th>4</th>\n",
       "      <td>2019-06-29</td>\n",
       "      <td>NaN</td>\n",
       "      <td>1969-08-29</td>\n",
       "    </tr>\n",
       "    <tr>\n",
       "      <th>...</th>\n",
       "      <td>...</td>\n",
       "      <td>...</td>\n",
       "      <td>...</td>\n",
       "    </tr>\n",
       "    <tr>\n",
       "      <th>2995</th>\n",
       "      <td>2022-06-22</td>\n",
       "      <td>2022-08-07</td>\n",
       "      <td>1998-06-23</td>\n",
       "    </tr>\n",
       "    <tr>\n",
       "      <th>2996</th>\n",
       "      <td>2020-12-28</td>\n",
       "      <td>NaN</td>\n",
       "      <td>2001-06-10</td>\n",
       "    </tr>\n",
       "    <tr>\n",
       "      <th>2997</th>\n",
       "      <td>2020-12-09</td>\n",
       "      <td>2022-08-04</td>\n",
       "      <td>1997-01-27</td>\n",
       "    </tr>\n",
       "    <tr>\n",
       "      <th>2998</th>\n",
       "      <td>2019-05-28</td>\n",
       "      <td>2021-10-23</td>\n",
       "      <td>1954-05-28</td>\n",
       "    </tr>\n",
       "    <tr>\n",
       "      <th>2999</th>\n",
       "      <td>2022-04-27</td>\n",
       "      <td>NaN</td>\n",
       "      <td>1990-09-11</td>\n",
       "    </tr>\n",
       "  </tbody>\n",
       "</table>\n",
       "<p>3000 rows × 3 columns</p>\n",
       "</div>"
      ],
      "text/plain": [
       "       StartDate    ExitDate         DOB\n",
       "0     2019-09-20         NaN  1969-10-07\n",
       "1     2023-02-11         NaN  1965-08-30\n",
       "2     2018-12-10         NaN  1991-10-06\n",
       "3     2021-06-21         NaN  1998-04-04\n",
       "4     2019-06-29         NaN  1969-08-29\n",
       "...          ...         ...         ...\n",
       "2995  2022-06-22  2022-08-07  1998-06-23\n",
       "2996  2020-12-28         NaN  2001-06-10\n",
       "2997  2020-12-09  2022-08-04  1997-01-27\n",
       "2998  2019-05-28  2021-10-23  1954-05-28\n",
       "2999  2022-04-27         NaN  1990-09-11\n",
       "\n",
       "[3000 rows x 3 columns]"
      ]
     },
     "execution_count": 63,
     "metadata": {},
     "output_type": "execute_result"
    }
   ],
   "source": [
    "# Clean date\n",
    "date_cols = clean_emp[['StartDate', 'ExitDate', 'DOB']]\n",
    "for c in date_cols.columns:\n",
    "    clean_emp[c] = pd.to_datetime(clean_emp[c], errors='coerce', dayfirst=True)\n",
    "\n",
    "current_year = datetime.now().year\n",
    "\n",
    "dob_gt_start = clean_emp[clean_emp['DOB'] > clean_emp['StartDate']][['DOB', 'StartDate', 'ExitDate']]\n",
    "\n",
    "start_gt_exit = clean_emp[(clean_emp['ExitDate'].notna()) & (clean_emp['StartDate'] > clean_emp['ExitDate'])][['DOB', 'StartDate', 'ExitDate']]\n",
    "\n",
    "exit_gt_now = clean_emp[(clean_emp['ExitDate'].notna()) & (clean_emp['ExitDate'].dt.year > current_year)][['DOB', 'StartDate', 'ExitDate']]\n",
    "\n",
    "# Convert back to ISO 8601 string for output\n",
    "for c in ['StartDate', 'ExitDate', 'DOB']:\n",
    "    clean_emp[c] = clean_emp[c].dt.strftime('%Y-%m-%d')\n",
    "\n",
    "print(f'Rows where DOB > StartDate: {len(dob_gt_start)}')\n",
    "print(f'Rows where StartDate > ExitDate: {len(start_gt_exit)}')\n",
    "print(f'Rows where ExitDate > current year: {len(exit_gt_now)}')\n",
    "\n",
    "clean_emp[['StartDate', 'ExitDate', 'DOB']]"
   ]
  },
  {
   "cell_type": "code",
   "execution_count": 64,
   "id": "5bd2b407",
   "metadata": {},
   "outputs": [
    {
     "data": {
      "application/vnd.microsoft.datawrangler.viewer.v0+json": {
       "columns": [
        {
         "name": "index",
         "rawType": "int64",
         "type": "integer"
        },
        {
         "name": "0",
         "rawType": "object",
         "type": "string"
        }
       ],
       "ref": "fa632f1b-eef3-4bd5-8c57-d21677744b8a",
       "rows": [
        [
         "0",
         "Finance & Accounting"
        ],
        [
         "1",
         "Aerial"
        ],
        [
         "2",
         "General - Sga"
        ],
        [
         "3",
         "General - Con"
        ],
        [
         "4",
         "Field Operations"
        ],
        [
         "5",
         "General - Eng"
        ],
        [
         "6",
         "Engineers"
        ],
        [
         "7",
         "Executive"
        ],
        [
         "8",
         "Splicing"
        ],
        [
         "9",
         "Project Management - Con"
        ],
        [
         "10",
         "Fielders"
        ],
        [
         "11",
         "Project Management - Eng"
        ],
        [
         "12",
         "Shop (Fleet)"
        ],
        [
         "13",
         "Wireline Construction"
        ],
        [
         "14",
         "Catv"
        ],
        [
         "15",
         "Yard (Material Handling)"
        ],
        [
         "16",
         "Wireless"
        ],
        [
         "17",
         "People Services"
        ],
        [
         "18",
         "Underground"
        ],
        [
         "19",
         "Billable Consultants"
        ],
        [
         "20",
         "Technology_IT"
        ],
        [
         "21",
         "Sales & Marketing"
        ],
        [
         "22",
         "Safety"
        ],
        [
         "23",
         "Isp"
        ],
        [
         "24",
         "Corp Operations"
        ]
       ],
       "shape": {
        "columns": 1,
        "rows": 25
       }
      },
      "text/plain": [
       "array(['Finance & Accounting', 'Aerial', 'General - Sga', 'General - Con',\n",
       "       'Field Operations', 'General - Eng', 'Engineers', 'Executive',\n",
       "       'Splicing', 'Project Management - Con', 'Fielders',\n",
       "       'Project Management - Eng', 'Shop (Fleet)',\n",
       "       'Wireline Construction', 'Catv', 'Yard (Material Handling)',\n",
       "       'Wireless', 'People Services', 'Underground',\n",
       "       'Billable Consultants', 'Technology_IT', 'Sales & Marketing',\n",
       "       'Safety', 'Isp', 'Corp Operations'], dtype=object)"
      ]
     },
     "execution_count": 64,
     "metadata": {},
     "output_type": "execute_result"
    }
   ],
   "source": [
    "# Clean 'Technology / It' in Division column\n",
    "clean_emp['Division'] = clean_emp['Division'].replace({'Technology / It': 'Technology_IT'})\n",
    "clean_emp['Division'].unique()"
   ]
  },
  {
   "cell_type": "code",
   "execution_count": 65,
   "id": "193701d8",
   "metadata": {},
   "outputs": [
    {
     "data": {
      "application/vnd.microsoft.datawrangler.viewer.v0+json": {
       "columns": [
        {
         "name": "index",
         "rawType": "int64",
         "type": "integer"
        },
        {
         "name": "0",
         "rawType": "object",
         "type": "unknown"
        }
       ],
       "ref": "87b89121-4028-4c4e-85b9-5ebe4f74fc61",
       "rows": [
        [
         "0",
         null
        ],
        [
         "1",
         "Involuntary"
        ],
        [
         "2",
         "Resignation"
        ],
        [
         "3",
         "Retirement"
        ],
        [
         "4",
         "Voluntary"
        ]
       ],
       "shape": {
        "columns": 1,
        "rows": 5
       }
      },
      "text/plain": [
       "array([nan, 'Involuntary', 'Resignation', 'Retirement', 'Voluntary'],\n",
       "      dtype=object)"
      ]
     },
     "execution_count": 65,
     "metadata": {},
     "output_type": "execute_result"
    }
   ],
   "source": [
    "clean_emp['TerminationType'] = clean_emp['TerminationType'].replace('Unk', np.nan)\n",
    "clean_emp['TerminationType'].unique()"
   ]
  },
  {
   "cell_type": "code",
   "execution_count": 66,
   "id": "feb42e02",
   "metadata": {},
   "outputs": [
    {
     "name": "stdout",
     "output_type": "stream",
     "text": [
      "Column: EmpID\n",
      "Unique values (3000): [3427 3428 3429 ... 3424 3425 3426]\n",
      "\n",
      "Column: FirstName\n",
      "Unique values (1597): ['Uriah' 'Paula' 'Edward' ... 'Brenda' 'Jovanny' 'Jakobe']\n",
      "\n",
      "Column: LastName\n",
      "Unique values (1137): ['Bridges' 'Small' 'Buck' ... 'Hooper' 'Santiago' 'Erickson']\n",
      "\n",
      "Column: StartDate\n",
      "Unique values (1496): ['2019-09-20' '2023-02-11' '2018-12-10' ... '2022-06-03' '2020-12-09'\n",
      " '2019-05-28']\n",
      "\n",
      "Column: ExitDate\n",
      "Unique values (821): [nan '2023-07-03' '2023-01-29' '2023-06-29' '2019-11-04' '2022-11-27'\n",
      " '2023-02-17' '2022-06-16' '2023-05-12' '2022-02-04' '2023-06-18'\n",
      " '2020-11-06' '2023-05-27' '2022-12-04' '2022-11-11' '2022-07-05'\n",
      " '2023-05-24' '2022-06-21' '2021-10-01' '2021-09-17' '2021-07-18'\n",
      " '2022-09-09' '2023-04-10' '2023-01-05' '2019-10-28' '2023-04-13'\n",
      " '2023-07-06' '2019-01-09' '2023-04-02' '2022-10-16' '2021-05-31'\n",
      " '2021-02-07' '2023-06-08' '2023-07-22' '2023-06-22' '2021-12-20'\n",
      " '2020-06-21' '2022-08-30' '2023-05-10' '2023-04-07' '2021-12-31'\n",
      " '2022-12-10' '2023-01-22' '2022-07-04' '2022-03-02' '2023-01-13'\n",
      " '2022-08-25' '2022-05-04' '2023-01-10' '2021-02-25' '2020-08-24'\n",
      " '2023-07-16' '2022-06-02' '2023-02-24' '2022-03-05' '2022-10-09'\n",
      " '2023-07-24' '2023-07-09' '2023-01-27' '2022-10-10' '2020-10-18'\n",
      " '2022-10-14' '2020-06-03' '2023-05-07' '2020-01-15' '2020-09-06'\n",
      " '2020-12-02' '2023-07-29' '2020-08-28' '2021-10-26' '2023-07-17'\n",
      " '2020-05-19' '2021-10-17' '2022-01-04' '2022-01-18' '2023-04-26'\n",
      " '2023-05-01' '2022-04-18' '2019-02-10' '2021-12-17' '2019-08-15'\n",
      " '2022-10-13' '2023-05-29' '2022-06-18' '2022-09-14' '2021-04-14'\n",
      " '2023-08-05' '2019-02-21' '2022-08-31' '2023-01-20' '2021-07-02'\n",
      " '2022-09-22' '2023-07-14' '2021-07-10' '2022-07-31' '2022-10-28'\n",
      " '2022-12-03' '2022-10-25' '2022-10-24' '2023-07-26' '2020-04-14'\n",
      " '2021-05-01' '2021-11-12' '2021-01-30' '2022-02-28' '2022-08-27'\n",
      " '2023-07-30' '2023-07-07' '2019-10-13' '2022-09-05' '2022-01-22'\n",
      " '2022-01-12' '2023-01-21' '2023-04-28' '2023-08-06' '2023-03-12'\n",
      " '2023-03-27' '2023-06-19' '2022-12-29' '2021-12-11' '2022-12-25'\n",
      " '2022-11-10' '2022-12-12' '2021-08-03' '2021-02-27' '2020-08-30'\n",
      " '2022-04-16' '2021-02-04' '2023-05-26' '2023-05-30' '2022-09-20'\n",
      " '2022-06-26' '2023-04-09' '2023-04-17' '2022-09-01' '2023-02-18'\n",
      " '2021-10-22' '2020-09-12' '2020-04-07' '2022-01-09' '2022-07-16'\n",
      " '2021-10-30' '2021-09-18' '2023-07-04' '2022-12-14' '2022-07-23'\n",
      " '2023-03-22' '2023-01-09' '2021-03-22' '2023-03-28' '2023-05-15'\n",
      " '2020-10-06' '2023-02-10' '2020-12-10' '2022-01-25' '2023-03-26'\n",
      " '2023-06-24' '2022-09-25' '2023-07-10' '2023-02-06' '2023-02-03'\n",
      " '2023-04-11' '2022-07-22' '2022-02-26' '2021-10-13' '2022-11-26'\n",
      " '2023-07-27' '2023-05-03' '2021-09-14' '2022-05-05' '2020-05-02'\n",
      " '2022-07-26' '2023-06-20' '2023-06-13' '2023-07-11' '2022-05-10'\n",
      " '2021-12-02' '2022-01-01' '2023-07-01' '2021-11-10' '2020-03-20'\n",
      " '2020-08-23' '2022-10-21' '2020-08-06' '2020-09-05' '2022-04-03'\n",
      " '2021-05-21' '2022-04-04' '2023-06-26' '2023-06-03' '2021-02-26'\n",
      " '2022-09-29' '2022-11-02' '2021-08-05' '2022-12-06' '2022-11-13'\n",
      " '2021-04-21' '2023-05-18' '2021-08-11' '2022-08-18' '2020-06-11'\n",
      " '2022-04-25' '2020-03-30' '2021-09-25' '2022-11-05' '2019-09-05'\n",
      " '2022-08-13' '2023-06-12' '2022-10-11' '2023-06-06' '2021-04-17'\n",
      " '2020-02-07' '2023-03-11' '2021-02-08' '2021-08-23' '2021-06-27'\n",
      " '2022-09-26' '2022-07-08' '2022-10-30' '2023-04-25' '2023-07-28'\n",
      " '2021-09-08' '2022-07-10' '2021-09-13' '2023-02-11' '2021-08-31'\n",
      " '2023-06-16' '2021-03-21' '2021-09-24' '2021-01-18' '2022-06-08'\n",
      " '2021-01-29' '2023-03-31' '2022-12-19' '2022-07-15' '2022-11-14'\n",
      " '2021-10-18' '2022-05-13' '2021-12-22' '2021-07-25' '2022-06-22'\n",
      " '2023-02-12' '2023-03-16' '2023-03-08' '2023-01-25' '2021-09-04'\n",
      " '2021-01-20' '2023-04-27' '2019-07-10' '2022-06-11' '2023-05-19'\n",
      " '2022-07-19' '2022-11-21' '2019-12-26' '2021-06-01' '2022-07-27'\n",
      " '2021-08-17' '2021-06-08' '2023-05-28' '2023-03-15' '2021-03-05'\n",
      " '2021-11-20' '2021-09-26' '2020-05-04' '2023-01-12' '2022-03-18'\n",
      " '2021-06-06' '2023-07-13' '2021-05-29' '2021-12-15' '2021-12-08'\n",
      " '2023-07-18' '2021-10-10' '2021-06-23' '2023-02-09' '2023-01-01'\n",
      " '2022-08-26' '2021-11-25' '2020-11-02' '2022-03-25' '2022-12-17'\n",
      " '2020-01-10' '2023-02-27' '2022-08-03' '2020-12-19' '2023-01-11'\n",
      " '2021-06-04' '2021-04-07' '2018-12-25' '2020-01-14' '2022-04-13'\n",
      " '2022-05-28' '2020-10-17' '2023-04-16' '2020-09-28' '2021-06-16'\n",
      " '2022-05-01' '2022-08-10' '2023-06-27' '2022-10-20' '2023-08-04'\n",
      " '2021-01-23' '2023-06-14' '2021-04-03' '2022-10-19' '2023-08-03'\n",
      " '2023-06-02' '2022-04-22' '2020-08-29' '2023-07-12' '2019-03-06'\n",
      " '2020-12-20' '2020-03-06' '2021-10-23' '2022-10-02' '2022-01-08'\n",
      " '2022-07-12' '2022-02-21' '2021-07-28' '2022-02-27' '2021-09-10'\n",
      " '2023-02-05' '2020-03-12' '2023-02-28' '2020-07-19' '2023-05-23'\n",
      " '2023-05-20' '2022-05-27' '2021-11-01' '2023-03-13' '2020-12-24'\n",
      " '2021-12-19' '2023-05-11' '2021-07-21' '2022-07-11' '2022-01-23'\n",
      " '2021-08-06' '2022-05-15' '2022-12-02' '2019-10-25' '2023-06-10'\n",
      " '2023-03-23' '2023-04-05' '2023-03-09' '2021-02-09' '2020-02-09'\n",
      " '2021-07-23' '2022-05-24' '2022-06-06' '2021-10-03' '2019-07-25'\n",
      " '2021-11-08' '2022-12-07' '2021-04-25' '2021-12-01' '2020-02-14'\n",
      " '2021-10-06' '2021-03-02' '2023-04-24' '2022-07-25' '2022-07-01'\n",
      " '2020-12-22' '2019-12-31' '2021-01-26' '2021-07-20' '2022-11-19'\n",
      " '2021-10-28' '2023-02-20' '2022-10-26' '2023-04-29' '2021-10-09'\n",
      " '2022-03-23' '2022-12-30' '2021-10-25' '2023-03-07' '2023-07-21'\n",
      " '2023-06-21' '2021-09-15' '2022-10-27' '2021-08-24' '2023-06-23'\n",
      " '2021-11-07' '2021-09-23' '2023-04-12' '2023-05-05' '2020-11-29'\n",
      " '2023-03-30' '2021-12-07' '2022-08-14' '2021-11-21' '2019-08-26'\n",
      " '2022-08-22' '2023-01-18' '2023-06-01' '2022-01-06' '2021-11-23'\n",
      " '2021-07-16' '2020-12-03' '2019-08-05' '2022-12-11' '2021-10-16'\n",
      " '2022-02-10' '2022-09-16' '2023-02-04' '2023-04-20' '2020-05-07'\n",
      " '2022-11-23' '2021-12-26' '2021-02-15' '2019-03-11' '2021-04-29'\n",
      " '2021-09-06' '2023-02-08' '2023-07-25' '2022-11-12' '2022-03-12'\n",
      " '2023-03-03' '2021-11-28' '2022-09-23' '2022-04-20' '2019-07-09'\n",
      " '2023-05-21' '2020-09-02' '2022-01-11' '2022-05-30' '2019-12-04'\n",
      " '2022-08-20' '2022-10-03' '2021-06-20' '2020-09-08' '2021-04-24'\n",
      " '2023-03-06' '2023-02-26' '2021-09-07' '2022-10-07' '2020-02-18'\n",
      " '2021-11-19' '2021-05-04' '2022-11-06' '2021-05-19' '2023-02-14'\n",
      " '2020-08-12' '2022-09-15' '2022-08-29' '2021-10-19' '2022-07-29'\n",
      " '2023-07-19' '2020-09-29' '2023-04-08' '2023-01-30' '2020-05-25'\n",
      " '2021-09-27' '2020-10-08' '2023-02-25' '2019-11-18' '2022-07-09'\n",
      " '2023-02-22' '2020-08-01' '2023-01-28' '2022-03-22' '2023-07-31'\n",
      " '2023-05-16' '2019-11-14' '2019-03-13' '2018-12-17' '2020-07-21'\n",
      " '2022-07-21' '2022-09-03' '2019-12-28' '2021-05-07' '2020-10-01'\n",
      " '2022-05-31' '2021-03-19' '2023-04-03' '2021-12-12' '2023-06-09'\n",
      " '2021-05-22' '2022-04-14' '2020-10-16' '2023-05-04' '2019-05-27'\n",
      " '2021-06-18' '2019-07-26' '2022-07-30' '2022-12-16' '2021-06-05'\n",
      " '2022-08-19' '2023-01-07' '2023-07-20' '2022-11-17' '2019-12-09'\n",
      " '2023-02-01' '2022-09-28' '2022-02-08' '2021-12-13' '2023-01-14'\n",
      " '2023-07-05' '2021-08-02' '2022-01-07' '2022-04-08' '2019-10-14'\n",
      " '2022-10-23' '2022-08-02' '2023-05-02' '2022-01-28' '2019-12-12'\n",
      " '2022-11-01' '2021-05-26' '2023-07-02' '2023-08-02' '2022-06-14'\n",
      " '2020-08-15' '2020-06-08' '2022-12-13' '2022-11-09' '2021-04-19'\n",
      " '2023-01-23' '2022-04-09' '2022-03-10' '2023-05-14' '2022-06-03'\n",
      " '2022-03-26' '2023-06-15' '2021-04-05' '2021-08-22' '2022-12-24'\n",
      " '2021-06-25' '2022-08-01' '2023-03-17' '2019-11-27' '2021-03-04'\n",
      " '2020-03-07' '2021-12-29' '2019-08-28' '2023-03-04' '2023-03-02'\n",
      " '2023-06-28' '2020-06-14' '2019-03-23' '2023-03-05' '2020-10-20'\n",
      " '2022-09-19' '2022-01-27' '2021-03-06' '2023-02-15' '2019-10-02'\n",
      " '2023-02-07' '2023-03-14' '2023-04-30' '2022-06-12' '2020-10-04'\n",
      " '2022-08-09' '2021-05-30' '2022-10-31' '2022-04-28' '2022-04-21'\n",
      " '2022-10-22' '2023-04-04' '2019-08-19' '2022-05-18' '2021-03-30'\n",
      " '2021-02-12' '2022-11-03' '2019-10-11' '2022-09-12' '2023-01-06'\n",
      " '2022-11-28' '2022-11-16' '2020-01-13' '2021-03-27' '2022-08-05'\n",
      " '2022-04-23' '2022-03-14' '2021-11-14' '2019-05-13' '2022-05-14'\n",
      " '2021-10-15' '2020-12-26' '2023-01-02' '2021-02-13' '2019-10-15'\n",
      " '2020-06-24' '2020-07-04' '2022-08-24' '2019-04-09' '2023-05-13'\n",
      " '2023-01-03' '2020-01-21' '2023-05-31' '2020-07-11' '2023-01-15'\n",
      " '2023-06-04' '2021-10-27' '2023-03-29' '2023-02-19' '2020-03-14'\n",
      " '2023-04-06' '2020-04-26' '2020-08-10' '2022-05-11' '2023-06-30'\n",
      " '2021-10-08' '2020-03-16' '2022-02-18' '2023-04-19' '2023-01-04'\n",
      " '2021-05-20' '2022-08-12' '2020-12-14' '2023-05-06' '2021-08-18'\n",
      " '2021-06-17' '2022-06-13' '2021-10-11' '2021-12-06' '2022-07-13'\n",
      " '2022-04-10' '2019-01-26' '2022-04-26' '2022-06-10' '2021-09-30'\n",
      " '2021-03-17' '2022-12-01' '2021-07-31' '2020-12-11' '2019-06-27'\n",
      " '2021-09-05' '2019-09-25' '2020-10-09' '2021-05-12' '2023-02-21'\n",
      " '2023-06-17' '2021-10-29' '2022-05-02' '2022-11-08' '2020-03-10'\n",
      " '2020-11-15' '2022-06-29' '2019-04-23' '2022-11-29' '2022-07-28'\n",
      " '2021-05-25' '2022-09-10' '2021-11-29' '2022-06-04' '2022-02-25'\n",
      " '2020-12-23' '2021-06-22' '2021-12-27' '2019-04-29' '2022-08-16'\n",
      " '2020-01-27' '2022-03-15' '2023-04-14' '2022-08-23' '2022-04-07'\n",
      " '2021-03-24' '2020-04-20' '2022-02-11' '2020-07-02' '2023-03-21'\n",
      " '2022-03-06' '2021-03-14' '2022-09-24' '2022-03-24' '2021-06-24'\n",
      " '2021-01-27' '2021-06-26' '2022-06-23' '2023-05-17' '2022-06-20'\n",
      " '2022-10-05' '2020-03-21' '2022-01-29' '2023-05-25' '2022-02-16'\n",
      " '2021-11-09' '2021-05-23' '2023-06-07' '2021-07-08' '2021-11-03'\n",
      " '2023-05-09' '2021-05-13' '2020-03-01' '2022-09-08' '2021-03-15'\n",
      " '2021-10-20' '2020-04-13' '2020-04-21' '2019-10-12' '2020-05-29'\n",
      " '2019-12-19' '2022-09-04' '2021-06-13' '2023-02-16' '2020-11-04'\n",
      " '2022-09-06' '2021-04-10' '2023-05-08' '2020-01-07' '2020-01-23'\n",
      " '2022-07-20' '2021-08-25' '2020-09-23' '2021-10-04' '2021-08-13'\n",
      " '2022-03-29' '2022-09-02' '2022-10-01' '2022-11-25' '2022-06-19'\n",
      " '2019-01-13' '2022-08-07' '2021-12-21' '2019-03-25' '2021-11-26'\n",
      " '2019-02-28' '2018-11-19' '2022-01-02' '2022-11-22' '2023-01-31'\n",
      " '2021-07-06' '2019-10-09' '2023-06-25' '2022-09-11' '2022-09-17'\n",
      " '2020-05-28' '2020-09-17' '2021-11-05' '2022-03-28' '2022-08-08'\n",
      " '2022-10-17' '2021-10-12' '2020-01-05' '2022-02-15' '2022-03-31'\n",
      " '2019-04-24' '2021-03-07' '2019-10-10' '2021-07-11' '2021-01-09'\n",
      " '2020-01-08' '2019-01-04' '2020-11-21' '2020-07-10' '2018-11-29'\n",
      " '2019-08-04' '2021-07-14' '2020-09-04' '2021-02-18' '2022-12-09'\n",
      " '2020-05-17' '2023-07-23' '2022-03-09' '2021-04-28' '2020-12-30'\n",
      " '2020-07-30' '2021-09-21' '2022-12-08' '2021-12-03' '2021-07-24'\n",
      " '2022-06-27' '2023-04-01' '2020-08-31' '2021-01-10' '2021-09-29'\n",
      " '2021-01-06' '2021-12-28' '2022-05-12' '2022-08-11' '2019-04-02'\n",
      " '2021-11-04' '2022-12-05' '2022-10-18' '2022-03-04' '2021-12-14'\n",
      " '2022-12-28' '2022-03-11' '2020-02-19' '2021-11-16' '2019-06-19'\n",
      " '2023-08-01' '2020-06-23' '2020-01-11' '2020-10-15' '2021-08-14'\n",
      " '2022-05-22' '2019-12-27' '2019-10-01' '2022-05-19' '2020-08-26'\n",
      " '2022-03-27' '2019-07-05' '2021-12-30' '2019-04-25' '2020-01-17'\n",
      " '2020-07-29' '2020-11-24' '2020-01-09' '2019-10-08' '2021-04-20'\n",
      " '2022-05-08' '2020-03-18' '2022-09-27' '2022-07-24' '2021-12-16'\n",
      " '2022-02-12' '2022-04-06' '2022-02-23' '2020-01-18' '2022-02-01'\n",
      " '2023-03-24' '2023-03-10' '2021-07-13' '2020-10-02' '2021-01-28'\n",
      " '2021-09-22' '2022-01-13' '2022-04-12' '2022-11-15' '2022-08-04']\n",
      "\n",
      "Column: Title\n",
      "Unique values (31): ['Production Technician I' 'Area Sales Manager' 'Production Technician II'\n",
      " 'IT Support' 'Network Engineer' 'Sr. Network Engineer'\n",
      " 'Principal Data Architect' 'Enterprise Architect' 'Sr. DBA'\n",
      " 'Database Administrator' 'Data Analyst' 'Data Architect' 'CIO'\n",
      " 'BI Director' 'Sr. Accountant' 'Software Engineering Manager'\n",
      " 'Software Engineer' 'Shared Services Manager' 'Senior BI Developer'\n",
      " 'Production Manager' 'President & CEO' 'Administrative Assistant'\n",
      " 'Accountant I' 'BI Developer' 'Sales Manager' 'IT Manager - Support'\n",
      " 'IT Manager - Infra' 'IT Manager - DB' 'Director of Sales'\n",
      " 'Director of Operations' 'IT Director']\n",
      "\n",
      "Column: Supervisor\n",
      "Unique values (2952): ['Peter Oneill' 'Renee Mccormick' 'Crystal Walker' ...\n",
      " 'Mr. James Castillo' 'Michael Woods' 'Javier Mccall']\n",
      "\n",
      "Column: ADEmail\n",
      "Unique values (2998): ['uriah.bridges@bilearner.com' 'paula.small@bilearner.com'\n",
      " 'edward.buck@bilearner.com' ... 'annabel.wilkins@bilearner.com'\n",
      " 'kendra.braun@bilearner.com' 'chace.kerr@bilearner.com']\n",
      "\n",
      "Column: BusinessUnit\n",
      "Unique values (10): ['CCDR' 'EW' 'PL' 'TNS' 'BPC' 'WBL' 'NEL' 'SVG' 'MSC' 'PYZ']\n",
      "\n",
      "Column: EmployeeStatus\n",
      "Unique values (5): ['Active' 'Future Start' 'Voluntarily Terminated' 'Leave of Absence'\n",
      " 'Terminated for Cause']\n",
      "\n",
      "Column: EmployeeType\n",
      "Unique values (3): ['Contract' 'Full-Time' 'Part-Time']\n",
      "\n",
      "Column: PayZone\n",
      "Unique values (3): ['Zone C' 'Zone A' 'Zone B']\n",
      "\n",
      "Column: EmployeeClassificationType\n",
      "Unique values (3): ['Temporary' 'Part-Time' 'Full-Time']\n",
      "\n",
      "Column: TerminationType\n",
      "Unique values (5): [nan 'Involuntary' 'Resignation' 'Retirement' 'Voluntary']\n",
      "\n",
      "Column: TerminationDescription\n",
      "Unique values (1534): [nan 'Me see picture nature degree benefit.'\n",
      " 'Blue community type skill story.' ... 'In forget fast.'\n",
      " 'Smile high bar white spend forget choice near.'\n",
      " 'Fine expect election either turn.']\n",
      "\n",
      "Column: DepartmentType\n",
      "Unique values (6): ['Production' 'Sales' 'IT/IS' 'Executive Office' 'Software Engineering'\n",
      " 'Admin Offices']\n",
      "\n",
      "Column: Division\n",
      "Unique values (25): ['Finance & Accounting' 'Aerial' 'General - Sga' 'General - Con'\n",
      " 'Field Operations' 'General - Eng' 'Engineers' 'Executive' 'Splicing'\n",
      " 'Project Management - Con' 'Fielders' 'Project Management - Eng'\n",
      " 'Shop (Fleet)' 'Wireline Construction' 'Catv' 'Yard (Material Handling)'\n",
      " 'Wireless' 'People Services' 'Underground' 'Billable Consultants'\n",
      " 'Technology_IT' 'Sales & Marketing' 'Safety' 'Isp' 'Corp Operations']\n",
      "\n",
      "Column: DOB\n",
      "Unique values (2800): ['1969-10-07' '1965-08-30' '1991-10-06' ... '1997-01-27' '1954-05-28'\n",
      " '1990-09-11']\n",
      "\n",
      "Column: State\n",
      "Unique values (28): ['MA' 'ND' 'FL' 'CT' 'CA' 'OR' 'TX' 'IN' 'GA' 'CO' 'KY' 'NV' 'VT' 'PA'\n",
      " 'RI' 'VA' 'UT' 'ID' 'MT' 'WA' 'AZ' 'NH' 'AL' 'OH' 'NY' 'ME' 'TN' 'NC']\n",
      "\n",
      "Column: JobFunctionDescription\n",
      "Unique values (83): ['Accounting' 'Labor' 'Assistant' 'Clerk' 'Laborer' 'Driver' 'Technician'\n",
      " 'Engineer' 'Executive Assistant' 'Splicer' 'Controller' 'Lineman'\n",
      " 'Coordinator' 'Director' 'Supervisor' 'Driller' 'Specialist' 'Operator'\n",
      " 'Foreman' 'Manager' 'Tower Hand' 'Mechanic' 'Flagger' 'Groundman'\n",
      " 'Model Assistant' 'Administrator' 'Project Manager' 'Electrician'\n",
      " 'Project Controls' 'Top Hand' 'Administrative' 'Locator' 'Billing' 'Cpo'\n",
      " 'Drafter' 'Vp' 'Construction Manager' 'Welder' 'Field Project Manager'\n",
      " 'Apprentice' 'Runner' 'Inspector' 'Field Technician' 'Associate'\n",
      " 'Administration' 'Intern' 'Planner' 'Accountant' 'General Manager'\n",
      " 'Clerical' 'Principal' 'Tester' 'Purchasing' 'Helper' 'Safety'\n",
      " 'Crew Leader' 'Program Manager' 'Shop' 'Project Coordinator' 'Estimator'\n",
      " 'Recruiting' 'Support' 'Ceo' 'Safety Manager' 'Warehouse Technician'\n",
      " 'Analyst' 'Generalist' 'Business Development' 'Cio' 'Executive' 'Cfo'\n",
      " 'Contracts' 'Chief Operating Officer' 'Helpdesk' 'Evp' 'Civil Hand'\n",
      " 'Services' 'Recruiter' 'Traffic' 'Attendant' 'Svp' 'Warehouse'\n",
      " 'Warehouse Manager']\n",
      "\n",
      "Column: GenderCode\n",
      "Unique values (2): ['Female' 'Male']\n",
      "\n",
      "Column: LocationCode\n",
      "Unique values (2821): [34904  6593  2330 ...  6608  3807 57487]\n",
      "\n",
      "Column: RaceDesc\n",
      "Unique values (5): ['White' 'Hispanic' 'Other' 'Black' 'Asian']\n",
      "\n",
      "Column: MaritalDesc\n",
      "Unique values (4): ['Widowed' 'Single' 'Married' 'Divorced']\n",
      "\n",
      "Column: PerformanceScore\n",
      "Unique values (4): ['Fully Meets' 'Exceeds' 'Needs Improvement' 'PIP']\n",
      "\n",
      "Column: CurrentEmployeeRating\n",
      "Unique values (5): [4 3 2 5 1]\n",
      "\n",
      "Column: ExitYear\n",
      "Unique values (7): [  nan 2023. 2019. 2022. 2020. 2021. 2018.]\n",
      "\n",
      "Column: CleanedEmployeeStatus\n",
      "Unique values (2): ['Active' 'Inactive']\n",
      "\n"
     ]
    }
   ],
   "source": [
    "# Trim whitespace \n",
    "clean_emp = clean_emp.applymap(lambda x: x.strip() if isinstance(x, str) else x)\n",
    "\n",
    "for col in clean_emp.columns:\n",
    "    unique_vals = clean_emp[col].unique()\n",
    "    print(f\"Column: {col}\")\n",
    "    print(f\"Unique values ({len(unique_vals)}): {unique_vals}\\n\")"
   ]
  },
  {
   "cell_type": "code",
   "execution_count": 67,
   "id": "82dac88a",
   "metadata": {},
   "outputs": [
    {
     "data": {
      "text/plain": [
       "Index(['EmpID', 'FirstName', 'LastName', 'StartDate', 'ExitDate', 'Title',\n",
       "       'Supervisor', 'ADEmail', 'BusinessUnit', 'EmployeeType', 'PayZone',\n",
       "       'TerminationType', 'DepartmentType', 'Division', 'DOB', 'State',\n",
       "       'GenderCode', 'LocationCode', 'RaceDesc', 'MaritalDesc',\n",
       "       'PerformanceScore', 'CurrentEmployeeRating', 'ExitYear',\n",
       "       'CleanedEmployeeStatus'],\n",
       "      dtype='object')"
      ]
     },
     "execution_count": 67,
     "metadata": {},
     "output_type": "execute_result"
    }
   ],
   "source": [
    "# Drop unused or unable to fix columns\n",
    "columns_to_drop = [\n",
    "    'TerminationDescription',  \n",
    "    'EmployeeClassificationType',  \n",
    "    'JobFunctionDescription',\n",
    "    'EmployeeStatus']\n",
    "\n",
    "clean_emp.drop(columns=columns_to_drop, inplace=True, errors='ignore')\n",
    "clean_emp.columns"
   ]
  },
  {
   "cell_type": "code",
   "execution_count": 68,
   "id": "d441cb01",
   "metadata": {},
   "outputs": [],
   "source": [
    "# Save cleaned employee_df to CSV\n",
    "clean_emp.to_csv('data/cleaned_employee_data.csv', index=False)\n"
   ]
  },
  {
   "cell_type": "markdown",
   "id": "b38ba22a",
   "metadata": {},
   "source": [
    "## Recruitment Data"
   ]
  },
  {
   "cell_type": "markdown",
   "id": "115109ac",
   "metadata": {},
   "source": [
    "### Check Diplicates and Missing Value"
   ]
  },
  {
   "cell_type": "code",
   "execution_count": 69,
   "id": "15c1f441",
   "metadata": {},
   "outputs": [
    {
     "name": "stdout",
     "output_type": "stream",
     "text": [
      "<class 'pandas.core.frame.DataFrame'>\n",
      "RangeIndex: 3000 entries, 0 to 2999\n",
      "Data columns (total 18 columns):\n",
      " #   Column             Non-Null Count  Dtype  \n",
      "---  ------             --------------  -----  \n",
      " 0   ApplicantID        3000 non-null   int64  \n",
      " 1   ApplicationDate    3000 non-null   object \n",
      " 2   FirstName          3000 non-null   object \n",
      " 3   LastName           3000 non-null   object \n",
      " 4   Gender             3000 non-null   object \n",
      " 5   DateofBirth        3000 non-null   object \n",
      " 6   PhoneNumber        3000 non-null   object \n",
      " 7   Email              3000 non-null   object \n",
      " 8   Address            3000 non-null   object \n",
      " 9   City               3000 non-null   object \n",
      " 10  State              3000 non-null   object \n",
      " 11  ZipCode            3000 non-null   int64  \n",
      " 12  Country            3000 non-null   object \n",
      " 13  EducationLevel     3000 non-null   object \n",
      " 14  YearsofExperience  3000 non-null   int64  \n",
      " 15  DesiredSalary      3000 non-null   float64\n",
      " 16  JobTitle           3000 non-null   object \n",
      " 17  Status             3000 non-null   object \n",
      "dtypes: float64(1), int64(3), object(14)\n",
      "memory usage: 422.0+ KB\n"
     ]
    }
   ],
   "source": [
    "recruit_df.info()"
   ]
  },
  {
   "cell_type": "code",
   "execution_count": 70,
   "id": "27279724",
   "metadata": {},
   "outputs": [
    {
     "name": "stdout",
     "output_type": "stream",
     "text": [
      "Number of duplicated EmpID rows: 0\n"
     ]
    }
   ],
   "source": [
    "# Check for duplicate using applicant Id\n",
    "dup_applicant = recruit_df[recruit_df.duplicated('ApplicantID', keep=False)]\n",
    "print(f\"Number of duplicated EmpID rows: {len(dup_applicant)}\")"
   ]
  },
  {
   "cell_type": "code",
   "execution_count": 71,
   "id": "de055d7a",
   "metadata": {},
   "outputs": [
    {
     "data": {
      "image/png": "[encoded data removed]",
      "text/plain": [
       "<Figure size 1000x500 with 3 Axes>"
      ]
     },
     "metadata": {},
     "output_type": "display_data"
    }
   ],
   "source": [
    "# Visualizing missing data\n",
    "msno.bar(recruit_df, color='skyblue', figsize=(10, 5), fontsize=8)\n",
    "plt.show()"
   ]
  },
  {
   "cell_type": "markdown",
   "id": "6f324c73",
   "metadata": {},
   "source": [
    "### Visualization of Raw Data"
   ]
  },
  {
   "cell_type": "code",
   "execution_count": 72,
   "id": "f84181c8",
   "metadata": {},
   "outputs": [
    {
     "name": "stdout",
     "output_type": "stream",
     "text": [
      "Column: ApplicantID\n",
      "Unique values (3000): [1001 1002 1003 ... 3998 3999 4000]\n",
      "\n",
      "Column: ApplicationDate\n",
      "Unique values (92): ['03-Jun-23' '15-May-23' '04-Aug-23' '28-Jul-23' '05-Jun-23' '26-Jul-23'\n",
      " '09-Jun-23' '15-Jul-23' '16-Jun-23' '25-May-23' '14-May-23' '04-Jun-23'\n",
      " '23-Jul-23' '12-Jun-23' '04-Jul-23' '16-May-23' '26-Jun-23' '23-May-23'\n",
      " '03-Jul-23' '03-Aug-23' '08-May-23' '25-Jun-23' '31-May-23' '07-Jul-23'\n",
      " '22-Jun-23' '01-Aug-23' '15-Jun-23' '06-Jul-23' '27-Jul-23' '02-Jun-23'\n",
      " '30-May-23' '14-Jul-23' '09-May-23' '18-May-23' '18-Jul-23' '10-May-23'\n",
      " '21-Jun-23' '30-Jul-23' '24-May-23' '28-May-23' '22-May-23' '24-Jun-23'\n",
      " '07-Jun-23' '11-Jun-23' '14-Jun-23' '29-Jun-23' '11-May-23' '13-May-23'\n",
      " '27-May-23' '05-Aug-23' '09-Jul-23' '12-Jul-23' '08-Jul-23' '17-Jul-23'\n",
      " '28-Jun-23' '13-Jun-23' '02-Jul-23' '27-Jun-23' '20-May-23' '25-Jul-23'\n",
      " '02-Aug-23' '20-Jul-23' '13-Jul-23' '19-Jun-23' '05-Jul-23' '08-Jun-23'\n",
      " '10-Jul-23' '16-Jul-23' '23-Jun-23' '19-May-23' '29-Jul-23' '19-Jul-23'\n",
      " '29-May-23' '21-Jul-23' '30-Jun-23' '01-Jul-23' '06-Jun-23' '01-Jun-23'\n",
      " '06-May-23' '17-Jun-23' '26-May-23' '31-Jul-23' '21-May-23' '18-Jun-23'\n",
      " '17-May-23' '20-Jun-23' '22-Jul-23' '10-Jun-23' '12-May-23' '11-Jul-23'\n",
      " '07-May-23' '24-Jul-23']\n",
      "\n",
      "Column: FirstName\n",
      "Unique values (538): ['Scott' 'Stanley' 'Javier' 'Christopher' 'Melissa' 'Christian' 'Paul'\n",
      " 'Madison' 'Rachael' 'Sherri' 'Jennifer' 'Kyle' 'James' 'Heidi' 'Johnny'\n",
      " 'Olivia' 'Anita' 'John' 'Adam' 'Cheryl' 'Rebecca' 'Gabriel' 'Anne'\n",
      " 'Thomas' 'Nicholas' 'Cory' 'Barbara' 'Maria' 'Duane' 'Danny' 'Hannah'\n",
      " 'Mckenzie' 'Ashley' 'Laura' 'Katherine' 'Martha' 'Jessica' 'Emily'\n",
      " 'Steven' 'David' 'Timothy' 'Kevin' 'Sarah' 'Joshua' 'Jeremy' 'Jerry'\n",
      " 'Jason' 'Jeffrey' 'Daryl' 'Justin' 'Lisa' 'Brad' 'Brittney' 'Kimberly'\n",
      " 'Stephanie' 'Judith' 'Susan' 'Danielle' 'Brian' 'Keith' 'Gary' 'Phillip'\n",
      " 'Tiffany' 'Nicole' 'Michael' 'Kendra' 'William' 'Carol' 'Nichole'\n",
      " 'Denise' 'Christine' 'Patricia' 'Cynthia' 'Brenda' 'Holly' 'Erin'\n",
      " 'Yolanda' 'Julia' 'Edward' 'Michele' 'Austin' 'Robert' 'Alexander'\n",
      " 'Kathleen' 'Sandra' 'Kristen' 'Darrell' 'Sheryl' 'Earl' 'Amanda'\n",
      " 'Richard' 'Kaitlin' 'Daniel' 'Evan' 'Sharon' 'Deborah' 'Lauren' 'Mark'\n",
      " 'Brandon' 'Shelly' 'Amy' 'Caleb' 'Angelica' 'Ethan' 'Tamara' 'Julie'\n",
      " 'Grant' 'Ralph' 'Lawrence' 'Christina' 'Cameron' 'April' 'Anthony'\n",
      " 'Rebekah' 'Randall' 'Wendy' 'Shannon' 'Kari' 'Alyssa' 'Shane' 'Mariah'\n",
      " 'George' 'Oscar' 'Samuel' 'Darren' 'Matthew' 'Reginald' 'Sherry'\n",
      " 'Vincent' 'Gregory' 'Hunter' 'Jacqueline' 'Katie' 'Omar' 'Karen' 'Jill'\n",
      " 'Kelly' 'Michelle' 'Charles' 'Nancy' 'Leonard' 'Monica' 'Cassandra' 'Max'\n",
      " 'Samantha' 'Rodney' 'Marc' 'Benjamin' 'Lori' 'Tyler' 'Ryan' 'Dylan'\n",
      " 'Bryan' 'Chad' 'Jody' 'Jacob' 'Eric' 'Heather' 'Vicki' 'Robin' 'Amber'\n",
      " 'Victor' 'Donald' 'Courtney' 'Dale' 'Angela' 'Ricardo' 'Mitchell'\n",
      " 'Xavier' 'Elizabeth' 'Shawn' 'Tanya' 'Molly' 'Alison' 'Vanessa' 'Joseph'\n",
      " 'Regina' 'Tammy' 'Victoria' 'Jon' 'Tim' 'Renee' 'Rachel' 'Deanna'\n",
      " 'Caitlyn' 'Joel' 'Gene' 'Janet' 'Zachary' 'Tabitha' 'Leah' 'Stacie'\n",
      " 'Jose' 'Catherine' 'Clifford' 'Dennis' 'Todd' 'Kayla' 'Kenneth' 'Paula'\n",
      " 'Emma' 'Jay' 'Carolyn' 'Teresa' 'Jonathan' 'Mary' 'Juan' 'Mike' 'Randy'\n",
      " 'Gavin' 'Brent' 'Linda' 'Glen' 'Erica' 'Eddie' 'Roberta' 'Lance' 'Anna'\n",
      " 'Andrea' 'Clinton' 'Beth' 'Carrie' 'Jeff' 'Gregg' 'Karla' 'Kaitlyn'\n",
      " 'Noah' 'Don' 'Seth' 'Cindy' 'Bonnie' 'Chris' 'Herbert' 'Tasha' 'Donna'\n",
      " 'Rickey' 'Patrick' 'Abigail' 'Lindsey' 'Debra' 'Nicolas' 'Paige'\n",
      " 'Brittany' 'Brandy' 'Becky' 'Gabrielle' 'Ricky' 'Felicia' 'Stacy'\n",
      " 'Sophia' 'Rhonda' 'Joanna' 'Geoffrey' 'Kelsey' 'Jenna' 'Sean' 'Derrick'\n",
      " 'Andre' 'Kathryn' 'Kim' 'Suzanne' 'Valerie' 'Jamie' 'Frank' 'Theresa'\n",
      " 'Cassidy' 'Marie' 'Sabrina' 'Kristin' 'Kara' 'Alexandra' 'Andrew'\n",
      " 'Adrian' 'Colton' 'Brooke' 'Taylor' 'Rose' 'Gerald' 'Megan' 'Stephen'\n",
      " 'Aaron' 'Diane' 'Tina' 'Nathaniel' 'Micheal' 'Alicia' 'Misty' 'Kathy'\n",
      " 'Jesse' 'Melinda' 'Dustin' 'Curtis' 'Stefanie' 'Dawn' 'Cheyenne'\n",
      " 'Meredith' 'Bobby' 'Jordan' 'Jimmy' 'Cathy' 'Lonnie' 'Ruben' 'Natalie'\n",
      " 'Claudia' 'Kristie' 'Brianna' 'Alex' 'Carlos' 'Gloria' 'Sara' 'Louis'\n",
      " 'Alan' 'Vickie' 'Wesley' 'Warren' 'Elaine' 'Caitlin' 'Sydney' 'Ann'\n",
      " 'Travis' 'Monique' 'Diana' 'Stacey' 'Isaac' 'Janice' 'Fred' 'Maureen'\n",
      " 'Lydia' 'Melanie' 'Jesus' 'Leslie' 'Gwendolyn' 'Angel' 'Pamela' 'Ronald'\n",
      " 'Kristina' 'Evelyn' 'Kent' 'Traci' 'Madeline' 'Walter' 'Corey' 'Bethany'\n",
      " 'Destiny' 'Maurice' 'Dana' 'Margaret' 'Betty' 'Morgan' 'Ronnie' 'Shelby'\n",
      " 'Christy' 'Jermaine' 'Aimee' 'Connie' 'Lorraine' 'Carl' 'Chelsea' 'Tracy'\n",
      " 'Crystal' 'Marisa' 'Mario' 'Jim' 'Patty' 'Krista' 'Bruce' 'Tara' 'Briana'\n",
      " 'Jaime' 'Darius' 'Wanda' 'Sylvia' 'Kristi' 'Joann' 'Brendan' 'Henry'\n",
      " 'Jasmine' 'Bradley' 'Mathew' 'Jean' 'Luis' 'Gina' 'Isabel' 'Breanna'\n",
      " 'Cristina' 'Marcus' 'Shirley' 'Steve' 'Dominique' 'Craig' 'Haley'\n",
      " 'Sheena' 'Veronica' 'Luke' 'Sheila' 'Marissa' 'Tonya' 'Penny' 'Casey'\n",
      " 'Philip' 'Natasha' 'Douglas' 'Brandi' 'Terri' 'Sheri' 'Yvonne' 'Kerri'\n",
      " 'Neil' 'Cassie' 'Theodore' 'Ruth' 'Lucas' 'Clayton' 'Adrienne' 'Dan'\n",
      " 'Carla' 'Isaiah' 'Chase' 'Annette' 'Terry' 'Larry' 'Blake' 'Joy' 'Lee'\n",
      " 'Tracey' 'Candace' 'Frances' 'Kristine' 'Jack' 'Virginia' 'Connor'\n",
      " 'Harry' 'Hailey' 'Kristopher' 'Lindsay' 'Shaun' 'Caroline' 'Darlene'\n",
      " 'Terrance' 'Nathan' 'Laurie' 'Peggy' 'Faith' 'Mindy' 'Francisco'\n",
      " 'Jeremiah' 'Zoe' 'Adriana' 'Alfred' 'Tony' 'Diamond' 'Desiree' 'Karl'\n",
      " 'Jaclyn' 'Toni' 'Whitney' 'Debbie' 'Kylie' 'Cody' 'Stuart' 'Derek' 'Judy'\n",
      " 'Alexis' 'Arthur' 'Doris' 'Lynn' 'Spencer' 'Joanne' 'Meghan' 'Billy'\n",
      " 'Melody' 'Charlene' 'Colin' 'Greg' 'Audrey' 'Willie' 'Jeffery' 'Colleen'\n",
      " 'Jared' 'Edwin' 'Jerome' 'Preston' 'Autumn' 'Dalton' 'Troy' 'Shari'\n",
      " 'Allison' 'Carly' 'Erika' 'Chloe' 'Roberto' 'Antonio' 'Rita' 'Devon'\n",
      " 'Tyrone' 'Jillian' 'Darin' 'Peter' 'Savannah' 'Katelyn' 'Raymond' 'Jodi'\n",
      " 'Perry' 'Bridget' 'Miranda' 'Allen' 'Ellen' 'Cesar' 'Eileen' 'Brett'\n",
      " 'Latoya' 'Edgar' 'Damon' 'Claire' 'Yvette' 'Rick' 'Tommy' 'Jo' 'Kristy'\n",
      " 'Barry' 'Russell' 'Nina' 'Joe' 'Erik' 'Mason' 'Kirk' 'Krystal' 'Vernon'\n",
      " 'Gail' 'Dillon' 'Dominic' 'Mallory' 'Marvin' 'Kelli' 'Dorothy' 'Eduardo'\n",
      " 'Bailey' 'Latasha']\n",
      "\n",
      "Column: LastName\n",
      "Unique values (813): ['Sheppard' 'Lewis' 'Li' 'Johnston' 'Hicks' 'Maddox' 'Hammond'\n",
      " 'Williamson' 'Duran' 'Taylor' 'Weaver' 'Blake' 'Bailey' 'Wood' 'Nguyen'\n",
      " 'Watson' 'Jenkins' 'Coleman' 'Best' 'Peterson' 'Jensen' 'Norris' 'Murphy'\n",
      " 'Phillips' 'Conley' 'Austin' 'Miller' 'Lopez' 'Campbell' 'Lee' 'Jones'\n",
      " 'Moore' 'Howe' 'Williams' 'Randall' 'Morris' 'Bradford' 'Martinez'\n",
      " 'Myers' 'Villa' 'Walker' 'Rodriguez' 'Lucas' 'Fischer' 'Weeks' 'Stevens'\n",
      " 'Johnson' 'Hernandez' 'Abbott' 'Sellers' 'Brown' 'Bush' 'Jackson' 'Vang'\n",
      " 'Rubio' 'Ellis' 'Pearson' 'Avery' 'Mayer' 'Barrera' 'Howard' 'Torres'\n",
      " 'Weber' 'Fernandez' 'Baxter' 'Smith' 'Davis' 'Gutierrez' 'Hunter'\n",
      " 'French' 'Yu' 'Steele' 'Davidson' 'Garcia' 'Howell' 'Pace' 'Stevenson'\n",
      " 'Black' 'Foster' 'Brandt' 'Kirk' 'Owens' 'Glover' 'Collins' 'Green'\n",
      " 'Peck' 'Bowman' 'Pineda' 'Wang' 'Castro' 'Hampton' 'Houston' 'Andrews'\n",
      " 'Monroe' 'Fox' 'Bennett' 'Benitez' 'Welch' 'Kennedy' 'Watkins' 'Allen'\n",
      " 'Wall' 'Reyes' 'Gallegos' 'Rhodes' 'Thompson' 'Kaiser' 'Robinson'\n",
      " 'Wallace' 'Turner' 'Ramirez' 'Richards' 'Castillo' 'Shaffer' 'Meza'\n",
      " 'Lang' 'Armstrong' 'Wright' 'Conrad' 'Patel' 'Vargas' 'Meyer' 'Sanders'\n",
      " 'Gray' 'Clark' 'Strong' 'Dunn' 'Wyatt' 'Knight' 'Carter' 'Holland'\n",
      " 'Ramsey' 'Nichols' 'Vance' 'Ferguson' 'Adams' 'Acevedo' 'Gomez' 'Luna'\n",
      " 'Krueger' 'Whitney' 'Huber' 'Saunders' 'Long' 'Moses' 'Tran' 'Rivas'\n",
      " 'Moreno' 'Ibarra' 'Hudson' 'Hatfield' 'Byrd' 'Schmitt' 'Wilcox'\n",
      " 'Anderson' 'Contreras' 'Buchanan' 'Morgan' 'Kelley' 'Ayala' 'Dominguez'\n",
      " 'Costa' 'Miranda' 'Gibson' 'Huffman' 'Sanchez' 'Thornton' 'Gilmore'\n",
      " 'Rocha' 'Braun' 'Rivera' 'Sweeney' 'Daniels' 'Curry' 'Duncan' 'Berger'\n",
      " 'Jordan' 'Hughes' 'Cohen' 'Fisher' 'Gonzales' 'Nelson' 'Carrillo' 'Barr'\n",
      " 'Jacobs' 'Townsend' 'Wilson' 'Mcintyre' 'Stark' 'Mason' 'Harris' 'Cooper'\n",
      " 'Evans' 'Peters' 'Hubbard' 'Hinton' 'Webb' 'Cole' 'Martin' 'Chandler'\n",
      " 'Acosta' 'Clayton' 'Heath' 'Keller' 'Mendoza' 'Alexander' 'Robertson'\n",
      " 'Oconnor' 'Morales' 'Suarez' 'Ortiz' 'Melton' 'Bishop' 'Flores' 'Reese'\n",
      " 'Farmer' 'White' 'Grant' 'Hobbs' 'Bowers' 'Ochoa' 'Harrison' 'Walsh'\n",
      " 'Beasley' 'Mays' 'Schmidt' 'Beck' 'Fletcher' 'Scott' 'Gonzalez'\n",
      " 'Hutchinson' 'Marsh' 'Curtis' 'Chen' 'Cox' 'Young' 'Lawson' 'Mack'\n",
      " 'Elliott' 'Terry' 'Hall' 'Snyder' 'Pena' 'Mitchell' 'Ortega' 'Ford'\n",
      " 'Friedman' 'Aguirre' 'May' 'West' 'Boyd' 'James' 'Murillo' 'Horne'\n",
      " 'Morton' 'Moss' 'Cunningham' 'Olsen' 'Perez' 'Edwards' 'Liu' 'Burton'\n",
      " 'Woods' 'Hopkins' 'Decker' 'Bruce' 'Dillon' 'Villarreal' 'Hawkins'\n",
      " 'Mejia' 'Goodwin' 'Carr' 'Payne' 'Becker' 'Hayes' 'Burke' 'Oliver'\n",
      " 'Whitaker' 'Porter' 'Flynn' 'Cochran' 'Washington' 'Hunt' 'Santiago' 'Le'\n",
      " 'Russo' 'Henderson' 'Dawson' 'Good' 'Willis' 'Deleon' 'Romero' 'Stephens'\n",
      " 'Sutton' 'Diaz' 'Hodges' 'George' 'Pope' 'Fuentes' 'Foley' 'Lynch'\n",
      " 'Richard' 'Franklin' 'Bates' 'Hood' 'Quinn' 'Holden' 'Ramos' 'Kelly'\n",
      " 'Griffith' 'Ball' 'Patterson' 'Carpenter' 'Zamora' 'Medina' 'Hooper'\n",
      " 'Roth' 'Perry' 'Alvarez' 'Franco' 'Thomas' 'Nash' 'Avila' 'Goodman'\n",
      " 'Rojas' 'Randolph' 'Roberts' 'Boyer' 'Espinoza' 'Glenn' 'Chang' 'Pierce'\n",
      " 'Gordon' 'Silva' 'Padilla' 'Case' 'Russell' 'Brooks' 'Brady' 'Greer'\n",
      " 'Roman' 'Lindsey' 'Cruz' 'Stewart' 'Day' 'Maldonado' 'Stone' 'Gross'\n",
      " 'Terrell' 'Cooke' 'Morse' 'Pugh' 'Garrett' 'Mcmillan' 'Campos' 'Page'\n",
      " 'Dixon' 'Bolton' 'Mclaughlin' 'Murray' 'Potts' 'Berg' 'Bullock' 'Ward'\n",
      " 'Wagner' 'Davenport' 'Salazar' 'Larson' 'Huynh' 'Vega' 'York' 'Finley'\n",
      " 'Stokes' 'Bender' 'Cook' 'Rowe' 'Booth' 'Cowan' 'Proctor' 'Church'\n",
      " 'Garner' 'Miles' 'Ruiz' 'Hebert' 'Waters' 'Sanford' 'Hurley' 'Caldwell'\n",
      " 'Stanton' 'Marks' 'Stanley' 'Paul' 'Huff' 'Hoffman' 'Burgess' 'Reynolds'\n",
      " 'Boone' 'Reed' 'Shepard' 'Levy' 'Love' 'Drake' 'Crane' 'Christensen'\n",
      " 'Poole' 'Bradley' 'Rogers' 'Cross' 'Mccarthy' 'Compton' 'Mosley' 'Berry'\n",
      " 'Carson' 'Fowler' 'Rivers' 'Olson' 'Montoya' 'Bell' 'Trujillo' 'Wade'\n",
      " 'Rangel' 'Yoder' 'Lane' 'Higgins' 'Alvarado' 'Anthony' 'Wheeler' 'King'\n",
      " 'Adkins' 'Wells' 'Mahoney' 'Greene' 'Hart' 'Gallagher' 'Tyler' 'Wolfe'\n",
      " 'Durham' 'Benson' 'Schwartz' 'Kerr' 'Crawford' 'Webster' 'Rose'\n",
      " 'Cervantes' 'Mann' 'Montgomery' 'Snow' 'Stein' 'Bray' 'Carlson' 'Rice'\n",
      " 'Lambert' 'Jennings' 'Mccall' 'Sullivan' 'Mcintosh' 'Valdez' 'Schultz'\n",
      " 'Cain' 'Barnett' 'Frazier' 'Combs' 'Lawrence' 'Barton' 'Barnes' 'Baker'\n",
      " 'Callahan' 'Navarro' 'Ware' 'Brock' 'Kramer' 'Francis' 'Mckinney' 'Hill'\n",
      " 'Mathis' 'Cobb' 'Mcconnell' 'Cantrell' 'Ewing' 'Todd' 'Arroyo' 'Figueroa'\n",
      " 'Doyle' 'Baldwin' 'Bryan' 'Dudley' 'Wong' 'Soto' 'Molina' 'Zuniga'\n",
      " 'Simpson' 'Chaney' 'Juarez' 'Moon' 'Holt' 'Sherman' 'Branch' 'Chambers'\n",
      " 'Powers' 'Mueller' 'Cherry' 'Watts' 'Summers' 'Collier' 'Holmes' 'Hays'\n",
      " 'Palmer' 'Petty' 'Brewer' 'Floyd' 'Valentine' 'Kirby' 'Krause' 'Bryant'\n",
      " 'Aguilar' 'Harper' 'Graham' 'Rios' 'Barrett' 'Hoover' 'Harrell' 'Price'\n",
      " 'Gardner' 'Sparks' 'Keith' 'Fleming' 'Pham' 'Fuller' 'Pratt' 'Meyers'\n",
      " 'Craig' 'Richardson' 'Gillespie' 'Hardy' 'Butler' 'Ballard' 'Preston'\n",
      " 'Nielsen' 'Ray' 'Irwin' 'Gregory' 'Daugherty' 'Hartman' 'Beard'\n",
      " 'Browning' 'Daniel' 'Carey' 'Mcneil' 'Farley' 'Hahn' 'Schneider' 'Shaw'\n",
      " 'Joseph' 'Serrano' 'Arellano' 'Cuevas' 'Massey' 'Fitzpatrick'\n",
      " 'Stephenson' 'Maxwell' 'Donovan' 'Gilbert' 'Hull' 'Burns' 'Patton'\n",
      " 'Castaneda' 'Haas' 'Galvan' 'Moyer' 'Tucker' 'Bowen' 'Ross' 'Shields'\n",
      " 'Douglas' 'Arnold' 'Newton' 'Ingram' 'Marquez' 'Powell' 'Travis'\n",
      " 'Pacheco' 'Cardenas' 'Atkins' 'House' 'Clarke' 'Bernard' 'Delgado'\n",
      " 'Schroeder' 'Melendez' 'Freeman' 'Spencer' 'Munoz' 'Riley' 'Mcguire'\n",
      " 'Harmon' 'Clay' 'Pennington' 'Vaughan' 'Chavez' 'Reeves' 'Mayo' 'Barber'\n",
      " 'Forbes' 'Lyons' 'Kent' 'Mullen' 'Cameron' 'Fields' 'Wiley' 'Salinas'\n",
      " 'Flowers' 'Burch' 'Gill' 'Hickman' 'Simmons' 'Horn' 'Hale' 'Ayers'\n",
      " 'Velazquez' 'Lozano' 'Sharp' 'Calderon' 'Walton' 'Roach' 'Wiggins'\n",
      " 'Osborne' 'Yang' 'Herring' 'Hanson' 'Chase' 'Tate' 'Graves' 'Kim'\n",
      " 'Blanchard' 'Cline' 'Montes' 'Boyle' 'Salas' 'Mcdonald' 'Andersen'\n",
      " 'Nolan' 'Bean' 'Santos' 'Mcdaniel' 'Stafford' 'Herrera' 'Zhang' 'Lamb'\n",
      " 'Brennan' 'Parsons' 'Jefferson' 'Neal' 'Holloway' 'Mullins' 'Hines'\n",
      " 'Zimmerman' 'Pittman' 'Cordova' 'Mata' 'Henson' 'Pollard' 'Shelton'\n",
      " 'Lucero' 'Duarte' 'Velez' 'Davies' 'Knox' 'Carroll' 'Shannon' 'Guerrero'\n",
      " 'Robbins' 'Riggs' 'Simon' 'Osborn' 'Waller' 'Sims' 'Vaughn' 'Mcdowell'\n",
      " 'Klein' 'Horton' 'Mccann' 'Dennis' 'Dean' 'Farrell' 'Reilly' 'Phelps'\n",
      " 'Griffin' 'Underwood' 'Vasquez' 'Galloway' 'Savage' 'Ryan' 'Blankenship'\n",
      " 'Manning' 'Sandoval' 'Matthews' 'Escobar' 'Bass' 'Glass' 'Strickland'\n",
      " 'Andrade' 'Hayden' 'Warren' 'Guzman' 'Downs' 'Lester' 'Ellison'\n",
      " 'Wilkinson' 'Mcclure' 'Weiss' 'Hansen' 'Chan' 'Beltran' 'Park' 'Bradshaw'\n",
      " 'Erickson' 'Cannon' 'Perkins' 'Werner' 'Dickerson' 'Mcgee' 'Briggs'\n",
      " 'Mendez' 'Fitzgerald' 'Rollins' 'Clements' 'Mcknight' 'Key' 'Potter'\n",
      " 'Meadows' 'Jacobson' 'Harvey' 'Allison' 'Garza' 'Trevino' 'Bartlett'\n",
      " 'Mcclain' 'Mckee' 'Morrow' 'Stout' 'Frost' 'Frank' 'Haynes' 'Mora' 'Kemp'\n",
      " 'Atkinson' 'Dunlap' 'Roy' 'Walters' 'Villanueva' 'Norman' 'Camacho'\n",
      " 'Parker' 'Nunez' 'Woodard' 'Hendrix' 'Everett' 'Shepherd' 'Singh' 'Kane'\n",
      " 'Winters' 'Valenzuela' 'Larsen' 'Barron' 'Blair' 'Haney' 'Choi' 'Henry'\n",
      " 'Estes' 'Logan' 'Yates' 'Cisneros' 'Patrick' 'Ponce' 'Mercer' 'Mccarty'\n",
      " 'Cummings' 'Casey' 'Short' 'Donaldson' 'Mills' 'Cabrera' 'Johns' 'Knapp'\n",
      " 'Hensley' 'Carney' 'Lowery' 'Blackwell' 'Cooley' 'Leon' 'Delacruz'\n",
      " 'Dodson' 'Hogan' 'Solomon' 'Nixon' 'Bentley' 'Reid' 'Chapman' 'Malone'\n",
      " 'David' 'Moody' 'Prince' 'Nicholson' 'Wolf' 'Grimes' 'Little' 'Bright'\n",
      " 'Ali' 'Dorsey' 'Estrada' 'Blackburn' 'Odonnell' 'Villegas']\n",
      "\n",
      "Column: Gender\n",
      "Unique values (3): ['Male' 'Female' 'Other']\n",
      "\n",
      "Column: DateofBirth\n",
      "Unique values (2718): ['31-08-1992' '29-04-1965' '10-03-1973' ... '08-02-2000' '08-08-1994'\n",
      " '01-06-1980']\n",
      "\n",
      "Column: PhoneNumber\n",
      "Unique values (2601): ['421-429-7655x39421' '+1-451-574-5308x1681' '(858)901-5499' ...\n",
      " '001-847-873-3665' '(385)467-6434x67311' '(772)767-2580']\n",
      "\n",
      "Column: Email\n",
      "Unique values (2977): ['perezjanet@example.org' 'grossmark@example.com'\n",
      " 'katiemaldonado@example.com' ... 'bschultz@example.net'\n",
      " 'alvarezstephen@example.net' 'murrayallison@example.com']\n",
      "\n",
      "Column: Address\n",
      "Unique values (3000): ['597 Smith Point' '8116 Stuart Loop' '5940 Barr Villages Suite 075' ...\n",
      " '36716 Kevin Locks Suite 422' '0983 Jeremy Burgs' '146 Cheryl Highway']\n",
      "\n",
      "Column: City\n",
      "Unique values (2709): ['Hollandfort' 'Port Margaretfurt' 'Dianaland' ... 'Schmidtfurt'\n",
      " 'Michaelhaven' 'Hallland']\n",
      "\n",
      "Column: State\n",
      "Unique values (59): ['NV' 'TN' 'TX' 'GA' 'IN' 'NC' 'VA' 'PW' 'CA' 'MS' 'OH' 'AZ' 'CT' 'WV'\n",
      " 'DE' 'HI' 'ME' 'MH' 'IA' 'NJ' 'ID' 'OR' 'AL' 'KY' 'AR' 'MN' 'GU' 'DC'\n",
      " 'NM' 'LA' 'WI' 'OK' 'PR' 'AK' 'ND' 'MO' 'FM' 'WA' 'NE' 'RI' 'PA' 'NH'\n",
      " 'VI' 'MP' 'KS' 'SC' 'SD' 'MD' 'AS' 'MA' 'IL' 'NY' 'CO' 'MI' 'UT' 'WY'\n",
      " 'FL' 'MT' 'VT']\n",
      "\n",
      "Column: ZipCode\n",
      "Unique values (2954): [57588 14726  4699 ... 59399 37855  8592]\n",
      "\n",
      "Column: Country\n",
      "Unique values (243): ['Micronesia' 'Greenland' 'China' 'Ghana' 'Solomon Islands' 'Liberia'\n",
      " 'Congo' 'Pitcairn Islands' 'Spain' 'Gabon' 'Switzerland' 'Guam'\n",
      " 'Central African Republic' 'Kenya' 'Belize' 'Morocco' 'Poland' 'Ukraine'\n",
      " 'Costa Rica' 'United Arab Emirates' 'Kyrgyz Republic' 'Belgium'\n",
      " 'Saint Kitts and Nevis' 'Norway' 'Iceland' 'Macao' 'Cape Verde' 'Comoros'\n",
      " 'Tunisia' 'Burkina Faso' 'Bahrain' 'Anguilla' 'Canada' 'Nauru'\n",
      " 'United States Virgin Islands' 'Jordan' 'Niger'\n",
      " 'Antarctica (the territory South of 60 deg S)' 'Hong Kong' 'Luxembourg'\n",
      " 'Afghanistan' 'Holy See (Vatican City State)' 'Monaco' 'Marshall Islands'\n",
      " 'Faroe Islands' 'Bouvet Island (Bouvetoya)' 'Niue' 'San Marino' 'Cuba'\n",
      " 'Colombia' 'Sweden' 'Western Sahara' 'Pakistan' 'Malaysia' 'Palau'\n",
      " 'Greece' 'French Guiana' 'Egypt' 'Uzbekistan' 'Argentina' 'Swaziland'\n",
      " 'Paraguay' 'Mauritania' 'Cyprus' 'Cambodia' 'Hungary' 'Botswana'\n",
      " 'Kiribati' 'Estonia' 'Ethiopia' 'Yemen' 'Bolivia' 'Mayotte'\n",
      " 'Turkmenistan' 'Georgia' 'France' 'Zimbabwe' 'Wallis and Futuna'\n",
      " \"Cote d'Ivoire\" 'Mexico' 'Haiti' 'Slovenia' 'Cameroon' 'Peru' 'Croatia'\n",
      " 'Saint Vincent and the Grenadines' 'Timor-Leste' 'Norfolk Island'\n",
      " 'Singapore' 'India' 'Eritrea' 'Benin' 'Martinique' 'Gambia' 'Sudan'\n",
      " 'Austria' 'Aruba' 'Dominica' 'Iraq' 'Saint Barthelemy'\n",
      " 'British Virgin Islands' 'Bahamas' 'Ireland' 'Myanmar' 'Indonesia'\n",
      " 'Guadeloupe' \"Lao People's Democratic Republic\" 'Albania' 'Senegal'\n",
      " 'Israel' 'Jersey' 'Malta' 'Andorra' 'Maldives' 'Reunion' 'Nicaragua'\n",
      " 'Burundi' 'Romania' 'United States of America' 'Trinidad and Tobago'\n",
      " 'El Salvador' 'Isle of Man' 'Finland' 'Angola' 'Guyana' 'Oman' 'Zambia'\n",
      " 'Sao Tome and Principe' 'Guatemala' 'Denmark' 'Kuwait'\n",
      " 'Palestinian Territory' 'Saint Lucia' 'Slovakia (Slovak Republic)'\n",
      " 'Saint Pierre and Miquelon' 'Czech Republic' 'Azerbaijan'\n",
      " 'Cocos (Keeling) Islands' 'Fiji' 'Venezuela' 'Thailand' 'Guernsey'\n",
      " 'Mauritius' 'Netherlands' 'French Southern Territories'\n",
      " 'Antigua and Barbuda' 'Mali' 'Djibouti' 'Germany' 'Rwanda' 'Japan' 'Chad'\n",
      " 'South Africa' 'Algeria' 'Puerto Rico' 'Jamaica' 'Mozambique'\n",
      " 'Netherlands Antilles' 'Syrian Arab Republic' 'Lesotho' 'Iran' 'Italy'\n",
      " 'Portugal' 'Nigeria' 'Barbados'\n",
      " 'South Georgia and the South Sandwich Islands' 'Nepal'\n",
      " 'Heard Island and McDonald Islands' 'Vanuatu' 'Guinea'\n",
      " 'Libyan Arab Jamahiriya' 'Brazil' 'Madagascar' 'Sierra Leone' 'Belarus'\n",
      " 'Dominican Republic' 'Armenia' 'Vietnam'\n",
      " 'British Indian Ocean Territory (Chagos Archipelago)' 'French Polynesia'\n",
      " 'American Samoa' 'Korea' 'Tuvalu' 'Ecuador' 'Honduras' 'Guinea-Bissau'\n",
      " 'Malawi' 'Christmas Island' 'Saint Martin' 'Serbia' 'Chile' 'Tonga'\n",
      " 'Liechtenstein' 'Panama' 'United Kingdom' 'Grenada'\n",
      " 'Northern Mariana Islands' 'Qatar' 'Mongolia' 'Uruguay' 'Sri Lanka'\n",
      " 'Bhutan' 'Lithuania' 'Papua New Guinea' 'Brunei Darussalam' 'Bulgaria'\n",
      " 'Latvia' 'Cayman Islands' 'Gibraltar' 'Taiwan' 'Bangladesh' 'Australia'\n",
      " 'Tanzania' 'North Macedonia' 'Seychelles' 'Samoa' 'Saudi Arabia'\n",
      " 'Saint Helena' 'Lebanon' 'Turks and Caicos Islands'\n",
      " 'Svalbard & Jan Mayen Islands' 'New Caledonia' 'Kazakhstan' 'Philippines'\n",
      " 'Turkey' 'Montserrat' 'Bosnia and Herzegovina'\n",
      " 'Falkland Islands (Malvinas)' 'Tajikistan' 'Somalia' 'Equatorial Guinea'\n",
      " 'Cook Islands' 'Namibia' 'United States Minor Outlying Islands' 'Moldova'\n",
      " 'Montenegro' 'Togo' 'Suriname' 'Russian Federation' 'Tokelau'\n",
      " 'New Zealand' 'Bermuda' 'Uganda']\n",
      "\n",
      "Column: EducationLevel\n",
      "Unique values (4): ['High School' \"Bachelor's Degree\" 'PhD' \"Master's Degree\"]\n",
      "\n",
      "Column: YearsofExperience\n",
      "Unique values (21): [ 8 17 20  0 18 11 15  4 19  7 12  9  2  6 10 13 16 14  5  1  3]\n",
      "\n",
      "Column: DesiredSalary\n",
      "Unique values (2999): [60103.21 64575.84 39422.71 ... 31093.7  59442.38 89853.85]\n",
      "\n",
      "Column: JobTitle\n",
      "Unique values (636): ['Chief Technology Officer' 'Designer, furniture'\n",
      " 'Sound technician, broadcasting/film/video' 'Air cabin crew'\n",
      " 'Art therapist' 'Engineer, electronics' 'Scientist, research (maths)'\n",
      " 'Teacher, primary school' 'Phytotherapist' 'Pilot, airline'\n",
      " 'Theatre director' 'Corporate treasurer' 'Accounting technician'\n",
      " 'Learning disability nurse' 'Web designer'\n",
      " 'Scientist, research (physical sciences)' 'Higher education lecturer'\n",
      " 'Merchandiser, retail' 'Buyer, retail' 'Water quality scientist'\n",
      " 'Optician, dispensing' 'Scientist, marine'\n",
      " 'Armed forces technical officer' 'Herpetologist'\n",
      " 'Production assistant, radio' 'Publishing rights manager'\n",
      " 'Designer, television/film set' 'Designer, jewellery' 'Media buyer'\n",
      " 'Designer, textile' 'Commercial horticulturist' 'Food technologist'\n",
      " 'Chartered accountant' 'Surveyor, rural practice'\n",
      " 'Dance movement psychotherapist' 'Event organiser'\n",
      " 'Psychologist, clinical' 'Dispensing optician' 'Health service manager'\n",
      " 'Clinical cytogeneticist' 'Sports administrator' 'Therapist, nutritional'\n",
      " \"Barrister's clerk\" 'Therapeutic radiographer'\n",
      " 'Scientist, research (medical)' 'Surveyor, land/geomatics'\n",
      " 'Surveyor, hydrographic' 'Land/geomatics surveyor'\n",
      " 'Data processing manager' 'Paediatric nurse' 'Chief of Staff'\n",
      " 'Site engineer' 'Armed forces operational officer' 'Learning mentor'\n",
      " 'Press photographer' 'Journalist, magazine' 'Geneticist, molecular'\n",
      " 'Accountant, chartered management' 'Insurance broker' 'Sports therapist'\n",
      " 'Research officer, government' 'Engineer, control and instrumentation'\n",
      " 'Tree surgeon' 'Heritage manager' 'Engineer, building services'\n",
      " 'Exhibition designer' 'Waste management officer' 'Oncologist'\n",
      " 'Structural engineer' 'Production assistant, television'\n",
      " 'Surveyor, planning and development' 'Petroleum engineer'\n",
      " 'Academic librarian' 'Arts development officer'\n",
      " 'Development worker, community' 'Commercial art gallery manager'\n",
      " 'Secondary school teacher' 'Financial controller' 'Brewing technologist'\n",
      " 'Chartered legal executive (England and Wales)' 'Optometrist'\n",
      " 'Engineer, site' 'Barista' 'Patent attorney'\n",
      " 'Engineer, civil (contracting)' 'Nurse, mental health'\n",
      " 'Doctor, general practice' 'Furniture designer'\n",
      " 'Radio broadcast assistant' 'Technical sales engineer'\n",
      " 'Glass blower/designer' 'Marine scientist' 'Hospital pharmacist'\n",
      " 'Race relations officer' 'Counselling psychologist' 'Best boy'\n",
      " 'Town planner' 'Tourism officer' 'Podiatrist' 'Actuary' 'Patent examiner'\n",
      " 'Land' 'Commissioning editor' 'Neurosurgeon' 'Press sub'\n",
      " 'Charity fundraiser' 'Recycling officer' 'Art gallery manager'\n",
      " 'Restaurant manager' 'Naval architect' 'Scientist, forensic' 'IT trainer'\n",
      " 'Psychotherapist' 'Radiation protection practitioner'\n",
      " 'Designer, fashion/clothing' 'Therapist, occupational' 'Catering manager'\n",
      " 'Chief Strategy Officer' 'Regulatory affairs officer' 'Paramedic'\n",
      " 'English as a foreign language teacher' 'Purchasing manager'\n",
      " 'Diagnostic radiographer' 'Cartographer'\n",
      " 'Accountant, chartered certified' 'Trade mark attorney' 'Police officer'\n",
      " 'Transport planner' 'Scientific laboratory technician'\n",
      " 'Trade union research officer' 'Freight forwarder' 'Warden/ranger'\n",
      " 'Programme researcher, broadcasting/film/video'\n",
      " 'Engineer, manufacturing systems' 'Civil Service fast streamer'\n",
      " 'Tour manager' 'Human resources officer' 'Quantity surveyor' 'Aid worker'\n",
      " 'Dentist' 'Public librarian' 'Product manager' 'Seismic interpreter'\n",
      " 'Multimedia specialist' 'Emergency planning/management officer'\n",
      " 'Records manager' 'Broadcast engineer' 'Ambulance person'\n",
      " 'Manufacturing systems engineer' 'Licensed conveyancer'\n",
      " 'Pension scheme manager' 'Engineer, agricultural'\n",
      " 'Nurse, learning disability' 'Retail banker' 'Engineer, maintenance'\n",
      " 'Buyer, industrial' 'Film/video editor' 'Sports development officer'\n",
      " 'Airline pilot' 'Clinical molecular geneticist' 'Architect'\n",
      " 'Educational psychologist' 'Electrical engineer' 'Editorial assistant'\n",
      " 'Scientist, clinical (histocompatibility and immunogenetics)'\n",
      " 'Financial adviser' 'Engineering geologist' 'Osteopath'\n",
      " 'Teacher, secondary school' 'Clinical biochemist'\n",
      " 'Scientist, product/process development'\n",
      " 'Teacher, special educational needs' 'Psychologist, sport and exercise'\n",
      " 'Print production planner' 'Garment/textile technologist'\n",
      " 'Scientist, research (life sciences)' 'Textile designer'\n",
      " 'Research scientist (medical)' 'Games developer' 'Archaeologist'\n",
      " 'Clothing/textile technologist' 'Agricultural engineer'\n",
      " 'Geologist, engineering' 'Commercial/residential surveyor' 'Geochemist'\n",
      " 'Engineer, energy' 'Personnel officer' 'Physiological scientist'\n",
      " 'Industrial/product designer' 'Chief Operating Officer'\n",
      " 'Public house manager' 'Producer, radio' 'Biochemist, clinical'\n",
      " 'Sales promotion account executive' 'Risk manager'\n",
      " 'Engineer, civil (consulting)' 'Pharmacist, hospital'\n",
      " 'Corporate investment banker' 'Engineer, electrical' 'Sub' 'Counsellor'\n",
      " 'Programmer, multimedia' 'Farm manager' 'Building surveyor'\n",
      " 'Merchant navy officer' 'Building control surveyor'\n",
      " 'Geophysical data processor' 'Occupational psychologist' 'Psychiatrist'\n",
      " 'Travel agency manager' 'Forest/woodland manager' 'Fish farm manager'\n",
      " 'Surveyor, insurance' 'Engineer, maintenance (IT)' 'Hotel manager'\n",
      " 'Horticulturist, commercial' 'Secretary/administrator'\n",
      " 'Communications engineer' 'Lecturer, higher education'\n",
      " 'Colour technologist' 'Broadcast presenter' 'Librarian, public'\n",
      " 'Social worker' 'Teacher, music' 'Set designer' 'Private music teacher'\n",
      " 'Television/film/video producer' 'Local government officer'\n",
      " 'Health and safety inspector' 'Administrator' 'Artist'\n",
      " 'Research officer, political party' 'Accommodation manager'\n",
      " 'Haematologist' 'Media planner' 'Investment banker, operational'\n",
      " 'Drilling engineer' 'Musician' 'Technical author' 'Designer, multimedia'\n",
      " 'Special educational needs teacher' 'Horticultural therapist'\n",
      " 'Magazine features editor' 'Scientist, water quality'\n",
      " 'Civil engineer, contracting' 'Museum/gallery curator'\n",
      " 'Administrator, charities/voluntary organisations'\n",
      " 'Nutritional therapist' 'Health promotion specialist' 'Charity officer'\n",
      " 'Education officer, environmental' 'Systems analyst' 'Financial planner'\n",
      " 'Animator' 'Hydrogeologist' 'Public relations account executive'\n",
      " 'Metallurgist' 'Archivist' 'Tourist information centre manager'\n",
      " 'Fitness centre manager' 'Clinical embryologist'\n",
      " 'Education officer, museum' 'Engineer, technical sales' 'Engineer, water'\n",
      " 'Museum education officer' 'Fast food restaurant manager'\n",
      " 'Geologist, wellsite' 'Lawyer' 'Surveyor, minerals'\n",
      " 'Clinical research associate' 'Teaching laboratory technician'\n",
      " 'Loss adjuster, chartered' 'Advertising account planner'\n",
      " 'Conservation officer, nature' 'Administrator, local government'\n",
      " 'Geoscientist' 'Adult guidance worker' 'Geophysicist/field seismologist'\n",
      " 'Information systems manager' 'Ophthalmologist' 'Radio producer'\n",
      " 'Administrator, education' 'Intelligence analyst'\n",
      " 'Passenger transport manager' 'Statistician' 'Field trials officer'\n",
      " 'Forensic psychologist' 'Banker' 'Public relations officer'\n",
      " 'Legal secretary' 'Historic buildings inspector/conservation officer'\n",
      " 'Professor Emeritus' 'Administrator, Civil Service'\n",
      " 'Planning and development surveyor' 'Operational investment banker'\n",
      " 'Mechanical engineer' 'Designer, graphic' 'Engineer, drilling'\n",
      " 'Armed forces logistics/support/administrative officer'\n",
      " 'Chartered public finance accountant' 'Product designer'\n",
      " 'Research officer, trade union' 'Product/process development scientist'\n",
      " 'Producer, television/film/video'\n",
      " 'Geographical information systems officer' 'Building services engineer'\n",
      " 'Environmental education officer' 'Air broker' 'Solicitor, Scotland'\n",
      " 'Scientist, audiological' 'Production engineer' 'Animal technologist'\n",
      " 'Editor, film/video'\n",
      " 'Clinical scientist, histocompatibility and immunogenetics'\n",
      " 'Stage manager' 'Psychotherapist, child' 'Biomedical scientist'\n",
      " 'Chief Marketing Officer' 'Therapist, speech and language'\n",
      " 'Rural practice surveyor' 'Therapist, art' 'Barrister'\n",
      " 'Fisheries officer' 'Retail merchandiser' 'Designer, interior/spatial'\n",
      " 'Administrator, sports' 'Writer' 'Solicitor'\n",
      " 'Chartered certified accountant' 'TEFL teacher' 'Child psychotherapist'\n",
      " 'Contracting civil engineer' 'Electronics engineer'\n",
      " 'Chartered management accountant' 'Therapist, drama'\n",
      " 'Early years teacher' 'Contractor' 'Occupational therapist'\n",
      " 'Accountant, chartered public finance' 'Television floor manager'\n",
      " 'Medical laboratory scientific officer' 'Firefighter'\n",
      " 'Sport and exercise psychologist' 'Audiological scientist'\n",
      " 'Health visitor' 'Psychologist, occupational'\n",
      " 'Surveyor, commercial/residential' 'Sales professional, IT'\n",
      " 'Landscape architect' 'Lighting technician, broadcasting/film/video'\n",
      " 'Lexicographer' 'Printmaker' 'Sports coach' 'Translator' 'Tax inspector'\n",
      " 'Engineer, aeronautical' 'Mining engineer' 'Advice worker'\n",
      " 'Database administrator' 'Further education lecturer'\n",
      " 'Community development worker' 'International aid/development worker'\n",
      " 'Software engineer' 'Midwife' 'Television camera operator'\n",
      " 'Pensions consultant' 'Quality manager' 'Engineer, production'\n",
      " 'Psychologist, forensic' 'Marketing executive' 'Data scientist'\n",
      " 'Outdoor activities/education manager' 'Comptroller' 'Prison officer'\n",
      " 'IT sales professional' 'Designer, ceramics/pottery' 'Secretary, company'\n",
      " 'Government social research officer' 'Volunteer coordinator'\n",
      " 'Furniture conservator/restorer' 'Psychiatric nurse' 'Copy'\n",
      " 'Management consultant' 'Interpreter' \"Nurse, children's\"\n",
      " 'Research scientist (maths)' 'Recruitment consultant'\n",
      " 'Diplomatic Services operational officer' 'Accountant, chartered'\n",
      " 'Illustrator' 'Civil engineer, consulting' 'Architectural technologist'\n",
      " 'Civil Service administrator' 'Copywriter, advertising'\n",
      " 'Designer, blown glass/stained glass' 'Economist' 'Adult nurse'\n",
      " 'Pharmacist, community' 'Surveyor, mining' 'Fashion designer'\n",
      " 'Engineer, manufacturing' 'Chemical engineer' 'Camera operator'\n",
      " 'Proofreader' 'Probation officer' 'Training and development officer'\n",
      " 'Environmental manager' 'Operations geologist' 'Insurance risk surveyor'\n",
      " 'Retail manager' 'Radiographer, diagnostic' 'Biomedical engineer'\n",
      " 'Psychologist, counselling' 'Insurance claims handler'\n",
      " 'Systems developer' 'Medical technical officer' 'Amenity horticulturist'\n",
      " 'Chief Financial Officer' 'Surgeon' 'Gaffer' 'Publishing copy'\n",
      " 'Energy engineer' 'Agricultural consultant' 'Careers adviser'\n",
      " 'Clinical psychologist' 'Information officer' 'Oceanographer'\n",
      " 'Production designer, theatre/television/film' 'Engineer, chemical'\n",
      " 'Psychotherapist, dance movement' 'Lecturer, further education'\n",
      " 'Surveyor, building control' 'Engineer, land'\n",
      " 'Television production assistant' 'Sales executive' 'Video editor'\n",
      " 'Insurance underwriter' 'Animal nutritionist'\n",
      " 'Development worker, international aid' 'IT technical support officer'\n",
      " 'Arboriculturist' 'Programmer, applications' 'Automotive engineer'\n",
      " 'Engineer, broadcasting (operations)' 'Surveyor, building'\n",
      " 'Cytogeneticist' 'Estate manager/land agent' 'Network engineer'\n",
      " 'Equities trader' 'Meteorologist' 'Insurance account manager'\n",
      " 'Horticulturist, amenity' 'Pharmacologist' 'Minerals surveyor'\n",
      " 'Veterinary surgeon' 'Armed forces training and education officer'\n",
      " 'Futures trader' 'Magazine journalist' 'Engineer, structural'\n",
      " 'Industrial buyer' 'Environmental consultant' 'Forensic scientist'\n",
      " 'Aeronautical engineer' 'Restaurant manager, fast food' 'Pathologist'\n",
      " 'Psychologist, educational' 'Bookseller' 'Careers information officer'\n",
      " 'Location manager' 'Plant breeder/geneticist' 'Therapist, music'\n",
      " 'Visual merchandiser' 'Museum/gallery conservator'\n",
      " 'Chief Executive Officer' 'Ergonomist'\n",
      " 'Conservation officer, historic buildings' 'Community pharmacist'\n",
      " 'Energy manager' 'Conservator, furniture' 'Community education officer'\n",
      " 'Legal executive' 'Research scientist (physical sciences)' 'Cabin crew'\n",
      " 'Nurse, adult' 'Advertising art director'\n",
      " 'Senior tax professional/tax inspector' 'Primary school teacher'\n",
      " 'Mudlogger' 'General practice doctor'\n",
      " 'Research scientist (life sciences)' 'Multimedia programmer'\n",
      " 'Medical sales representative' 'Social research officer, government'\n",
      " 'Scientist, biomedical' 'Administrator, arts' 'Maintenance engineer'\n",
      " 'IT consultant' 'Horticultural consultant' 'Hydrographic surveyor'\n",
      " 'Dietitian' 'Call centre manager' 'Designer, industrial/product'\n",
      " 'Presenter, broadcasting' 'Ship broker' 'Theatre manager'\n",
      " 'Psychologist, prison and probation services' 'Actor'\n",
      " 'Embryologist, clinical' 'Surveyor, quantity' 'Retail buyer'\n",
      " 'Investment banker, corporate' 'Claims inspector/assessor'\n",
      " 'Education officer, community' 'Equality and diversity officer'\n",
      " 'Theme park manager' 'Control and instrumentation engineer' 'Make'\n",
      " 'Toxicologist' 'Production manager' \"Politician's assistant\"\n",
      " 'Engineer, automotive' 'Special effects artist' 'Doctor, hospital'\n",
      " 'Quarry manager' 'Designer, exhibition/display'\n",
      " 'Public affairs consultant' 'Hydrologist' 'Medical illustrator'\n",
      " 'Occupational hygienist' 'Advertising account executive'\n",
      " 'Wellsite geologist' 'Engineer, materials' 'Physiotherapist'\n",
      " 'Arts administrator' 'Engineer, communications' 'Associate Professor'\n",
      " 'Journalist, newspaper' 'Herbalist' 'Chiropractor' 'Bonds trader'\n",
      " 'Exercise physiologist' 'Theatre stage manager' 'Facilities manager'\n",
      " 'Social researcher' 'Youth worker' 'Water engineer' 'Ranger/warden'\n",
      " 'Runner, broadcasting/film/video' 'Nature conservation officer'\n",
      " 'Teacher, early years/pre' 'Medical secretary'\n",
      " 'Interior and spatial designer' 'Astronomer'\n",
      " 'English as a second language teacher' 'Science writer'\n",
      " 'Analytical chemist' 'Chiropodist' 'Tax adviser' 'Immunologist'\n",
      " 'Medical physicist' 'Ceramics designer' 'Physicist, medical'\n",
      " 'Higher education careers adviser' 'Teacher, adult education'\n",
      " 'Leisure centre manager' 'Dancer'\n",
      " 'Teacher, English as a foreign language' 'Housing manager/officer'\n",
      " 'Market researcher' 'Investment analyst' 'Education administrator'\n",
      " 'Photographer' 'Soil scientist' 'Personal assistant'\n",
      " 'Trading standards officer' 'Chemist, analytical'\n",
      " 'Journalist, broadcasting' 'Programmer, systems'\n",
      " 'Scientist, physiological' 'Customer service manager'\n",
      " 'Engineer, petroleum' 'Computer games developer'\n",
      " 'Speech and language therapist' 'Health and safety adviser'\n",
      " 'Graphic designer' 'Manufacturing engineer' 'Operational researcher'\n",
      " 'Music tutor' 'Air traffic controller' 'Warehouse manager'\n",
      " 'Conservator, museum/gallery' 'Logistics and distribution manager'\n",
      " 'Broadcast journalist' 'Orthoptist' 'Microbiologist'\n",
      " 'Telecommunications researcher' 'Applications developer' 'Dramatherapist'\n",
      " 'Mental health nurse' 'Exhibitions officer, museum/gallery'\n",
      " 'Music therapist' 'Dealer' 'Chartered loss adjuster'\n",
      " 'Conference centre manager' 'Curator' 'Holiday representative'\n",
      " 'Fine artist' 'Financial trader' 'Company secretary' 'Health physicist'\n",
      " 'Librarian, academic' 'Immigration officer' 'Hospital doctor'\n",
      " 'Field seismologist' 'Technical brewer' 'Editor, magazine features'\n",
      " 'Financial manager' 'Office manager' 'Therapist, sports'\n",
      " 'Materials engineer' 'Homeopath' 'Therapist, horticultural'\n",
      " 'Estate agent' 'Consulting civil engineer' 'Advertising copywriter'\n",
      " 'Acupuncturist' 'Engineer, mining' 'Environmental health practitioner'\n",
      " 'Ecologist' 'Engineer, biomedical' 'Jewellery designer'\n",
      " 'Newspaper journalist' 'Radiographer, therapeutic'\n",
      " 'Financial risk analyst' 'Community arts worker' 'Editor, commissioning']\n",
      "\n",
      "Column: Status\n",
      "Unique values (5): ['Interviewing' 'Rejected' 'In Review' 'Offered' 'Applied']\n",
      "\n"
     ]
    }
   ],
   "source": [
    "# Check unique values in each column\n",
    "for col in recruit_df.columns:\n",
    "    unique_vals = recruit_df[col].unique()\n",
    "    print(f\"Column: {col}\")\n",
    "    print(f\"Unique values ({len(unique_vals)}): {unique_vals}\\n\")"
   ]
  },
  {
   "cell_type": "code",
   "execution_count": 73,
   "id": "e662bd3e",
   "metadata": {},
   "outputs": [
    {
     "data": {
      "image/png": "[encoded data removed]",
      "text/plain": [
       "<Figure size 800x500 with 1 Axes>"
      ]
     },
     "metadata": {},
     "output_type": "display_data"
    }
   ],
   "source": [
    "# Applications by Status\n",
    "plt.figure(figsize=(8,5))\n",
    "sns.countplot(data=recruit_df, x='Status', order=recruit_df['Status'].value_counts().index)\n",
    "plt.title(\"Applications by Status\")\n",
    "plt.ylabel(\"Number of Applicants\")\n",
    "plt.show()"
   ]
  },
  {
   "cell_type": "code",
   "execution_count": 74,
   "id": "daed2bbd",
   "metadata": {},
   "outputs": [
    {
     "data": {
      "image/png": "[encoded data removed]",
      "text/plain": [
       "<Figure size 600x600 with 1 Axes>"
      ]
     },
     "metadata": {},
     "output_type": "display_data"
    }
   ],
   "source": [
    "# Gender Distribution \n",
    "plt.figure(figsize=(6,6))\n",
    "sns.countplot(data=recruit_df, x='Gender', order=recruit_df['Gender'].value_counts().index)\n",
    "plt.title(\"Applicants by Gender\")\n",
    "plt.show()"
   ]
  },
  {
   "cell_type": "markdown",
   "id": "ee88aa88",
   "metadata": {},
   "source": [
    "### Data Cleaning"
   ]
  },
  {
   "cell_type": "code",
   "execution_count": 75,
   "id": "89154933",
   "metadata": {},
   "outputs": [],
   "source": [
    "clean_recruit = recruit_df.copy()"
   ]
  },
  {
   "cell_type": "code",
   "execution_count": 76,
   "id": "5684542a",
   "metadata": {},
   "outputs": [
    {
     "data": {
      "application/vnd.microsoft.datawrangler.viewer.v0+json": {
       "columns": [
        {
         "name": "index",
         "rawType": "int64",
         "type": "integer"
        },
        {
         "name": "ApplicantID",
         "rawType": "int64",
         "type": "integer"
        },
        {
         "name": "ApplicationDate",
         "rawType": "object",
         "type": "string"
        },
        {
         "name": "FirstName",
         "rawType": "object",
         "type": "string"
        },
        {
         "name": "LastName",
         "rawType": "object",
         "type": "string"
        },
        {
         "name": "Gender",
         "rawType": "object",
         "type": "string"
        },
        {
         "name": "DateofBirth",
         "rawType": "object",
         "type": "string"
        },
        {
         "name": "PhoneNumber",
         "rawType": "object",
         "type": "string"
        },
        {
         "name": "Email",
         "rawType": "object",
         "type": "string"
        },
        {
         "name": "Address",
         "rawType": "object",
         "type": "string"
        },
        {
         "name": "City",
         "rawType": "object",
         "type": "string"
        },
        {
         "name": "State",
         "rawType": "object",
         "type": "string"
        },
        {
         "name": "ZipCode",
         "rawType": "int64",
         "type": "integer"
        },
        {
         "name": "Country",
         "rawType": "object",
         "type": "string"
        },
        {
         "name": "EducationLevel",
         "rawType": "object",
         "type": "string"
        },
        {
         "name": "YearsofExperience",
         "rawType": "int64",
         "type": "integer"
        },
        {
         "name": "DesiredSalary",
         "rawType": "float64",
         "type": "float"
        },
        {
         "name": "JobTitle",
         "rawType": "object",
         "type": "string"
        },
        {
         "name": "Status",
         "rawType": "object",
         "type": "string"
        }
       ],
       "ref": "a4c174ab-d211-4e7b-a429-55df3d1bbf99",
       "rows": [
        [
         "0",
         "1001",
         "03-Jun-23",
         "Scott",
         "Sheppard",
         "Male",
         "31-08-1992",
         "421-429-7655x39421",
         "perezjanet@example.org",
         "597 Smith Point",
         "Hollandfort",
         "NV",
         "57588",
         "Micronesia",
         "High School",
         "8",
         "60103.21",
         "Chief Technology Officer",
         "Interviewing"
        ],
        [
         "1",
         "1002",
         "15-May-23",
         "Stanley",
         "Lewis",
         "Male",
         "29-04-1965",
         "+1-451-574-5308x1681",
         "grossmark@example.com",
         "8116 Stuart Loop",
         "Port Margaretfurt",
         "TN",
         "14726",
         "Greenland",
         "Bachelor's Degree",
         "17",
         "64575.84",
         "Designer, furniture",
         "Rejected"
        ],
        [
         "2",
         "1003",
         "04-Aug-23",
         "Javier",
         "Li",
         "Female",
         "10-03-1973",
         "(858)901-5499",
         "katiemaldonado@example.com",
         "5940 Barr Villages Suite 075",
         "Dianaland",
         "TX",
         "4699",
         "China",
         "PhD",
         "20",
         "39422.71",
         "Sound technician, broadcasting/film/video",
         "Rejected"
        ],
        [
         "3",
         "1004",
         "28-Jul-23",
         "Christopher",
         "Johnston",
         "Other",
         "04-04-2001",
         "(853)681-1839x2010",
         "sheila73@example.com",
         "442 Lewis Mount",
         "Youngfurt",
         "GA",
         "34455",
         "Ghana",
         "High School",
         "8",
         "51045.11",
         "Air cabin crew",
         "Rejected"
        ],
        [
         "4",
         "1005",
         "05-Jun-23",
         "Melissa",
         "Hicks",
         "Other",
         "17-06-1978",
         "364-575-8478x67812",
         "emilypatterson@example.org",
         "95961 Taylor Circles Apt. 169",
         "East Ashleyborough",
         "IN",
         "21014",
         "Solomon Islands",
         "Master's Degree",
         "0",
         "52792.86",
         "Art therapist",
         "Interviewing"
        ]
       ],
       "shape": {
        "columns": 18,
        "rows": 5
       }
      },
      "text/html": [
       "<div>\n",
       "<style scoped>\n",
       "    .dataframe tbody tr th:only-of-type {\n",
       "        vertical-align: middle;\n",
       "    }\n",
       "\n",
       "    .dataframe tbody tr th {\n",
       "        vertical-align: top;\n",
       "    }\n",
       "\n",
       "    .dataframe thead th {\n",
       "        text-align: right;\n",
       "    }\n",
       "</style>\n",
       "<table border=\"1\" class=\"dataframe\">\n",
       "  <thead>\n",
       "    <tr style=\"text-align: right;\">\n",
       "      <th></th>\n",
       "      <th>ApplicantID</th>\n",
       "      <th>ApplicationDate</th>\n",
       "      <th>FirstName</th>\n",
       "      <th>LastName</th>\n",
       "      <th>Gender</th>\n",
       "      <th>DateofBirth</th>\n",
       "      <th>PhoneNumber</th>\n",
       "      <th>Email</th>\n",
       "      <th>Address</th>\n",
       "      <th>City</th>\n",
       "      <th>State</th>\n",
       "      <th>ZipCode</th>\n",
       "      <th>Country</th>\n",
       "      <th>EducationLevel</th>\n",
       "      <th>YearsofExperience</th>\n",
       "      <th>DesiredSalary</th>\n",
       "      <th>JobTitle</th>\n",
       "      <th>Status</th>\n",
       "    </tr>\n",
       "  </thead>\n",
       "  <tbody>\n",
       "    <tr>\n",
       "      <th>0</th>\n",
       "      <td>1001</td>\n",
       "      <td>03-Jun-23</td>\n",
       "      <td>Scott</td>\n",
       "      <td>Sheppard</td>\n",
       "      <td>Male</td>\n",
       "      <td>31-08-1992</td>\n",
       "      <td>421-429-7655x39421</td>\n",
       "      <td>perezjanet@example.org</td>\n",
       "      <td>597 Smith Point</td>\n",
       "      <td>Hollandfort</td>\n",
       "      <td>NV</td>\n",
       "      <td>57588</td>\n",
       "      <td>Micronesia</td>\n",
       "      <td>High School</td>\n",
       "      <td>8</td>\n",
       "      <td>60103.21</td>\n",
       "      <td>Chief Technology Officer</td>\n",
       "      <td>Interviewing</td>\n",
       "    </tr>\n",
       "    <tr>\n",
       "      <th>1</th>\n",
       "      <td>1002</td>\n",
       "      <td>15-May-23</td>\n",
       "      <td>Stanley</td>\n",
       "      <td>Lewis</td>\n",
       "      <td>Male</td>\n",
       "      <td>29-04-1965</td>\n",
       "      <td>+1-451-574-5308x1681</td>\n",
       "      <td>grossmark@example.com</td>\n",
       "      <td>8116 Stuart Loop</td>\n",
       "      <td>Port Margaretfurt</td>\n",
       "      <td>TN</td>\n",
       "      <td>14726</td>\n",
       "      <td>Greenland</td>\n",
       "      <td>Bachelor's Degree</td>\n",
       "      <td>17</td>\n",
       "      <td>64575.84</td>\n",
       "      <td>Designer, furniture</td>\n",
       "      <td>Rejected</td>\n",
       "    </tr>\n",
       "    <tr>\n",
       "      <th>2</th>\n",
       "      <td>1003</td>\n",
       "      <td>04-Aug-23</td>\n",
       "      <td>Javier</td>\n",
       "      <td>Li</td>\n",
       "      <td>Female</td>\n",
       "      <td>10-03-1973</td>\n",
       "      <td>(858)901-5499</td>\n",
       "      <td>katiemaldonado@example.com</td>\n",
       "      <td>5940 Barr Villages Suite 075</td>\n",
       "      <td>Dianaland</td>\n",
       "      <td>TX</td>\n",
       "      <td>4699</td>\n",
       "      <td>China</td>\n",
       "      <td>PhD</td>\n",
       "      <td>20</td>\n",
       "      <td>39422.71</td>\n",
       "      <td>Sound technician, broadcasting/film/video</td>\n",
       "      <td>Rejected</td>\n",
       "    </tr>\n",
       "    <tr>\n",
       "      <th>3</th>\n",
       "      <td>1004</td>\n",
       "      <td>28-Jul-23</td>\n",
       "      <td>Christopher</td>\n",
       "      <td>Johnston</td>\n",
       "      <td>Other</td>\n",
       "      <td>04-04-2001</td>\n",
       "      <td>(853)681-1839x2010</td>\n",
       "      <td>sheila73@example.com</td>\n",
       "      <td>442 Lewis Mount</td>\n",
       "      <td>Youngfurt</td>\n",
       "      <td>GA</td>\n",
       "      <td>34455</td>\n",
       "      <td>Ghana</td>\n",
       "      <td>High School</td>\n",
       "      <td>8</td>\n",
       "      <td>51045.11</td>\n",
       "      <td>Air cabin crew</td>\n",
       "      <td>Rejected</td>\n",
       "    </tr>\n",
       "    <tr>\n",
       "      <th>4</th>\n",
       "      <td>1005</td>\n",
       "      <td>05-Jun-23</td>\n",
       "      <td>Melissa</td>\n",
       "      <td>Hicks</td>\n",
       "      <td>Other</td>\n",
       "      <td>17-06-1978</td>\n",
       "      <td>364-575-8478x67812</td>\n",
       "      <td>emilypatterson@example.org</td>\n",
       "      <td>95961 Taylor Circles Apt. 169</td>\n",
       "      <td>East Ashleyborough</td>\n",
       "      <td>IN</td>\n",
       "      <td>21014</td>\n",
       "      <td>Solomon Islands</td>\n",
       "      <td>Master's Degree</td>\n",
       "      <td>0</td>\n",
       "      <td>52792.86</td>\n",
       "      <td>Art therapist</td>\n",
       "      <td>Interviewing</td>\n",
       "    </tr>\n",
       "  </tbody>\n",
       "</table>\n",
       "</div>"
      ],
      "text/plain": [
       "   ApplicantID ApplicationDate    FirstName  LastName  Gender DateofBirth  \\\n",
       "0         1001       03-Jun-23        Scott  Sheppard    Male  31-08-1992   \n",
       "1         1002       15-May-23      Stanley     Lewis    Male  29-04-1965   \n",
       "2         1003       04-Aug-23       Javier        Li  Female  10-03-1973   \n",
       "3         1004       28-Jul-23  Christopher  Johnston   Other  04-04-2001   \n",
       "4         1005       05-Jun-23      Melissa     Hicks   Other  17-06-1978   \n",
       "\n",
       "            PhoneNumber                       Email  \\\n",
       "0    421-429-7655x39421      perezjanet@example.org   \n",
       "1  +1-451-574-5308x1681       grossmark@example.com   \n",
       "2         (858)901-5499  katiemaldonado@example.com   \n",
       "3    (853)681-1839x2010        sheila73@example.com   \n",
       "4    364-575-8478x67812  emilypatterson@example.org   \n",
       "\n",
       "                         Address                City State  ZipCode  \\\n",
       "0                597 Smith Point         Hollandfort    NV    57588   \n",
       "1               8116 Stuart Loop   Port Margaretfurt    TN    14726   \n",
       "2   5940 Barr Villages Suite 075           Dianaland    TX     4699   \n",
       "3                442 Lewis Mount           Youngfurt    GA    34455   \n",
       "4  95961 Taylor Circles Apt. 169  East Ashleyborough    IN    21014   \n",
       "\n",
       "           Country     EducationLevel  YearsofExperience  DesiredSalary  \\\n",
       "0       Micronesia        High School                  8       60103.21   \n",
       "1        Greenland  Bachelor's Degree                 17       64575.84   \n",
       "2            China                PhD                 20       39422.71   \n",
       "3            Ghana        High School                  8       51045.11   \n",
       "4  Solomon Islands    Master's Degree                  0       52792.86   \n",
       "\n",
       "                                    JobTitle        Status  \n",
       "0                   Chief Technology Officer  Interviewing  \n",
       "1                        Designer, furniture      Rejected  \n",
       "2  Sound technician, broadcasting/film/video      Rejected  \n",
       "3                             Air cabin crew      Rejected  \n",
       "4                              Art therapist  Interviewing  "
      ]
     },
     "execution_count": 76,
     "metadata": {},
     "output_type": "execute_result"
    }
   ],
   "source": [
    "# Trim whitespace \n",
    "clean_recruit = clean_recruit.applymap(lambda x: x.strip() if isinstance(x, str) else x)\n",
    "\n",
    "clean_recruit.head()"
   ]
  },
  {
   "cell_type": "code",
   "execution_count": 77,
   "id": "38a18ae2",
   "metadata": {},
   "outputs": [
    {
     "name": "stdout",
     "output_type": "stream",
     "text": [
      "<class 'pandas.core.frame.DataFrame'>\n",
      "RangeIndex: 3000 entries, 0 to 2999\n",
      "Data columns (total 18 columns):\n",
      " #   Column             Non-Null Count  Dtype         \n",
      "---  ------             --------------  -----         \n",
      " 0   ApplicantID        3000 non-null   int64         \n",
      " 1   ApplicationDate    3000 non-null   datetime64[ns]\n",
      " 2   FirstName          3000 non-null   object        \n",
      " 3   LastName           3000 non-null   object        \n",
      " 4   Gender             3000 non-null   object        \n",
      " 5   DateofBirth        3000 non-null   datetime64[ns]\n",
      " 6   PhoneNumber        3000 non-null   object        \n",
      " 7   Email              3000 non-null   object        \n",
      " 8   Address            3000 non-null   object        \n",
      " 9   City               3000 non-null   object        \n",
      " 10  State              3000 non-null   object        \n",
      " 11  ZipCode            3000 non-null   int64         \n",
      " 12  Country            3000 non-null   object        \n",
      " 13  EducationLevel     3000 non-null   object        \n",
      " 14  YearsofExperience  3000 non-null   int64         \n",
      " 15  DesiredSalary      3000 non-null   float64       \n",
      " 16  JobTitle           3000 non-null   object        \n",
      " 17  Status             3000 non-null   object        \n",
      "dtypes: datetime64[ns](2), float64(1), int64(3), object(12)\n",
      "memory usage: 422.0+ KB\n"
     ]
    }
   ],
   "source": [
    "# Parse Date data\n",
    "clean_recruit['DateofBirth'] = pd.to_datetime(clean_recruit['DateofBirth'], dayfirst=True, errors='coerce')\n",
    "clean_recruit['ApplicationDate'] = pd.to_datetime(clean_recruit['ApplicationDate'], dayfirst=True, errors='coerce')\n",
    "\n",
    "clean_recruit.info()"
   ]
  },
  {
   "cell_type": "code",
   "execution_count": 78,
   "id": "310c771a",
   "metadata": {},
   "outputs": [
    {
     "data": {
      "application/vnd.microsoft.datawrangler.viewer.v0+json": {
       "columns": [
        {
         "name": "index",
         "rawType": "int64",
         "type": "integer"
        },
        {
         "name": "PhoneNumber",
         "rawType": "object",
         "type": "unknown"
        }
       ],
       "ref": "6308e8ae-68a5-4813-9f97-6f58a6fbcee8",
       "rows": [
        [
         "0",
         "421-429-7655 ext.39421"
        ],
        [
         "1",
         "+1-451-574-5308 ext.1681"
        ],
        [
         "2",
         "858-901-5499"
        ],
        [
         "3",
         "853-681-1839 ext.2010"
        ],
        [
         "4",
         "364-575-8478 ext.67812"
        ],
        [
         "5",
         "894-940-2919"
        ],
        [
         "6",
         null
        ],
        [
         "7",
         "001-902-992-9557 ext.692"
        ],
        [
         "8",
         "+1-738-583-6354 ext.63335"
        ],
        [
         "9",
         "915-372-0499"
        ],
        [
         "10",
         "852-435-8495"
        ],
        [
         "11",
         "001-527-907-9332 ext.4819"
        ],
        [
         "12",
         "606-926-6770"
        ],
        [
         "13",
         "209-368-2818 ext.1932"
        ],
        [
         "14",
         "001-970-594-9559 ext.42440"
        ],
        [
         "15",
         null
        ],
        [
         "16",
         "409-660-9413"
        ],
        [
         "17",
         "332-925-0075 ext.0800"
        ],
        [
         "18",
         "592-449-4498"
        ],
        [
         "19",
         "001-466-805-0058 ext.769"
        ],
        [
         "20",
         "573-612-6886 ext.9739"
        ],
        [
         "21",
         "+1-336-343-6187 ext.705"
        ],
        [
         "22",
         "853-255-8266 ext.26434"
        ],
        [
         "23",
         "305-772-2998 ext.02932"
        ],
        [
         "24",
         "600-967-3095"
        ],
        [
         "25",
         "001-487-829-9532 ext.746"
        ],
        [
         "26",
         "427-370-2512 ext.6194"
        ],
        [
         "27",
         null
        ],
        [
         "28",
         "960-528-9287 ext.86849"
        ],
        [
         "29",
         "001-266-415-6019 ext.161"
        ],
        [
         "30",
         "001-259-866-8517 ext.64198"
        ],
        [
         "31",
         "294-389-4316 ext.75007"
        ],
        [
         "32",
         "230-888-7183"
        ],
        [
         "33",
         "+1-946-933-4961 ext.681"
        ],
        [
         "34",
         null
        ],
        [
         "35",
         "984-749-4059"
        ],
        [
         "36",
         "545-518-9685"
        ],
        [
         "37",
         null
        ],
        [
         "38",
         "+1-708-518-9313 ext.498"
        ],
        [
         "39",
         null
        ],
        [
         "40",
         "364-385-3544 ext.351"
        ],
        [
         "41",
         "524-599-9460 ext.10219"
        ],
        [
         "42",
         "846-687-4365"
        ],
        [
         "43",
         "859-447-7321"
        ],
        [
         "44",
         "699-982-2807 ext.65316"
        ],
        [
         "45",
         "225-352-3015 ext.07397"
        ],
        [
         "46",
         null
        ],
        [
         "47",
         "+1-352-506-4850 ext.497"
        ],
        [
         "48",
         "698-300-1600 ext.23221"
        ],
        [
         "49",
         "001-460-617-6814 ext.7252"
        ]
       ],
       "shape": {
        "columns": 1,
        "rows": 3000
       }
      },
      "text/plain": [
       "0          421-429-7655 ext.39421\n",
       "1        +1-451-574-5308 ext.1681\n",
       "2                    858-901-5499\n",
       "3           853-681-1839 ext.2010\n",
       "4          364-575-8478 ext.67812\n",
       "                  ...            \n",
       "2995    001-324-747-3549 ext.4392\n",
       "2996       870-454-9481 ext.49987\n",
       "2997             001-847-873-3665\n",
       "2998       385-467-6434 ext.67311\n",
       "2999                 772-767-2580\n",
       "Name: PhoneNumber, Length: 3000, dtype: object"
      ]
     },
     "execution_count": 78,
     "metadata": {},
     "output_type": "execute_result"
    }
   ],
   "source": [
    "# Clean phone number\n",
    "def basic_clean_phone(phone):\n",
    "    if pd.isna(phone):\n",
    "        return np.nan\n",
    "\n",
    "    phone = str(phone).strip()\n",
    "    \n",
    "    # Remove entries that are just ####\n",
    "    if all(c == '#' for c in phone):\n",
    "        return np.nan\n",
    "    \n",
    "    phone = phone.replace('.', '-').replace(')', '-')\n",
    "    phone = ''.join(c for c in phone if c.isdigit() or c in ['+', 'x', '-', ' '])\n",
    "    phone = phone.replace('x', ' ext.')\n",
    "    \n",
    "    return phone\n",
    "\n",
    "clean_recruit['PhoneNumber'] = clean_recruit['PhoneNumber'].apply(basic_clean_phone)\n",
    "clean_recruit['PhoneNumber']"
   ]
  },
  {
   "cell_type": "code",
   "execution_count": 79,
   "id": "82d01a17",
   "metadata": {},
   "outputs": [
    {
     "data": {
      "application/vnd.microsoft.datawrangler.viewer.v0+json": {
       "columns": [
        {
         "name": "index",
         "rawType": "int64",
         "type": "integer"
        },
        {
         "name": "Email",
         "rawType": "object",
         "type": "string"
        }
       ],
       "ref": "4a3b8af2-4844-4526-9129-5a420cb1e46c",
       "rows": [
        [
         "0",
         "perezjanet@example.org"
        ],
        [
         "1",
         "grossmark@example.com"
        ],
        [
         "2",
         "katiemaldonado@example.com"
        ],
        [
         "3",
         "sheila73@example.com"
        ],
        [
         "4",
         "emilypatterson@example.org"
        ],
        [
         "5",
         "pvelasquez@example.net"
        ],
        [
         "6",
         "aclayton@example.net"
        ],
        [
         "7",
         "jeffreyellis@example.com"
        ],
        [
         "8",
         "hamptontimothy@example.net"
        ],
        [
         "9",
         "cshaw@example.net"
        ],
        [
         "10",
         "sloankrista@example.org"
        ],
        [
         "11",
         "shelia63@example.net"
        ],
        [
         "12",
         "fraziermichelle@example.net"
        ],
        [
         "13",
         "brentswanson@example.org"
        ],
        [
         "14",
         "clarkdawn@example.net"
        ],
        [
         "15",
         "rachel98@example.com"
        ],
        [
         "16",
         "charles11@example.net"
        ],
        [
         "17",
         "smithashley@example.org"
        ],
        [
         "18",
         "joe34@example.net"
        ],
        [
         "19",
         "corey49@example.net"
        ],
        [
         "20",
         "jennifer31@example.com"
        ],
        [
         "21",
         "gibbsjacob@example.net"
        ],
        [
         "22",
         "kristinross@example.net"
        ],
        [
         "23",
         "melvinzimmerman@example.org"
        ],
        [
         "24",
         "jameslucas@example.com"
        ],
        [
         "25",
         "prodriguez@example.com"
        ],
        [
         "26",
         "sandraferrell@example.net"
        ],
        [
         "27",
         "lisalee@example.com"
        ],
        [
         "28",
         "juliecarter@example.net"
        ],
        [
         "29",
         "jgarrett@example.com"
        ],
        [
         "30",
         "mhenderson@example.com"
        ],
        [
         "31",
         "debra21@example.net"
        ],
        [
         "32",
         "debra17@example.net"
        ],
        [
         "33",
         "pbarron@example.org"
        ],
        [
         "34",
         "wallacemark@example.net"
        ],
        [
         "35",
         "matthewadams@example.net"
        ],
        [
         "36",
         "kellysellers@example.net"
        ],
        [
         "37",
         "thomas12@example.org"
        ],
        [
         "38",
         "jenniferreyes@example.org"
        ],
        [
         "39",
         "joseph36@example.com"
        ],
        [
         "40",
         "jessicaaguirre@example.org"
        ],
        [
         "41",
         "gloriacruz@example.com"
        ],
        [
         "42",
         "robertthompson@example.com"
        ],
        [
         "43",
         "wjackson@example.com"
        ],
        [
         "44",
         "telliott@example.org"
        ],
        [
         "45",
         "lsmith@example.org"
        ],
        [
         "46",
         "taylormason@example.com"
        ],
        [
         "47",
         "ppowell@example.org"
        ],
        [
         "48",
         "upeters@example.com"
        ],
        [
         "49",
         "elizabethtaylor@example.net"
        ]
       ],
       "shape": {
        "columns": 1,
        "rows": 3000
       }
      },
      "text/plain": [
       "0           perezjanet@example.org\n",
       "1            grossmark@example.com\n",
       "2       katiemaldonado@example.com\n",
       "3             sheila73@example.com\n",
       "4       emilypatterson@example.org\n",
       "                   ...            \n",
       "2995       davisvickie@example.org\n",
       "2996         gpeterson@example.net\n",
       "2997          bschultz@example.net\n",
       "2998    alvarezstephen@example.net\n",
       "2999     murrayallison@example.com\n",
       "Name: Email, Length: 3000, dtype: object"
      ]
     },
     "execution_count": 79,
     "metadata": {},
     "output_type": "execute_result"
    }
   ],
   "source": [
    "# clean email\n",
    "\n",
    "def clean_email(email):\n",
    "    if pd.isna(email):\n",
    "        return np.nan\n",
    "\n",
    "    email = str(email).strip()\n",
    "\n",
    "    # Use simple regex\n",
    "    pattern = r'^[\\w\\.-]+@[\\w\\.-]+\\.\\w+$'\n",
    "    if re.match(pattern, email):\n",
    "        return email\n",
    "    else:\n",
    "        return np.nan\n",
    "    \n",
    "clean_recruit['Email'] = clean_recruit['Email'].apply(clean_email)\n",
    "clean_recruit['Email']"
   ]
  },
  {
   "cell_type": "code",
   "execution_count": 80,
   "id": "2030c938",
   "metadata": {},
   "outputs": [
    {
     "data": {
      "application/vnd.microsoft.datawrangler.viewer.v0+json": {
       "columns": [
        {
         "name": "index",
         "rawType": "int64",
         "type": "integer"
        },
        {
         "name": "0",
         "rawType": "object",
         "type": "unknown"
        }
       ],
       "ref": "32795c7a-22ee-40b3-8fd4-28541be7d01e",
       "rows": [
        [
         "0",
         null
        ],
        [
         "1",
         "Greenland"
        ],
        [
         "2",
         "China"
        ],
        [
         "3",
         "Ghana"
        ],
        [
         "4",
         "Solomon Islands"
        ],
        [
         "5",
         "Liberia"
        ],
        [
         "6",
         "Congo"
        ],
        [
         "7",
         "Spain"
        ],
        [
         "8",
         "Gabon"
        ],
        [
         "9",
         "Switzerland"
        ],
        [
         "10",
         "Guam"
        ],
        [
         "11",
         "Central African Republic"
        ],
        [
         "12",
         "Kenya"
        ],
        [
         "13",
         "Belize"
        ],
        [
         "14",
         "Morocco"
        ],
        [
         "15",
         "Poland"
        ],
        [
         "16",
         "Ukraine"
        ],
        [
         "17",
         "Costa Rica"
        ],
        [
         "18",
         "United Arab Emirates"
        ],
        [
         "19",
         "Kyrgyzstan"
        ],
        [
         "20",
         "Belgium"
        ],
        [
         "21",
         "Saint Kitts and Nevis"
        ],
        [
         "22",
         "Norway"
        ],
        [
         "23",
         "Iceland"
        ],
        [
         "24",
         "Macao"
        ],
        [
         "25",
         "Comoros"
        ],
        [
         "26",
         "Tunisia"
        ],
        [
         "27",
         "Burkina Faso"
        ],
        [
         "28",
         "Bahrain"
        ],
        [
         "29",
         "Anguilla"
        ],
        [
         "30",
         "Canada"
        ],
        [
         "31",
         "Nauru"
        ],
        [
         "32",
         "Jordan"
        ],
        [
         "33",
         "Niger"
        ],
        [
         "34",
         "Hong Kong"
        ],
        [
         "35",
         "Luxembourg"
        ],
        [
         "36",
         "Afghanistan"
        ],
        [
         "37",
         "Holy See (Vatican City State)"
        ],
        [
         "38",
         "Monaco"
        ],
        [
         "39",
         "Marshall Islands"
        ],
        [
         "40",
         "Faroe Islands"
        ],
        [
         "41",
         "Niue"
        ],
        [
         "42",
         "San Marino"
        ],
        [
         "43",
         "Cuba"
        ],
        [
         "44",
         "Colombia"
        ],
        [
         "45",
         "Sweden"
        ],
        [
         "46",
         "Western Sahara"
        ],
        [
         "47",
         "Pakistan"
        ],
        [
         "48",
         "Malaysia"
        ],
        [
         "49",
         "Palau"
        ]
       ],
       "shape": {
        "columns": 1,
        "rows": 224
       }
      },
      "text/plain": [
       "array([nan, 'Greenland', 'China', 'Ghana', 'Solomon Islands', 'Liberia',\n",
       "       'Congo', 'Spain', 'Gabon', 'Switzerland', 'Guam',\n",
       "       'Central African Republic', 'Kenya', 'Belize', 'Morocco', 'Poland',\n",
       "       'Ukraine', 'Costa Rica', 'United Arab Emirates', 'Kyrgyzstan',\n",
       "       'Belgium', 'Saint Kitts and Nevis', 'Norway', 'Iceland', 'Macao',\n",
       "       'Comoros', 'Tunisia', 'Burkina Faso', 'Bahrain', 'Anguilla',\n",
       "       'Canada', 'Nauru', 'Jordan', 'Niger', 'Hong Kong', 'Luxembourg',\n",
       "       'Afghanistan', 'Holy See (Vatican City State)', 'Monaco',\n",
       "       'Marshall Islands', 'Faroe Islands', 'Niue', 'San Marino', 'Cuba',\n",
       "       'Colombia', 'Sweden', 'Western Sahara', 'Pakistan', 'Malaysia',\n",
       "       'Palau', 'Greece', 'French Guiana', 'Egypt', 'Uzbekistan',\n",
       "       'Argentina', 'Paraguay', 'Mauritania', 'Cyprus', 'Cambodia',\n",
       "       'Hungary', 'Botswana', 'Kiribati', 'Estonia', 'Ethiopia', 'Yemen',\n",
       "       'Bolivia, Plurinational State of', 'Mayotte', 'Turkmenistan',\n",
       "       'Georgia', 'France', 'Zimbabwe', 'Wallis and Futuna', 'Mexico',\n",
       "       'Haiti', 'Slovenia', 'Cameroon', 'Peru', 'Croatia',\n",
       "       'Saint Vincent and the Grenadines', 'Timor-Leste',\n",
       "       'Norfolk Island', 'Singapore', 'India', 'Eritrea', 'Benin',\n",
       "       'Martinique', 'Gambia', 'Sudan', 'Austria', 'Aruba', 'Dominica',\n",
       "       'Iraq', 'Virgin Islands, British', 'Bahamas', 'Ireland', 'Myanmar',\n",
       "       'Indonesia', 'Guadeloupe', \"Lao People's Democratic Republic\",\n",
       "       'Albania', 'Senegal', 'Israel', 'Jersey', 'Malta', 'Andorra',\n",
       "       'Maldives', 'Nicaragua', 'Burundi', 'Romania', 'United States',\n",
       "       'Trinidad and Tobago', 'El Salvador', 'Isle of Man', 'Finland',\n",
       "       'Angola', 'Guyana', 'Oman', 'Zambia', 'Sao Tome and Principe',\n",
       "       'Guatemala', 'Denmark', 'Kuwait', 'Saint Lucia',\n",
       "       'Saint Pierre and Miquelon', 'Czechia', 'Azerbaijan',\n",
       "       'Cocos (Keeling) Islands', 'Fiji',\n",
       "       'Venezuela, Bolivarian Republic of', 'Thailand', 'Guernsey',\n",
       "       'Mauritius', 'Netherlands', 'French Southern Territories',\n",
       "       'Antigua and Barbuda', 'Mali', 'Djibouti', 'Germany', 'Rwanda',\n",
       "       'Japan', 'Chad', 'South Africa', 'Algeria', 'Puerto Rico',\n",
       "       'Jamaica', 'Mozambique', 'Syrian Arab Republic', 'Lesotho',\n",
       "       'Iran, Islamic Republic of', 'Italy', 'Portugal', 'Nigeria',\n",
       "       'Barbados', 'South Georgia and the South Sandwich Islands',\n",
       "       'Nepal', 'Heard Island and McDonald Islands', 'Vanuatu', 'Guinea',\n",
       "       'Brazil', 'Madagascar', 'Sierra Leone', 'Belarus',\n",
       "       'Dominican Republic', 'Armenia', 'Viet Nam', 'French Polynesia',\n",
       "       'American Samoa', 'Tuvalu', 'Ecuador', 'Honduras', 'Guinea-Bissau',\n",
       "       'Malawi', 'Christmas Island', 'Serbia', 'Chile', 'Tonga',\n",
       "       'Liechtenstein', 'Panama', 'United Kingdom', 'Grenada',\n",
       "       'Northern Mariana Islands', 'Qatar', 'Mongolia', 'Uruguay',\n",
       "       'Sri Lanka', 'Bhutan', 'Lithuania', 'Papua New Guinea',\n",
       "       'Brunei Darussalam', 'Bulgaria', 'Latvia', 'Cayman Islands',\n",
       "       'Gibraltar', 'Taiwan, Province of China', 'Bangladesh',\n",
       "       'Australia', 'Tanzania, United Republic of', 'North Macedonia',\n",
       "       'Seychelles', 'Samoa', 'Saudi Arabia', 'Lebanon',\n",
       "       'Turks and Caicos Islands', 'New Caledonia', 'Kazakhstan',\n",
       "       'Philippines', 'Montserrat', 'Bosnia and Herzegovina',\n",
       "       'Falkland Islands (Malvinas)', 'Tajikistan', 'Somalia',\n",
       "       'Equatorial Guinea', 'Cook Islands', 'Namibia',\n",
       "       'United States Minor Outlying Islands', 'Moldova, Republic of',\n",
       "       'Montenegro', 'Togo', 'Suriname', 'Russian Federation', 'Tokelau',\n",
       "       'New Zealand', 'Bermuda', 'Uganda'], dtype=object)"
      ]
     },
     "execution_count": 80,
     "metadata": {},
     "output_type": "execute_result"
    }
   ],
   "source": [
    "# Clean country\n",
    "\n",
    "import pycountry\n",
    "\n",
    "def clean_country(country_name):\n",
    "    if pd.isna(country_name):\n",
    "        return np.nan\n",
    "    \n",
    "    country_name = str(country_name).strip()\n",
    "    \n",
    "    try:\n",
    "        # Try to match by name\n",
    "        country = pycountry.countries.lookup(country_name)\n",
    "        return country.name  # Standardized name\n",
    "    except LookupError:\n",
    "        return np.nan  \n",
    "\n",
    "clean_recruit['Country'] = clean_recruit['Country'].apply(clean_country)\n",
    "clean_recruit['Country'].unique()"
   ]
  },
  {
   "cell_type": "code",
   "execution_count": 81,
   "id": "a954c7d1",
   "metadata": {},
   "outputs": [
    {
     "data": {
      "application/vnd.microsoft.datawrangler.viewer.v0+json": {
       "columns": [
        {
         "name": "index",
         "rawType": "int64",
         "type": "integer"
        },
        {
         "name": "JobTitle",
         "rawType": "object",
         "type": "string"
        }
       ],
       "ref": "7a7a2361-5aa9-4dc2-b094-4371174055ba",
       "rows": [
        [
         "0",
         "chief technology officer"
        ],
        [
         "1",
         "designer    furniture"
        ],
        [
         "2",
         "sound technician    broadcasting   film   video"
        ],
        [
         "3",
         "air cabin crew"
        ],
        [
         "4",
         "art therapist"
        ],
        [
         "5",
         "engineer    electronic"
        ],
        [
         "6",
         "scientist    research    math  "
        ],
        [
         "7",
         "teacher    primary school"
        ],
        [
         "8",
         "phytotherapist"
        ],
        [
         "9",
         "pilot    airline"
        ],
        [
         "10",
         "theatre director"
        ],
        [
         "11",
         "corporate treasurer"
        ],
        [
         "12",
         "account technician"
        ],
        [
         "13",
         "learn disability nurse"
        ],
        [
         "14",
         "web designer"
        ],
        [
         "15",
         "scientist    research    physical science  "
        ],
        [
         "16",
         "high education lecturer"
        ],
        [
         "17",
         "merchandiser    retail"
        ],
        [
         "18",
         "buyer    retail"
        ],
        [
         "19",
         "water quality scientist"
        ],
        [
         "20",
         "optician    dispense"
        ],
        [
         "21",
         "scientist    marine"
        ],
        [
         "22",
         "armed force technical officer"
        ],
        [
         "23",
         "scientist    research    physical science  "
        ],
        [
         "24",
         "herpetologist"
        ],
        [
         "25",
         "production    radio"
        ],
        [
         "26",
         "publish right manager"
        ],
        [
         "27",
         "designer    television   film set"
        ],
        [
         "28",
         "designer    jewellery"
        ],
        [
         "29",
         "medium buyer"
        ],
        [
         "30",
         "designer    textile"
        ],
        [
         "31",
         "commercial horticulturist"
        ],
        [
         "32",
         "food technologist"
        ],
        [
         "33",
         "charter accountant"
        ],
        [
         "34",
         "optician    dispense"
        ],
        [
         "35",
         "surveyor    rural practice"
        ],
        [
         "36",
         "dance movement psychotherapist"
        ],
        [
         "37",
         "event organiser"
        ],
        [
         "38",
         "psychologist    clinical"
        ],
        [
         "39",
         "dispense optician"
        ],
        [
         "40",
         "health service manager"
        ],
        [
         "41",
         "clinical cytogeneticist"
        ],
        [
         "42",
         "sport administrator"
        ],
        [
         "43",
         "therapist    nutritional"
        ],
        [
         "44",
         "barrister   s clerk"
        ],
        [
         "45",
         "sound technician    broadcasting   film   video"
        ],
        [
         "46",
         "therapeutic radiographer"
        ],
        [
         "47",
         "engineer    electronic"
        ],
        [
         "48",
         "scientist    research    medical  "
        ],
        [
         "49",
         "surveyor    land   geomatic"
        ]
       ],
       "shape": {
        "columns": 1,
        "rows": 3000
       }
      },
      "text/plain": [
       "0                              chief technology officer\n",
       "1                                 designer    furniture\n",
       "2       sound technician    broadcasting   film   video\n",
       "3                                        air cabin crew\n",
       "4                                         art therapist\n",
       "                             ...                       \n",
       "2995                           psychologist    forensic\n",
       "2996                      operational investment banker\n",
       "2997                                 petroleum engineer\n",
       "2998                          housing manager   officer\n",
       "2999                           loss adjuster    charter\n",
       "Name: JobTitle, Length: 3000, dtype: object"
      ]
     },
     "execution_count": 81,
     "metadata": {},
     "output_type": "execute_result"
    }
   ],
   "source": [
    "# Use NLP on job title for clustering\n",
    "# !python -m spacy download en_core_web_sm\n",
    "\n",
    "# Load model\n",
    "nlp = spacy.load(\"en_core_web_sm\")\n",
    "\n",
    "# Remove Stopwords for job titles\n",
    "job_stopwords = set([\n",
    "    \"senior\", \"junior\", \"assistant\", \"lead\", \"principal\", \"intern\", \"trainee\"\n",
    "])\n",
    "\n",
    "def clean_jobtitle_advanced(title):\n",
    "    if pd.isna(title):\n",
    "        return \"\"\n",
    "    \n",
    "    title = title.lower()\n",
    "    title = re.sub(r'[^\\w\\s]', '  ', title)\n",
    "    \n",
    "    # Tokenize with spaCy\n",
    "    doc = nlp(title)\n",
    "    tokens = []\n",
    "    for token in doc:\n",
    "        if token.text in job_stopwords:\n",
    "            continue  # remove stopwords\n",
    "        lemma = token.lemma_  # lemmatize\n",
    "        tokens.append(lemma)\n",
    "    \n",
    "    return \" \".join(tokens)\n",
    "\n",
    "clean_recruit['JobTitle'] = clean_recruit['JobTitle'].apply(clean_jobtitle_advanced)\n",
    "clean_recruit['JobTitle']\n"
   ]
  },
  {
   "cell_type": "code",
   "execution_count": 82,
   "id": "63db7e64",
   "metadata": {},
   "outputs": [],
   "source": [
    "clean_recruit.to_csv('data/cleaned_recruitment_data.csv', index=False)"
   ]
  },
  {
   "cell_type": "markdown",
   "id": "6307fa1a",
   "metadata": {},
   "source": [
    "## Engagement Data"
   ]
  },
  {
   "cell_type": "code",
   "execution_count": 83,
   "id": "a42dacf8",
   "metadata": {},
   "outputs": [
    {
     "name": "stdout",
     "output_type": "stream",
     "text": [
      "<class 'pandas.core.frame.DataFrame'>\n",
      "RangeIndex: 3000 entries, 0 to 2999\n",
      "Data columns (total 5 columns):\n",
      " #   Column                Non-Null Count  Dtype \n",
      "---  ------                --------------  ----- \n",
      " 0   EmployeeID            3000 non-null   int64 \n",
      " 1   SurveyDate            3000 non-null   object\n",
      " 2   EngagementScore       3000 non-null   int64 \n",
      " 3   SatisfactionScore     3000 non-null   int64 \n",
      " 4   WorkLifeBalanceScore  3000 non-null   int64 \n",
      "dtypes: int64(4), object(1)\n",
      "memory usage: 117.3+ KB\n"
     ]
    }
   ],
   "source": [
    "engagement_df.info()"
   ]
  },
  {
   "cell_type": "code",
   "execution_count": 84,
   "id": "444a5ffe",
   "metadata": {},
   "outputs": [
    {
     "data": {
      "application/vnd.microsoft.datawrangler.viewer.v0+json": {
       "columns": [
        {
         "name": "index",
         "rawType": "int64",
         "type": "integer"
        },
        {
         "name": "EmployeeID",
         "rawType": "int64",
         "type": "integer"
        },
        {
         "name": "SurveyDate",
         "rawType": "datetime64[ns]",
         "type": "datetime"
        },
        {
         "name": "EngagementScore",
         "rawType": "int64",
         "type": "integer"
        },
        {
         "name": "SatisfactionScore",
         "rawType": "int64",
         "type": "integer"
        },
        {
         "name": "WorkLifeBalanceScore",
         "rawType": "int64",
         "type": "integer"
        }
       ],
       "ref": "7f65ad32-e9e3-4f5f-8e4c-f7c459a90989",
       "rows": [
        [
         "0",
         "1001",
         "2022-10-10 00:00:00",
         "2",
         "5",
         "5"
        ],
        [
         "1",
         "1002",
         "2023-08-03 00:00:00",
         "4",
         "5",
         "3"
        ],
        [
         "2",
         "1003",
         "2023-01-03 00:00:00",
         "2",
         "5",
         "2"
        ],
        [
         "3",
         "1004",
         "2023-07-30 00:00:00",
         "3",
         "5",
         "3"
        ],
        [
         "4",
         "1005",
         "2023-06-19 00:00:00",
         "2",
         "4",
         "5"
        ]
       ],
       "shape": {
        "columns": 5,
        "rows": 5
       }
      },
      "text/html": [
       "<div>\n",
       "<style scoped>\n",
       "    .dataframe tbody tr th:only-of-type {\n",
       "        vertical-align: middle;\n",
       "    }\n",
       "\n",
       "    .dataframe tbody tr th {\n",
       "        vertical-align: top;\n",
       "    }\n",
       "\n",
       "    .dataframe thead th {\n",
       "        text-align: right;\n",
       "    }\n",
       "</style>\n",
       "<table border=\"1\" class=\"dataframe\">\n",
       "  <thead>\n",
       "    <tr style=\"text-align: right;\">\n",
       "      <th></th>\n",
       "      <th>EmployeeID</th>\n",
       "      <th>SurveyDate</th>\n",
       "      <th>EngagementScore</th>\n",
       "      <th>SatisfactionScore</th>\n",
       "      <th>WorkLifeBalanceScore</th>\n",
       "    </tr>\n",
       "  </thead>\n",
       "  <tbody>\n",
       "    <tr>\n",
       "      <th>0</th>\n",
       "      <td>1001</td>\n",
       "      <td>2022-10-10</td>\n",
       "      <td>2</td>\n",
       "      <td>5</td>\n",
       "      <td>5</td>\n",
       "    </tr>\n",
       "    <tr>\n",
       "      <th>1</th>\n",
       "      <td>1002</td>\n",
       "      <td>2023-08-03</td>\n",
       "      <td>4</td>\n",
       "      <td>5</td>\n",
       "      <td>3</td>\n",
       "    </tr>\n",
       "    <tr>\n",
       "      <th>2</th>\n",
       "      <td>1003</td>\n",
       "      <td>2023-01-03</td>\n",
       "      <td>2</td>\n",
       "      <td>5</td>\n",
       "      <td>2</td>\n",
       "    </tr>\n",
       "    <tr>\n",
       "      <th>3</th>\n",
       "      <td>1004</td>\n",
       "      <td>2023-07-30</td>\n",
       "      <td>3</td>\n",
       "      <td>5</td>\n",
       "      <td>3</td>\n",
       "    </tr>\n",
       "    <tr>\n",
       "      <th>4</th>\n",
       "      <td>1005</td>\n",
       "      <td>2023-06-19</td>\n",
       "      <td>2</td>\n",
       "      <td>4</td>\n",
       "      <td>5</td>\n",
       "    </tr>\n",
       "  </tbody>\n",
       "</table>\n",
       "</div>"
      ],
      "text/plain": [
       "   EmployeeID SurveyDate  EngagementScore  SatisfactionScore  \\\n",
       "0        1001 2022-10-10                2                  5   \n",
       "1        1002 2023-08-03                4                  5   \n",
       "2        1003 2023-01-03                2                  5   \n",
       "3        1004 2023-07-30                3                  5   \n",
       "4        1005 2023-06-19                2                  4   \n",
       "\n",
       "   WorkLifeBalanceScore  \n",
       "0                     5  \n",
       "1                     3  \n",
       "2                     2  \n",
       "3                     3  \n",
       "4                     5  "
      ]
     },
     "execution_count": 84,
     "metadata": {},
     "output_type": "execute_result"
    }
   ],
   "source": [
    "# Parse date data\n",
    "engagement_df['SurveyDate'] = pd.to_datetime(engagement_df['SurveyDate'], dayfirst=True, errors='coerce')\n",
    "engagement_df.head()"
   ]
  },
  {
   "cell_type": "code",
   "execution_count": 85,
   "id": "a795e410",
   "metadata": {},
   "outputs": [
    {
     "name": "stdout",
     "output_type": "stream",
     "text": [
      "Number of duplicated EmpID rows: 0\n"
     ]
    }
   ],
   "source": [
    "# Check duplicate\n",
    "dup_engagement = engagement_df[engagement_df.duplicated('EmployeeID', keep=False)]\n",
    "print(f\"Number of duplicated EmpID rows: {len(dup_engagement)}\")\n"
   ]
  },
  {
   "cell_type": "code",
   "execution_count": 86,
   "id": "ee213462",
   "metadata": {},
   "outputs": [
    {
     "data": {
      "image/png": "[encoded data removed]",
      "text/plain": [
       "<Figure size 1000x500 with 3 Axes>"
      ]
     },
     "metadata": {},
     "output_type": "display_data"
    }
   ],
   "source": [
    "# Check missing data \n",
    "msno.bar(engagement_df, figsize=(10, 5), fontsize=8)\n",
    "plt.show()"
   ]
  },
  {
   "cell_type": "markdown",
   "id": "ba383296",
   "metadata": {},
   "source": [
    "## Training and Development Data"
   ]
  },
  {
   "cell_type": "code",
   "execution_count": 88,
   "id": "415c7c5d",
   "metadata": {},
   "outputs": [
    {
     "name": "stdout",
     "output_type": "stream",
     "text": [
      "<class 'pandas.core.frame.DataFrame'>\n",
      "RangeIndex: 3000 entries, 0 to 2999\n",
      "Data columns (total 9 columns):\n",
      " #   Column                Non-Null Count  Dtype  \n",
      "---  ------                --------------  -----  \n",
      " 0   EmployeeID            3000 non-null   int64  \n",
      " 1   TrainingDate          3000 non-null   object \n",
      " 2   TrainingProgramName   3000 non-null   object \n",
      " 3   TrainingType          3000 non-null   object \n",
      " 4   TrainingOutcome       3000 non-null   object \n",
      " 5   Location              3000 non-null   object \n",
      " 6   Trainer               3000 non-null   object \n",
      " 7   TrainingDurationDays  3000 non-null   int64  \n",
      " 8   TrainingCost          3000 non-null   float64\n",
      "dtypes: float64(1), int64(2), object(6)\n",
      "memory usage: 211.1+ KB\n"
     ]
    }
   ],
   "source": [
    "training_df.info()"
   ]
  },
  {
   "cell_type": "code",
   "execution_count": 89,
   "id": "f36bee47",
   "metadata": {},
   "outputs": [
    {
     "name": "stdout",
     "output_type": "stream",
     "text": [
      "Number of duplicated EmpID rows: 0\n"
     ]
    }
   ],
   "source": [
    "# Check duplicate\n",
    "dup_training = training_df[training_df.duplicated('EmployeeID', keep=False)]\n",
    "print(f\"Number of duplicated EmpID rows: {len(dup_training)}\")"
   ]
  },
  {
   "cell_type": "code",
   "execution_count": 91,
   "id": "824d9b32",
   "metadata": {},
   "outputs": [
    {
     "data": {
      "application/vnd.microsoft.datawrangler.viewer.v0+json": {
       "columns": [
        {
         "name": "index",
         "rawType": "int64",
         "type": "integer"
        },
        {
         "name": "EmployeeID",
         "rawType": "int64",
         "type": "integer"
        },
        {
         "name": "TrainingDate",
         "rawType": "datetime64[ns]",
         "type": "datetime"
        },
        {
         "name": "TrainingProgramName",
         "rawType": "object",
         "type": "string"
        },
        {
         "name": "TrainingType",
         "rawType": "object",
         "type": "string"
        },
        {
         "name": "TrainingOutcome",
         "rawType": "object",
         "type": "string"
        },
        {
         "name": "Location",
         "rawType": "object",
         "type": "string"
        },
        {
         "name": "Trainer",
         "rawType": "object",
         "type": "string"
        },
        {
         "name": "TrainingDurationDays",
         "rawType": "int64",
         "type": "integer"
        },
        {
         "name": "TrainingCost",
         "rawType": "float64",
         "type": "float"
        }
       ],
       "ref": "8d54fb6b-d2c6-4136-aa04-c4d879a1446c",
       "rows": [
        [
         "0",
         "1001",
         "2022-09-21 00:00:00",
         "Customer Service",
         "Internal",
         "Failed",
         "Port Greg",
         "Amanda Daniels",
         "4",
         "510.83"
        ],
        [
         "1",
         "1002",
         "2023-07-19 00:00:00",
         "Leadership Development",
         "Internal",
         "Failed",
         "Brandonview",
         "Brittany Chambers",
         "2",
         "582.37"
        ],
        [
         "2",
         "1003",
         "2023-02-24 00:00:00",
         "Technical Skills",
         "Internal",
         "Incomplete",
         "Port Briannahaven",
         "Mark Roberson",
         "4",
         "777.06"
        ],
        [
         "3",
         "1004",
         "2023-01-12 00:00:00",
         "Customer Service",
         "Internal",
         "Completed",
         "Knightborough",
         "Richard Fisher",
         "2",
         "824.3"
        ],
        [
         "4",
         "1005",
         "2023-05-12 00:00:00",
         "Communication Skills",
         "External",
         "Passed",
         "Bruceshire",
         "Heather Shaffer",
         "4",
         "145.99"
        ]
       ],
       "shape": {
        "columns": 9,
        "rows": 5
       }
      },
      "text/html": [
       "<div>\n",
       "<style scoped>\n",
       "    .dataframe tbody tr th:only-of-type {\n",
       "        vertical-align: middle;\n",
       "    }\n",
       "\n",
       "    .dataframe tbody tr th {\n",
       "        vertical-align: top;\n",
       "    }\n",
       "\n",
       "    .dataframe thead th {\n",
       "        text-align: right;\n",
       "    }\n",
       "</style>\n",
       "<table border=\"1\" class=\"dataframe\">\n",
       "  <thead>\n",
       "    <tr style=\"text-align: right;\">\n",
       "      <th></th>\n",
       "      <th>EmployeeID</th>\n",
       "      <th>TrainingDate</th>\n",
       "      <th>TrainingProgramName</th>\n",
       "      <th>TrainingType</th>\n",
       "      <th>TrainingOutcome</th>\n",
       "      <th>Location</th>\n",
       "      <th>Trainer</th>\n",
       "      <th>TrainingDurationDays</th>\n",
       "      <th>TrainingCost</th>\n",
       "    </tr>\n",
       "  </thead>\n",
       "  <tbody>\n",
       "    <tr>\n",
       "      <th>0</th>\n",
       "      <td>1001</td>\n",
       "      <td>2022-09-21</td>\n",
       "      <td>Customer Service</td>\n",
       "      <td>Internal</td>\n",
       "      <td>Failed</td>\n",
       "      <td>Port Greg</td>\n",
       "      <td>Amanda Daniels</td>\n",
       "      <td>4</td>\n",
       "      <td>510.83</td>\n",
       "    </tr>\n",
       "    <tr>\n",
       "      <th>1</th>\n",
       "      <td>1002</td>\n",
       "      <td>2023-07-19</td>\n",
       "      <td>Leadership Development</td>\n",
       "      <td>Internal</td>\n",
       "      <td>Failed</td>\n",
       "      <td>Brandonview</td>\n",
       "      <td>Brittany Chambers</td>\n",
       "      <td>2</td>\n",
       "      <td>582.37</td>\n",
       "    </tr>\n",
       "    <tr>\n",
       "      <th>2</th>\n",
       "      <td>1003</td>\n",
       "      <td>2023-02-24</td>\n",
       "      <td>Technical Skills</td>\n",
       "      <td>Internal</td>\n",
       "      <td>Incomplete</td>\n",
       "      <td>Port Briannahaven</td>\n",
       "      <td>Mark Roberson</td>\n",
       "      <td>4</td>\n",
       "      <td>777.06</td>\n",
       "    </tr>\n",
       "    <tr>\n",
       "      <th>3</th>\n",
       "      <td>1004</td>\n",
       "      <td>2023-01-12</td>\n",
       "      <td>Customer Service</td>\n",
       "      <td>Internal</td>\n",
       "      <td>Completed</td>\n",
       "      <td>Knightborough</td>\n",
       "      <td>Richard Fisher</td>\n",
       "      <td>2</td>\n",
       "      <td>824.30</td>\n",
       "    </tr>\n",
       "    <tr>\n",
       "      <th>4</th>\n",
       "      <td>1005</td>\n",
       "      <td>2023-05-12</td>\n",
       "      <td>Communication Skills</td>\n",
       "      <td>External</td>\n",
       "      <td>Passed</td>\n",
       "      <td>Bruceshire</td>\n",
       "      <td>Heather Shaffer</td>\n",
       "      <td>4</td>\n",
       "      <td>145.99</td>\n",
       "    </tr>\n",
       "  </tbody>\n",
       "</table>\n",
       "</div>"
      ],
      "text/plain": [
       "   EmployeeID TrainingDate     TrainingProgramName TrainingType  \\\n",
       "0        1001   2022-09-21        Customer Service     Internal   \n",
       "1        1002   2023-07-19  Leadership Development     Internal   \n",
       "2        1003   2023-02-24        Technical Skills     Internal   \n",
       "3        1004   2023-01-12        Customer Service     Internal   \n",
       "4        1005   2023-05-12    Communication Skills     External   \n",
       "\n",
       "  TrainingOutcome           Location            Trainer  TrainingDurationDays  \\\n",
       "0          Failed          Port Greg     Amanda Daniels                     4   \n",
       "1          Failed        Brandonview  Brittany Chambers                     2   \n",
       "2      Incomplete  Port Briannahaven      Mark Roberson                     4   \n",
       "3       Completed      Knightborough     Richard Fisher                     2   \n",
       "4          Passed         Bruceshire    Heather Shaffer                     4   \n",
       "\n",
       "   TrainingCost  \n",
       "0        510.83  \n",
       "1        582.37  \n",
       "2        777.06  \n",
       "3        824.30  \n",
       "4        145.99  "
      ]
     },
     "execution_count": 91,
     "metadata": {},
     "output_type": "execute_result"
    }
   ],
   "source": [
    "# Parse date data\n",
    "training_df['TrainingDate'] = pd.to_datetime(training_df['TrainingDate'], dayfirst=True, errors='coerce')\n",
    "training_df.head()"
   ]
  },
  {
   "cell_type": "code",
   "execution_count": 92,
   "id": "7947ce8a",
   "metadata": {},
   "outputs": [
    {
     "name": "stdout",
     "output_type": "stream",
     "text": [
      "Column: EmployeeID\n",
      "Unique values (3000): [1001 1002 1003 ... 3998 3999 4000]\n",
      "\n",
      "Column: TrainingDate\n",
      "Unique values (366): <DatetimeArray>\n",
      "['2022-09-21 00:00:00', '2023-07-19 00:00:00', '2023-02-24 00:00:00',\n",
      " '2023-01-12 00:00:00', '2023-05-12 00:00:00', '2023-05-08 00:00:00',\n",
      " '2023-05-14 00:00:00', '2023-08-02 00:00:00', '2022-08-21 00:00:00',\n",
      " '2022-08-19 00:00:00',\n",
      " ...\n",
      " '2022-10-29 00:00:00', '2022-08-27 00:00:00', '2023-02-12 00:00:00',\n",
      " '2023-02-07 00:00:00', '2022-12-18 00:00:00', '2022-10-28 00:00:00',\n",
      " '2022-08-28 00:00:00', '2023-07-12 00:00:00', '2023-07-11 00:00:00',\n",
      " '2023-01-22 00:00:00']\n",
      "Length: 366, dtype: datetime64[ns]\n",
      "\n",
      "Column: TrainingProgramName\n",
      "Unique values (5): ['Customer Service' 'Leadership Development' 'Technical Skills'\n",
      " 'Communication Skills' 'Project Management']\n",
      "\n",
      "Column: TrainingType\n",
      "Unique values (2): ['Internal' 'External']\n",
      "\n",
      "Column: TrainingOutcome\n",
      "Unique values (4): ['Failed' 'Incomplete' 'Completed' 'Passed']\n",
      "\n",
      "Column: Location\n",
      "Unique values (2738): ['Port Greg' 'Brandonview' 'Port Briannahaven' ... 'West Zachary'\n",
      " 'Williamsland' 'Jamesfurt']\n",
      "\n",
      "Column: Trainer\n",
      "Unique values (2942): ['Amanda Daniels' 'Brittany Chambers' 'Mark Roberson' ...\n",
      " 'Andre Donaldson' 'Brian Obrien' 'Michael Mckenzie']\n",
      "\n",
      "Column: TrainingDurationDays\n",
      "Unique values (5): [4 2 5 1 3]\n",
      "\n",
      "Column: TrainingCost\n",
      "Unique values (2965): [510.83 582.37 777.06 ... 994.09 477.78 951.27]\n",
      "\n"
     ]
    }
   ],
   "source": [
    "# Check unique values in each column\n",
    "for col in training_df.columns:\n",
    "    unique_vals = training_df[col].unique()\n",
    "    print(f\"Column: {col}\")\n",
    "    print(f\"Unique values ({len(unique_vals)}): {unique_vals}\\n\")\n",
    "    "
   ]
  },
  {
   "cell_type": "code",
   "execution_count": null,
   "id": "c2469ae1",
   "metadata": {},
   "outputs": [],
   "source": []
  }
 ],
 "metadata": {
  "kernelspec": {
   "display_name": ".venv",
   "language": "python",
   "name": "python3"
  },
  "language_info": {
   "codemirror_mode": {
    "name": "ipython",
    "version": 3
   },
   "file_extension": ".py",
   "mimetype": "text/x-python",
   "name": "python",
   "nbconvert_exporter": "python",
   "pygments_lexer": "ipython3",
   "version": "3.11.8"
  }
 },
 "nbformat": 4,
 "nbformat_minor": 5
}
